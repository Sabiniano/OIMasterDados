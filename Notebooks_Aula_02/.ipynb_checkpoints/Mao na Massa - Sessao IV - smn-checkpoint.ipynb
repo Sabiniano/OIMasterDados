{
 "cells": [
  {
   "cell_type": "markdown",
   "id": "14cbd533",
   "metadata": {},
   "source": [
    "# 4ª Sessão “Mão na Massa” (tempo: 10 minutos)"
   ]
  },
  {
   "cell_type": "markdown",
   "id": "ec9c6750",
   "metadata": {},
   "source": [
    "## Implemente esse racional no Python:"
   ]
  },
  {
   "cell_type": "markdown",
   "id": "2968a403",
   "metadata": {},
   "source": [
    "### a) Atribua 500 para a variável “valor”. Se valor for maior que 500, imprima “Grande” na tela. Se o valor estiver entre 300 e 500, imprima “Médio” na tela. Se o valor for menor que 300, imprima “Pequeno” na tela. Altere o conteúdo da variável valor, para ver como o resultado se comporta.\n"
   ]
  },
  {
   "cell_type": "code",
   "execution_count": 3,
   "id": "d0d8b971",
   "metadata": {},
   "outputs": [
    {
     "name": "stdout",
     "output_type": "stream",
     "text": [
      "Pequeno\n"
     ]
    }
   ],
   "source": [
    "valor = 200\n",
    "if (valor > 500):\n",
    "    print(\"Grande\")\n",
    "elif (valor >= 300) and (valor <= 500):\n",
    "    print(\"Médio\")\n",
    "elif (valor < 300):\n",
    "    print(\"Pequeno\")\n"
   ]
  },
  {
   "cell_type": "markdown",
   "id": "6b65fcd5",
   "metadata": {},
   "source": [
    "### b) Como ficaria esse código se você tivesse que incluir uma 4ª condição, valor<0 e mostrar o valor “Negativo” na tela?"
   ]
  },
  {
   "cell_type": "code",
   "execution_count": 8,
   "id": "1c0bcf2b",
   "metadata": {},
   "outputs": [
    {
     "name": "stdout",
     "output_type": "stream",
     "text": [
      "Negativo  -100\n"
     ]
    }
   ],
   "source": [
    "valor = -100\n",
    "if (valor > 500):\n",
    "    print(\"Grande\")\n",
    "elif (valor >= 300) and (valor <= 500):\n",
    "    print(\"Médio\")\n",
    "elif (valor < 300 and valor >= 0):\n",
    "    print(\"Pequeno\")\n",
    "else:\n",
    "    print(\"Negativo \", valor)\n"
   ]
  },
  {
   "cell_type": "markdown",
   "id": "557b52bb",
   "metadata": {},
   "source": [
    "### c) Crie um código usando estruturas condicionais para classificar essa lista de veículos em carro , moto ou inválido: “Fusca”, “Maverick”, “Toro”, “CG 160 Titan”, “Abacaxi”, “Biz 125”, “Cerato”, “Kawasaki Z 250”. "
   ]
  },
  {
   "cell_type": "code",
   "execution_count": 13,
   "id": "f2a0d12b",
   "metadata": {},
   "outputs": [
    {
     "name": "stdout",
     "output_type": "stream",
     "text": [
      "Qual a sua escolha? fusca\n",
      "inválido:  fusca\n"
     ]
    }
   ],
   "source": [
    "veiculos = [\"Fusca\", \"Maverick\", \"Toro\", \"CG 160 Titan\", \"Abacaxi\", \"Biz 125\", \"Cerato\", \"Kawasaki Z 250\"]\n",
    "carros = [veiculos[0], veiculos[1], veiculos[2], veiculos[6]]\n",
    "motos = [veiculos[3], veiculos[5], veiculos[7]]\n",
    "escolha = input(\"Qual a sua escolha? \")\n",
    "if (escolha in carros):\n",
    "    print(\"carro: \", escolha)\n",
    "elif (escolha in motos):\n",
    "    print(\"moto: \", escolha)\n",
    "else:\n",
    "    print(\"inválido: \", escolha)"
   ]
  },
  {
   "cell_type": "code",
   "execution_count": null,
   "id": "ab38c56b",
   "metadata": {},
   "outputs": [],
   "source": []
  }
 ],
 "metadata": {
  "kernelspec": {
   "display_name": "Python 3 (ipykernel)",
   "language": "python",
   "name": "python3"
  },
  "language_info": {
   "codemirror_mode": {
    "name": "ipython",
    "version": 3
   },
   "file_extension": ".py",
   "mimetype": "text/x-python",
   "name": "python",
   "nbconvert_exporter": "python",
   "pygments_lexer": "ipython3",
   "version": "3.9.7"
  }
 },
 "nbformat": 4,
 "nbformat_minor": 5
}
