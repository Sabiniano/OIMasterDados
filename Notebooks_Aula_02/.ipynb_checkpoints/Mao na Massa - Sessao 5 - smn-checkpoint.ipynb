{
 "cells": [
  {
   "cell_type": "markdown",
   "id": "05aa415d",
   "metadata": {},
   "source": [
    "# 5ª Sessão “Mão na Massa” (tempo: 15 minutos)"
   ]
  },
  {
   "cell_type": "markdown",
   "id": "97b74f8b",
   "metadata": {},
   "source": [
    "## Realize as seguintes atividades usando um notebook Jupyter"
   ]
  },
  {
   "cell_type": "markdown",
   "id": "0459cf97",
   "metadata": {},
   "source": [
    "### a) Crie uma lista com os números 1,3,5,7,9,11,13,15,17,19 e 21. a.1) Qual o tamanho da lista? a.2) Qual o máximo valor da lista? a.3) Qual a média dos elementos dessa lista? a.4) Ordene a lista em ordem decrescente. a.5) Adicione o elemento 10 a essa lista."
   ]
  },
  {
   "cell_type": "code",
   "execution_count": 11,
   "id": "30632296",
   "metadata": {},
   "outputs": [
    {
     "name": "stdout",
     "output_type": "stream",
     "text": [
      "[1, 3, 5, 7, 9, 11, 13, 15, 17, 19, 21]\n",
      "11\n",
      "21\n",
      "11.0\n",
      "[21, 19, 17, 15, 13, 11, 9, 7, 5, 3, 1]\n",
      "[1, 3, 5, 7, 9, 11, 13, 15, 17, 19, 21, 10]\n"
     ]
    }
   ],
   "source": [
    "# a) Crie uma lista com os números 1,3,5,7,9,11,13,15,17,19 e 21.\n",
    "lista1 = [1, 3, 5, 7, 9, 11, 13, 15, 17, 19, 21]\n",
    "print(lista1)\n",
    "\n",
    "# a.1) Qual o tamanho da lista?\n",
    "print(len(lista1))\n",
    "\n",
    "# a.2) Qual o máximo valor da lista?\n",
    "print(max(lista1))\n",
    "\n",
    "# a.3) Qual a média dos elementos dessa lista?\n",
    "print(sum(lista1) / len(lista1))\n",
    "\n",
    "# a.4) Ordene a lista em ordem decrescente.\n",
    "print(sorted(lista1, reverse = True))\n",
    "\n",
    "# a.5) Adicione o elemento 10 a essa lista.\n",
    "lista1.append(10)\n",
    "print(lista1)\n",
    "    "
   ]
  },
  {
   "cell_type": "markdown",
   "id": "5b4f7a2f",
   "metadata": {},
   "source": [
    "### b) Considere os conjuntos A= {100,200,300,500,600,800), B={150,200,250,350,400,500) e C={300,200}. b.1) Qual a soma dos valores do conjunto D que é a intersecção de A, B e C? b.2) Qual a média da união dos elementos desses 3 conjuntos?\n"
   ]
  },
  {
   "cell_type": "code",
   "execution_count": 15,
   "id": "7fd93777",
   "metadata": {},
   "outputs": [],
   "source": [
    "# b) Considere os conjuntos A= {100,200,300,500,600,800), B={150,200,250,350,400,500) e C={300,200}.\n",
    "A = {100, 200, 300, 500, 600, 800}\n",
    "B = {150, 200, 250, 350, 400, 500}\n",
    "C = {300, 200}"
   ]
  },
  {
   "cell_type": "code",
   "execution_count": 16,
   "id": "92b9931f",
   "metadata": {},
   "outputs": [
    {
     "name": "stdout",
     "output_type": "stream",
     "text": [
      "{200}\n"
     ]
    },
    {
     "data": {
      "text/plain": [
       "200"
      ]
     },
     "execution_count": 16,
     "metadata": {},
     "output_type": "execute_result"
    }
   ],
   "source": [
    "# b.1) Qual a soma dos valores do conjunto D que é a intersecção de A, B e C?\n",
    "D = A & B & C\n",
    "print(D)\n",
    "sum(D)"
   ]
  },
  {
   "cell_type": "code",
   "execution_count": 20,
   "id": "982ef322",
   "metadata": {},
   "outputs": [
    {
     "name": "stdout",
     "output_type": "stream",
     "text": [
      "{800, 100, 200, 300, 400, 500, 150, 600, 250, 350}\n",
      "365.0\n"
     ]
    }
   ],
   "source": [
    "# b.2) Qual a média da união dos elementos desses 3 conjuntos?\n",
    "E = A | B | C\n",
    "print(E)\n",
    "print(sum(E) / len(E))\n"
   ]
  },
  {
   "cell_type": "markdown",
   "id": "0d9e273b",
   "metadata": {},
   "source": [
    "## c) Crie um dicionário com chaves & valores associados à população dos estados do Sul do Brasil. Qual a média dos\n",
    "valores desse dicionário?"
   ]
  },
  {
   "cell_type": "code",
   "execution_count": 1,
   "id": "c9bf8350",
   "metadata": {},
   "outputs": [
    {
     "data": {
      "text/plain": [
       "['__add__',\n",
       " '__class__',\n",
       " '__class_getitem__',\n",
       " '__contains__',\n",
       " '__delattr__',\n",
       " '__delitem__',\n",
       " '__dir__',\n",
       " '__doc__',\n",
       " '__eq__',\n",
       " '__format__',\n",
       " '__ge__',\n",
       " '__getattribute__',\n",
       " '__getitem__',\n",
       " '__gt__',\n",
       " '__hash__',\n",
       " '__iadd__',\n",
       " '__imul__',\n",
       " '__init__',\n",
       " '__init_subclass__',\n",
       " '__iter__',\n",
       " '__le__',\n",
       " '__len__',\n",
       " '__lt__',\n",
       " '__mul__',\n",
       " '__ne__',\n",
       " '__new__',\n",
       " '__reduce__',\n",
       " '__reduce_ex__',\n",
       " '__repr__',\n",
       " '__reversed__',\n",
       " '__rmul__',\n",
       " '__setattr__',\n",
       " '__setitem__',\n",
       " '__sizeof__',\n",
       " '__str__',\n",
       " '__subclasshook__',\n",
       " 'append',\n",
       " 'clear',\n",
       " 'copy',\n",
       " 'count',\n",
       " 'extend',\n",
       " 'index',\n",
       " 'insert',\n",
       " 'pop',\n",
       " 'remove',\n",
       " 'reverse',\n",
       " 'sort']"
      ]
     },
     "execution_count": 1,
     "metadata": {},
     "output_type": "execute_result"
    }
   ],
   "source": [
    "dir(list)"
   ]
  },
  {
   "cell_type": "code",
   "execution_count": null,
   "id": "1ae63153",
   "metadata": {},
   "outputs": [],
   "source": []
  }
 ],
 "metadata": {
  "kernelspec": {
   "display_name": "Python 3 (ipykernel)",
   "language": "python",
   "name": "python3"
  },
  "language_info": {
   "codemirror_mode": {
    "name": "ipython",
    "version": 3
   },
   "file_extension": ".py",
   "mimetype": "text/x-python",
   "name": "python",
   "nbconvert_exporter": "python",
   "pygments_lexer": "ipython3",
   "version": "3.9.7"
  }
 },
 "nbformat": 4,
 "nbformat_minor": 5
}
