{
 "cells": [
  {
   "cell_type": "markdown",
   "id": "33dce47f",
   "metadata": {},
   "source": [
    "# 3ª Sessão “Mão na Massa” (tempo: 10 minutos)\n",
    "## Qual o resultado das seguintes expressões (teste cada uma delas em Python), avaliadas em um notebook chamado Mão na Massa – Sessão III:\n"
   ]
  },
  {
   "cell_type": "markdown",
   "id": "1d0a3142",
   "metadata": {},
   "source": [
    "### a) Crie um notebook do zero, renomeando-o para Mão na Massa – Sessão III"
   ]
  },
  {
   "cell_type": "markdown",
   "id": "7d1a5c0b",
   "metadata": {},
   "source": [
    "### b) valor=100, valor+=120"
   ]
  },
  {
   "cell_type": "code",
   "execution_count": 1,
   "id": "1c30473d",
   "metadata": {},
   "outputs": [
    {
     "name": "stdout",
     "output_type": "stream",
     "text": [
      "220\n"
     ]
    }
   ],
   "source": [
    "valor = 100\n",
    "valor += 120\n",
    "print(valor)"
   ]
  },
  {
   "cell_type": "markdown",
   "id": "2184a818",
   "metadata": {},
   "source": [
    "### c) valor=50, valor/=12"
   ]
  },
  {
   "cell_type": "code",
   "execution_count": 2,
   "id": "11de73d4",
   "metadata": {},
   "outputs": [
    {
     "name": "stdout",
     "output_type": "stream",
     "text": [
      "4.166666666666667\n"
     ]
    }
   ],
   "source": [
    "valor = 50\n",
    "valor /= 12\n",
    "print(valor)"
   ]
  },
  {
   "cell_type": "markdown",
   "id": "20c60ae4",
   "metadata": {},
   "source": [
    "### d) Valor=100, valor*=30"
   ]
  },
  {
   "cell_type": "code",
   "execution_count": 3,
   "id": "8da2125a",
   "metadata": {},
   "outputs": [
    {
     "name": "stdout",
     "output_type": "stream",
     "text": [
      "3000\n"
     ]
    }
   ],
   "source": [
    "valor = 100\n",
    "valor *= 30\n",
    "print(valor)"
   ]
  },
  {
   "cell_type": "markdown",
   "id": "06e67b08",
   "metadata": {},
   "source": [
    "### d) Dado que valor1=50, valor2=150, como vc avalia valor1<=50 and valor2>30?"
   ]
  },
  {
   "cell_type": "code",
   "execution_count": 2,
   "id": "71b8035e",
   "metadata": {},
   "outputs": [
    {
     "data": {
      "text/plain": [
       "True"
      ]
     },
     "execution_count": 2,
     "metadata": {},
     "output_type": "execute_result"
    }
   ],
   "source": [
    "valor1 = 50\n",
    "valor2 = 150\n",
    "valor1 <= 50 and valor2 >= 30\n",
    "    "
   ]
  },
  {
   "cell_type": "markdown",
   "id": "5b5a5ee2",
   "metadata": {},
   "source": [
    "### e) Dado que valor1=-20, valor2=1, como vc avalia valor1>0 or valor2=0?"
   ]
  },
  {
   "cell_type": "code",
   "execution_count": 7,
   "id": "8790c4b0",
   "metadata": {},
   "outputs": [
    {
     "data": {
      "text/plain": [
       "False"
      ]
     },
     "execution_count": 7,
     "metadata": {},
     "output_type": "execute_result"
    }
   ],
   "source": [
    "valor1 = -20\n",
    "valor2 = 1\n",
    "valor1 > 0 or valor2 == 0"
   ]
  },
  {
   "cell_type": "markdown",
   "id": "7b5cef12",
   "metadata": {},
   "source": [
    "### f) Dado que valor1=50, valor2=0, como vc avalia valor1-valor2>1 and valor1+valor2>0?"
   ]
  },
  {
   "cell_type": "code",
   "execution_count": 8,
   "id": "bdb09aa6",
   "metadata": {},
   "outputs": [
    {
     "data": {
      "text/plain": [
       "True"
      ]
     },
     "execution_count": 8,
     "metadata": {},
     "output_type": "execute_result"
    }
   ],
   "source": [
    "valor1 = 50\n",
    "valor2 = 0\n",
    "valor1 - valor2>1 and valor1 + valor2 > 0"
   ]
  },
  {
   "cell_type": "markdown",
   "id": "1c30d84a",
   "metadata": {},
   "source": [
    "### g) Se a condição(valor1+valor2)>0 for verdadeira, exiba a mensagem \"Verdade!\""
   ]
  },
  {
   "cell_type": "code",
   "execution_count": 9,
   "id": "9a1ff4d2",
   "metadata": {},
   "outputs": [
    {
     "name": "stdout",
     "output_type": "stream",
     "text": [
      "Verdade!\n"
     ]
    }
   ],
   "source": [
    "if (valor1 + valor2) > 0:\n",
    "    print(\"Verdade!\")"
   ]
  },
  {
   "cell_type": "markdown",
   "id": "59e8840c",
   "metadata": {},
   "source": [
    "### h) Se a condição not (valor2>0) for verdadeira, exiba a mensagem \"Verdade!\""
   ]
  },
  {
   "cell_type": "code",
   "execution_count": 13,
   "id": "79c6ec1d",
   "metadata": {},
   "outputs": [
    {
     "name": "stdout",
     "output_type": "stream",
     "text": [
      "Verdade!\n"
     ]
    }
   ],
   "source": [
    "if not(valor2 > 0):\n",
    "    print(\"Verdade!\")\n"
   ]
  },
  {
   "cell_type": "markdown",
   "id": "30617796",
   "metadata": {},
   "source": [
    "### i) Teste as seguintes condições no Python: T and F, F and F, F or F, T or F, T or T. O que você observou?"
   ]
  },
  {
   "cell_type": "code",
   "execution_count": 15,
   "id": "3d491590",
   "metadata": {},
   "outputs": [
    {
     "data": {
      "text/plain": [
       "False"
      ]
     },
     "execution_count": 15,
     "metadata": {},
     "output_type": "execute_result"
    }
   ],
   "source": [
    "True and False"
   ]
  },
  {
   "cell_type": "code",
   "execution_count": 16,
   "id": "e2febeaf",
   "metadata": {},
   "outputs": [
    {
     "data": {
      "text/plain": [
       "False"
      ]
     },
     "execution_count": 16,
     "metadata": {},
     "output_type": "execute_result"
    }
   ],
   "source": [
    "False and False"
   ]
  },
  {
   "cell_type": "code",
   "execution_count": 18,
   "id": "f572ffab",
   "metadata": {},
   "outputs": [
    {
     "data": {
      "text/plain": [
       "False"
      ]
     },
     "execution_count": 18,
     "metadata": {},
     "output_type": "execute_result"
    }
   ],
   "source": [
    "False or False"
   ]
  },
  {
   "cell_type": "code",
   "execution_count": 19,
   "id": "06bde8ec",
   "metadata": {},
   "outputs": [
    {
     "data": {
      "text/plain": [
       "True"
      ]
     },
     "execution_count": 19,
     "metadata": {},
     "output_type": "execute_result"
    }
   ],
   "source": [
    "True or False"
   ]
  },
  {
   "cell_type": "code",
   "execution_count": 20,
   "id": "181419a7",
   "metadata": {},
   "outputs": [
    {
     "data": {
      "text/plain": [
       "True"
      ]
     },
     "execution_count": 20,
     "metadata": {},
     "output_type": "execute_result"
    }
   ],
   "source": [
    "True or True"
   ]
  },
  {
   "cell_type": "code",
   "execution_count": null,
   "id": "ca457717",
   "metadata": {},
   "outputs": [],
   "source": []
  }
 ],
 "metadata": {
  "kernelspec": {
   "display_name": "Python 3 (ipykernel)",
   "language": "python",
   "name": "python3"
  },
  "language_info": {
   "codemirror_mode": {
    "name": "ipython",
    "version": 3
   },
   "file_extension": ".py",
   "mimetype": "text/x-python",
   "name": "python",
   "nbconvert_exporter": "python",
   "pygments_lexer": "ipython3",
   "version": "3.9.7"
  }
 },
 "nbformat": 4,
 "nbformat_minor": 5
}
