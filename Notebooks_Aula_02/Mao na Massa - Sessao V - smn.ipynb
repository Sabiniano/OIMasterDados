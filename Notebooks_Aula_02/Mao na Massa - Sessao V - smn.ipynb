{
 "cells": [
  {
   "cell_type": "markdown",
   "id": "55ddd83f",
   "metadata": {},
   "source": [
    "# 5ª Sessão “Mão na Massa” (tempo: 15 minutos)"
   ]
  },
  {
   "cell_type": "markdown",
   "id": "0409b713",
   "metadata": {},
   "source": [
    "## Realize as seguintes atividades usando um notebook Jupyter"
   ]
  },
  {
   "cell_type": "markdown",
   "id": "4185c650",
   "metadata": {},
   "source": [
    "### a) Crie uma lista com os números 1,3,5,7,9,11,13,15,17,19 e 21. a.1) Qual o tamanho da lista? a.2) Qual o máximo valor da lista? a.3) Qual a média dos elementos dessa lista? a.4) Ordene a lista em ordem decrescente. a.5) Adicione o elemento 10 a essa lista."
   ]
  },
  {
   "cell_type": "code",
   "execution_count": 11,
   "id": "60bb1d47",
   "metadata": {},
   "outputs": [
    {
     "name": "stdout",
     "output_type": "stream",
     "text": [
      "[1, 3, 5, 7, 9, 11, 13, 15, 17, 19, 21]\n",
      "11\n",
      "21\n",
      "11.0\n",
      "[21, 19, 17, 15, 13, 11, 9, 7, 5, 3, 1]\n",
      "[1, 3, 5, 7, 9, 11, 13, 15, 17, 19, 21, 10]\n"
     ]
    }
   ],
   "source": [
    "# a) Crie uma lista com os números 1,3,5,7,9,11,13,15,17,19 e 21.\n",
    "lista1 = [1, 3, 5, 7, 9, 11, 13, 15, 17, 19, 21]\n",
    "print(lista1)\n",
    "\n",
    "# a.1) Qual o tamanho da lista?\n",
    "print(len(lista1))\n",
    "\n",
    "# a.2) Qual o máximo valor da lista?\n",
    "print(max(lista1))\n",
    "\n",
    "# a.3) Qual a média dos elementos dessa lista?\n",
    "print(sum(lista1) / len(lista1))\n",
    "\n",
    "# a.4) Ordene a lista em ordem decrescente.\n",
    "print(sorted(lista1, reverse = True))\n",
    "\n",
    "# a.5) Adicione o elemento 10 a essa lista.\n",
    "lista1.append(10)\n",
    "print(lista1)\n",
    "    "
   ]
  },
  {
   "cell_type": "markdown",
   "id": "da01d3e3",
   "metadata": {},
   "source": [
    "### b) Considere os conjuntos A= {100,200,300,500,600,800), B={150,200,250,350,400,500) e C={300,200}. b.1) Qual a soma dos valores do conjunto D que é a intersecção de A, B e C? b.2) Qual a média da união dos elementos desses 3 conjuntos?\n"
   ]
  },
  {
   "cell_type": "code",
   "execution_count": 15,
   "id": "a11e9a9f",
   "metadata": {},
   "outputs": [],
   "source": [
    "# b) Considere os conjuntos A= {100,200,300,500,600,800), B={150,200,250,350,400,500) e C={300,200}.\n",
    "A = {100, 200, 300, 500, 600, 800}\n",
    "B = {150, 200, 250, 350, 400, 500}\n",
    "C = {300, 200}"
   ]
  },
  {
   "cell_type": "code",
   "execution_count": 16,
   "id": "6e9ce459",
   "metadata": {},
   "outputs": [
    {
     "name": "stdout",
     "output_type": "stream",
     "text": [
      "{200}\n"
     ]
    },
    {
     "data": {
      "text/plain": [
       "200"
      ]
     },
     "execution_count": 16,
     "metadata": {},
     "output_type": "execute_result"
    }
   ],
   "source": [
    "# b.1) Qual a soma dos valores do conjunto D que é a intersecção de A, B e C?\n",
    "D = A & B & C\n",
    "print(D)\n",
    "sum(D)"
   ]
  },
  {
   "cell_type": "code",
   "execution_count": 20,
   "id": "1bbaf434",
   "metadata": {},
   "outputs": [
    {
     "name": "stdout",
     "output_type": "stream",
     "text": [
      "{800, 100, 200, 300, 400, 500, 150, 600, 250, 350}\n",
      "365.0\n"
     ]
    }
   ],
   "source": [
    "# b.2) Qual a média da união dos elementos desses 3 conjuntos?\n",
    "E = A | B | C\n",
    "print(E)\n",
    "print(sum(E) / len(E))\n"
   ]
  },
  {
   "cell_type": "code",
   "execution_count": null,
   "id": "2085a46b",
   "metadata": {},
   "outputs": [],
   "source": []
  }
 ],
 "metadata": {
  "kernelspec": {
   "display_name": "Python 3 (ipykernel)",
   "language": "python",
   "name": "python3"
  },
  "language_info": {
   "codemirror_mode": {
    "name": "ipython",
    "version": 3
   },
   "file_extension": ".py",
   "mimetype": "text/x-python",
   "name": "python",
   "nbconvert_exporter": "python",
   "pygments_lexer": "ipython3",
   "version": "3.9.7"
  }
 },
 "nbformat": 4,
 "nbformat_minor": 5
}
