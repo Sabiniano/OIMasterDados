{
 "cells": [
  {
   "cell_type": "markdown",
   "id": "45b31a60",
   "metadata": {},
   "source": [
    "# 2ª Sessão “Mão na Massa” (tempo: 10 minutos)"
   ]
  },
  {
   "cell_type": "markdown",
   "id": "cd7692e7",
   "metadata": {},
   "source": [
    "## a) Crie um notebook do zero, renomeando-o para Mão na Massa – Sessão II"
   ]
  },
  {
   "cell_type": "markdown",
   "id": "cf7511b0",
   "metadata": {},
   "source": [
    "## b) Por meio do notebook Jupyter, crie algumas variáveis do tipo inteiro, do tipo float e do tipo string"
   ]
  },
  {
   "cell_type": "markdown",
   "id": "b49ff151",
   "metadata": {},
   "source": [
    "## c) Antes de criá-las, coloque uma linha de comentário para descrever o que representam"
   ]
  },
  {
   "cell_type": "markdown",
   "id": "e685ba56",
   "metadata": {},
   "source": [
    "## d) Use a função type() para confirmar que as variáveis criadas tem os formatos pretendidos"
   ]
  },
  {
   "cell_type": "code",
   "execution_count": 1,
   "id": "d5da2f04",
   "metadata": {},
   "outputs": [
    {
     "name": "stdout",
     "output_type": "stream",
     "text": [
      "5\n"
     ]
    },
    {
     "data": {
      "text/plain": [
       "int"
      ]
     },
     "execution_count": 1,
     "metadata": {},
     "output_type": "execute_result"
    }
   ],
   "source": [
    "# Varável do tipo inteira\n",
    "x=5\n",
    "print(x)\n",
    "type(x)"
   ]
  },
  {
   "cell_type": "code",
   "execution_count": 2,
   "id": "8013de31",
   "metadata": {},
   "outputs": [
    {
     "name": "stdout",
     "output_type": "stream",
     "text": [
      "3.14\n"
     ]
    },
    {
     "data": {
      "text/plain": [
       "float"
      ]
     },
     "execution_count": 2,
     "metadata": {},
     "output_type": "execute_result"
    }
   ],
   "source": [
    "# Variável float\n",
    "y = 3.14\n",
    "print(y)\n",
    "type(y)"
   ]
  },
  {
   "cell_type": "code",
   "execution_count": 3,
   "id": "3d749797",
   "metadata": {},
   "outputs": [
    {
     "name": "stdout",
     "output_type": "stream",
     "text": [
      "Sabiniano\n"
     ]
    },
    {
     "data": {
      "text/plain": [
       "str"
      ]
     },
     "execution_count": 3,
     "metadata": {},
     "output_type": "execute_result"
    }
   ],
   "source": [
    "# Variável str\n",
    "nome = \"Sabiniano\"\n",
    "print(nome)\n",
    "type(nome)"
   ]
  },
  {
   "cell_type": "markdown",
   "id": "086f24bb",
   "metadata": {},
   "source": [
    "## e) Qual deveria ser o resultado do cálculo 3 ** 2 * 3? E do cálculo 3 * 3 ** 2? Mostre isso no notebook"
   ]
  },
  {
   "cell_type": "code",
   "execution_count": 4,
   "id": "3b6cc002",
   "metadata": {},
   "outputs": [
    {
     "data": {
      "text/plain": [
       "27"
      ]
     },
     "execution_count": 4,
     "metadata": {},
     "output_type": "execute_result"
    }
   ],
   "source": [
    "3**2*3"
   ]
  },
  {
   "cell_type": "code",
   "execution_count": 5,
   "id": "251684d1",
   "metadata": {},
   "outputs": [
    {
     "data": {
      "text/plain": [
       "27"
      ]
     },
     "execution_count": 5,
     "metadata": {},
     "output_type": "execute_result"
    }
   ],
   "source": [
    "3*3**2"
   ]
  },
  {
   "cell_type": "markdown",
   "id": "2e40180b",
   "metadata": {},
   "source": [
    "## f) Qual deveria ser o resultado do cálculo 5/9 ** 0.5? Mostre isso no notebook"
   ]
  },
  {
   "cell_type": "code",
   "execution_count": 6,
   "id": "23f6a0ee",
   "metadata": {},
   "outputs": [
    {
     "data": {
      "text/plain": [
       "1.6666666666666667"
      ]
     },
     "execution_count": 6,
     "metadata": {},
     "output_type": "execute_result"
    }
   ],
   "source": [
    "5/9**0.5"
   ]
  },
  {
   "cell_type": "markdown",
   "id": "d05dde04",
   "metadata": {},
   "source": [
    "## g) Qual o resultado do valor inteiro da divisão entre 531.313 e 765? Mostre isso no notebook"
   ]
  },
  {
   "cell_type": "code",
   "execution_count": 7,
   "id": "83fc38e0",
   "metadata": {},
   "outputs": [
    {
     "data": {
      "text/plain": [
       "694"
      ]
     },
     "execution_count": 7,
     "metadata": {},
     "output_type": "execute_result"
    }
   ],
   "source": [
    "531313//765"
   ]
  },
  {
   "cell_type": "markdown",
   "id": "29e009b7",
   "metadata": {},
   "source": [
    "## h) Calcule a área de um círculo com raio=2.2m (a fórmula da área do círculo é pi*r2 e pi equivale a 3.1415926). Use o comando input() para calcular o valor da área do círculo a partir do valor do raio, fornecido pelo usuário."
   ]
  },
  {
   "cell_type": "code",
   "execution_count": 13,
   "id": "80d489bf",
   "metadata": {},
   "outputs": [
    {
     "name": "stdout",
     "output_type": "stream",
     "text": [
      "Digite o raio do círculo: 6.13\n",
      "Área do círculo:  118.05131097094001\n"
     ]
    }
   ],
   "source": [
    "r=float(input(\"Digite o raio do círculo: \"))\n",
    "area = 3.1415926*r**2\n",
    "print(\"Área do círculo: \", area)"
   ]
  },
  {
   "cell_type": "code",
   "execution_count": null,
   "id": "53982ceb",
   "metadata": {},
   "outputs": [],
   "source": []
  }
 ],
 "metadata": {
  "kernelspec": {
   "display_name": "Python 3 (ipykernel)",
   "language": "python",
   "name": "python3"
  },
  "language_info": {
   "codemirror_mode": {
    "name": "ipython",
    "version": 3
   },
   "file_extension": ".py",
   "mimetype": "text/x-python",
   "name": "python",
   "nbconvert_exporter": "python",
   "pygments_lexer": "ipython3",
   "version": "3.9.7"
  }
 },
 "nbformat": 4,
 "nbformat_minor": 5
}
