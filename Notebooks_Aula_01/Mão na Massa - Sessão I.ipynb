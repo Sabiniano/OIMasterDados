{
 "cells": [
  {
   "cell_type": "markdown",
   "id": "f4aa3697",
   "metadata": {},
   "source": [
    "# <center>Meus Primeiros Cálculos</center>"
   ]
  },
  {
   "cell_type": "markdown",
   "id": "f95be0f5",
   "metadata": {},
   "source": [
    "### Prioridade para operações dentro do parentesis"
   ]
  },
  {
   "cell_type": "code",
   "execution_count": 1,
   "id": "793061af",
   "metadata": {},
   "outputs": [
    {
     "data": {
      "text/plain": [
       "9"
      ]
     },
     "execution_count": 1,
     "metadata": {},
     "output_type": "execute_result"
    }
   ],
   "source": [
    "(3*(2+1))"
   ]
  },
  {
   "cell_type": "markdown",
   "id": "98903f86",
   "metadata": {},
   "source": [
    "### Potência de 3"
   ]
  },
  {
   "cell_type": "code",
   "execution_count": 2,
   "id": "fdb7b32a",
   "metadata": {},
   "outputs": [
    {
     "data": {
      "text/plain": [
       "216"
      ]
     },
     "execution_count": 2,
     "metadata": {},
     "output_type": "execute_result"
    }
   ],
   "source": [
    "6**3"
   ]
  },
  {
   "cell_type": "markdown",
   "id": "2fb88833",
   "metadata": {},
   "source": [
    "### Divisão"
   ]
  },
  {
   "cell_type": "code",
   "execution_count": 3,
   "id": "df525228",
   "metadata": {},
   "outputs": [
    {
     "data": {
      "text/plain": [
       "1.3333333333333333"
      ]
     },
     "execution_count": 3,
     "metadata": {},
     "output_type": "execute_result"
    }
   ],
   "source": [
    "4/3"
   ]
  },
  {
   "cell_type": "markdown",
   "id": "16f998b2",
   "metadata": {},
   "source": [
    "### Divisão por números decimais"
   ]
  },
  {
   "cell_type": "code",
   "execution_count": 4,
   "id": "ee6a88b8",
   "metadata": {},
   "outputs": [
    {
     "data": {
      "text/plain": [
       "90.0"
      ]
     },
     "execution_count": 4,
     "metadata": {},
     "output_type": "execute_result"
    }
   ],
   "source": [
    "9/0.1"
   ]
  },
  {
   "cell_type": "markdown",
   "id": "12aa80a4",
   "metadata": {},
   "source": [
    "### Subtração"
   ]
  },
  {
   "cell_type": "code",
   "execution_count": 5,
   "id": "6fede209",
   "metadata": {},
   "outputs": [
    {
     "data": {
      "text/plain": [
       "2"
      ]
     },
     "execution_count": 5,
     "metadata": {},
     "output_type": "execute_result"
    }
   ],
   "source": [
    "500-498"
   ]
  },
  {
   "cell_type": "markdown",
   "id": "33131523",
   "metadata": {},
   "source": [
    "### Qual o resultado do resto da divisão entre 6553 e 29?"
   ]
  },
  {
   "cell_type": "code",
   "execution_count": 8,
   "id": "b0fc0f43",
   "metadata": {},
   "outputs": [
    {
     "data": {
      "text/plain": [
       "28"
      ]
     },
     "execution_count": 8,
     "metadata": {},
     "output_type": "execute_result"
    }
   ],
   "source": [
    "6553%29"
   ]
  },
  {
   "cell_type": "markdown",
   "id": "5690d1b4",
   "metadata": {},
   "source": [
    "### Teste o comando pow para realizar a operação 85"
   ]
  },
  {
   "cell_type": "code",
   "execution_count": 15,
   "id": "b3f3d5c1",
   "metadata": {},
   "outputs": [
    {
     "data": {
      "text/plain": [
       "32768"
      ]
     },
     "execution_count": 15,
     "metadata": {},
     "output_type": "execute_result"
    }
   ],
   "source": [
    "pow(8, 5)"
   ]
  },
  {
   "cell_type": "code",
   "execution_count": null,
   "id": "112570a5",
   "metadata": {},
   "outputs": [],
   "source": []
  }
 ],
 "metadata": {
  "kernelspec": {
   "display_name": "Python 3 (ipykernel)",
   "language": "python",
   "name": "python3"
  },
  "language_info": {
   "codemirror_mode": {
    "name": "ipython",
    "version": 3
   },
   "file_extension": ".py",
   "mimetype": "text/x-python",
   "name": "python",
   "nbconvert_exporter": "python",
   "pygments_lexer": "ipython3",
   "version": "3.9.7"
  }
 },
 "nbformat": 4,
 "nbformat_minor": 5
}
