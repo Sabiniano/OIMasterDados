{
 "cells": [
  {
   "cell_type": "code",
   "execution_count": 1,
   "id": "f411b9ac",
   "metadata": {},
   "outputs": [
    {
     "name": "stdout",
     "output_type": "stream",
     "text": [
      "3\n"
     ]
    }
   ],
   "source": [
    "a=3\n",
    "print(a)"
   ]
  },
  {
   "cell_type": "code",
   "execution_count": 2,
   "id": "8002523b",
   "metadata": {},
   "outputs": [
    {
     "name": "stdout",
     "output_type": "stream",
     "text": [
      "3\n",
      "6\n"
     ]
    }
   ],
   "source": [
    "a=3\n",
    "b=6\n",
    "print(a)\n",
    "print(b)"
   ]
  },
  {
   "cell_type": "code",
   "execution_count": 3,
   "id": "33b07f28",
   "metadata": {},
   "outputs": [
    {
     "name": "stdout",
     "output_type": "stream",
     "text": [
      "5\n",
      "8\n",
      "40\n"
     ]
    }
   ],
   "source": [
    "c,d=5,8\n",
    "e = c*d\n",
    "print(c)\n",
    "print(d)\n",
    "print(e)\n"
   ]
  },
  {
   "cell_type": "code",
   "execution_count": 4,
   "id": "b9c74151",
   "metadata": {},
   "outputs": [
    {
     "data": {
      "text/plain": [
       "(int, int, int)"
      ]
     },
     "execution_count": 4,
     "metadata": {},
     "output_type": "execute_result"
    }
   ],
   "source": [
    "type(c), type(d), type(e)"
   ]
  },
  {
   "cell_type": "code",
   "execution_count": 7,
   "id": "c527ad20",
   "metadata": {},
   "outputs": [
    {
     "name": "stdout",
     "output_type": "stream",
     "text": [
      "João\n"
     ]
    }
   ],
   "source": [
    "nome = 'João'\n",
    "print(nome)"
   ]
  },
  {
   "cell_type": "code",
   "execution_count": 8,
   "id": "7f43dbcd",
   "metadata": {},
   "outputs": [
    {
     "ename": "SyntaxError",
     "evalue": "Missing parentheses in call to 'print'. Did you mean print(nome)? (Temp/ipykernel_21380/441262625.py, line 1)",
     "output_type": "error",
     "traceback": [
      "\u001b[1;36m  File \u001b[1;32m\"C:\\Users\\SABINI~1\\AppData\\Local\\Temp/ipykernel_21380/441262625.py\"\u001b[1;36m, line \u001b[1;32m1\u001b[0m\n\u001b[1;33m    print nome\u001b[0m\n\u001b[1;37m          ^\u001b[0m\n\u001b[1;31mSyntaxError\u001b[0m\u001b[1;31m:\u001b[0m Missing parentheses in call to 'print'. Did you mean print(nome)?\n"
     ]
    }
   ],
   "source": [
    "print nome"
   ]
  },
  {
   "cell_type": "code",
   "execution_count": 9,
   "id": "cc0059ec",
   "metadata": {},
   "outputs": [
    {
     "name": "stdout",
     "output_type": "stream",
     "text": [
      "João\n"
     ]
    },
    {
     "data": {
      "text/plain": [
       "str"
      ]
     },
     "execution_count": 9,
     "metadata": {},
     "output_type": "execute_result"
    }
   ],
   "source": [
    "nome = \"João\"\n",
    "print(nome)\n",
    "type(nome)"
   ]
  },
  {
   "cell_type": "code",
   "execution_count": 10,
   "id": "7fd43552",
   "metadata": {},
   "outputs": [
    {
     "name": "stdout",
     "output_type": "stream",
     "text": [
      "2.71828\n"
     ]
    },
    {
     "data": {
      "text/plain": [
       "float"
      ]
     },
     "execution_count": 10,
     "metadata": {},
     "output_type": "execute_result"
    }
   ],
   "source": [
    "valor = 2.71828\n",
    "print(valor)\n",
    "type(valor)"
   ]
  },
  {
   "cell_type": "code",
   "execution_count": 11,
   "id": "bb922111",
   "metadata": {},
   "outputs": [
    {
     "name": "stdout",
     "output_type": "stream",
     "text": [
      "(2+3j)\n"
     ]
    },
    {
     "data": {
      "text/plain": [
       "complex"
      ]
     },
     "execution_count": 11,
     "metadata": {},
     "output_type": "execute_result"
    }
   ],
   "source": [
    "num_complexo = 2+3j\n",
    "print(num_complexo)\n",
    "type(num_complexo)"
   ]
  },
  {
   "cell_type": "code",
   "execution_count": 12,
   "id": "7068e8b3",
   "metadata": {},
   "outputs": [
    {
     "name": "stdout",
     "output_type": "stream",
     "text": [
      "3504.35\n",
      "42052.2\n"
     ]
    },
    {
     "data": {
      "text/plain": [
       "(float, float)"
      ]
     },
     "execution_count": 12,
     "metadata": {},
     "output_type": "execute_result"
    }
   ],
   "source": [
    "salario_mensal, salario_anual=3504.35, 3504.35*12\n",
    "print(salario_mensal)\n",
    "print(salario_anual)\n",
    "type(salario_mensal), type(salario_anual)"
   ]
  },
  {
   "cell_type": "code",
   "execution_count": 13,
   "id": "9aa666a1",
   "metadata": {},
   "outputs": [],
   "source": [
    "x=10\n",
    "y=4"
   ]
  },
  {
   "cell_type": "code",
   "execution_count": 14,
   "id": "9e83be13",
   "metadata": {},
   "outputs": [
    {
     "data": {
      "text/plain": [
       "14"
      ]
     },
     "execution_count": 14,
     "metadata": {},
     "output_type": "execute_result"
    }
   ],
   "source": [
    "#Soma de x e y\n",
    "x+y"
   ]
  },
  {
   "cell_type": "code",
   "execution_count": 15,
   "id": "8d135332",
   "metadata": {},
   "outputs": [
    {
     "data": {
      "text/plain": [
       "6"
      ]
     },
     "execution_count": 15,
     "metadata": {},
     "output_type": "execute_result"
    }
   ],
   "source": [
    "#Subtração de x e y\n",
    "x-y"
   ]
  },
  {
   "cell_type": "code",
   "execution_count": 16,
   "id": "704ae991",
   "metadata": {},
   "outputs": [
    {
     "data": {
      "text/plain": [
       "40"
      ]
     },
     "execution_count": 16,
     "metadata": {},
     "output_type": "execute_result"
    }
   ],
   "source": [
    "#Multiplicação de x e y\n",
    "x*y"
   ]
  },
  {
   "cell_type": "code",
   "execution_count": 17,
   "id": "ebcda71b",
   "metadata": {},
   "outputs": [
    {
     "data": {
      "text/plain": [
       "2.5"
      ]
     },
     "execution_count": 17,
     "metadata": {},
     "output_type": "execute_result"
    }
   ],
   "source": [
    "#Divisão exata de x e y\n",
    "x/y"
   ]
  },
  {
   "cell_type": "code",
   "execution_count": 18,
   "id": "98d4d113",
   "metadata": {},
   "outputs": [
    {
     "data": {
      "text/plain": [
       "2"
      ]
     },
     "execution_count": 18,
     "metadata": {},
     "output_type": "execute_result"
    }
   ],
   "source": [
    "#Divisão inteira de x e y\n",
    "x//y"
   ]
  },
  {
   "cell_type": "code",
   "execution_count": 19,
   "id": "9374c6ee",
   "metadata": {},
   "outputs": [
    {
     "data": {
      "text/plain": [
       "2"
      ]
     },
     "execution_count": 19,
     "metadata": {},
     "output_type": "execute_result"
    }
   ],
   "source": [
    "#Resto da divisão entre x e y\n",
    "x%y"
   ]
  },
  {
   "cell_type": "code",
   "execution_count": 20,
   "id": "8c9d7402",
   "metadata": {},
   "outputs": [
    {
     "data": {
      "text/plain": [
       "10000"
      ]
     },
     "execution_count": 20,
     "metadata": {},
     "output_type": "execute_result"
    }
   ],
   "source": [
    "#Exponenciação de x e y\n",
    "x**y"
   ]
  },
  {
   "cell_type": "code",
   "execution_count": 21,
   "id": "6c3dd850",
   "metadata": {},
   "outputs": [],
   "source": [
    "#A ordem das operações em um cálculo envolvendo Python segue a lógica atribuída ao acrônimo (PEMDAS – Parênteses,\n",
    "#Exponenciação, Multiplicação, Divisão, Adição, Subtração). Veja a seguir 2 exemplos:"
   ]
  },
  {
   "cell_type": "code",
   "execution_count": 22,
   "id": "d16bb77f",
   "metadata": {},
   "outputs": [
    {
     "data": {
      "text/plain": [
       "32"
      ]
     },
     "execution_count": 22,
     "metadata": {},
     "output_type": "execute_result"
    }
   ],
   "source": [
    "4*2**3"
   ]
  },
  {
   "cell_type": "code",
   "execution_count": 23,
   "id": "9ddc762b",
   "metadata": {},
   "outputs": [
    {
     "data": {
      "text/plain": [
       "512"
      ]
     },
     "execution_count": 23,
     "metadata": {},
     "output_type": "execute_result"
    }
   ],
   "source": [
    "(4*2)**3"
   ]
  },
  {
   "cell_type": "code",
   "execution_count": 25,
   "id": "437f9693",
   "metadata": {},
   "outputs": [
    {
     "data": {
      "text/plain": [
       "'Marcelo Silva'"
      ]
     },
     "execution_count": 25,
     "metadata": {},
     "output_type": "execute_result"
    }
   ],
   "source": [
    "nome=\"Marcelo\"\n",
    "sobrenome=\"Silva\"\n",
    "nome + \" \" + sobrenome"
   ]
  },
  {
   "cell_type": "code",
   "execution_count": 27,
   "id": "e689fc75",
   "metadata": {},
   "outputs": [
    {
     "data": {
      "text/plain": [
       "'Brasil Brasil Brasil '"
      ]
     },
     "execution_count": 27,
     "metadata": {},
     "output_type": "execute_result"
    }
   ],
   "source": [
    "pais=\"Brasil \"\n",
    "pais*3"
   ]
  },
  {
   "cell_type": "code",
   "execution_count": 28,
   "id": "54aa3e19",
   "metadata": {},
   "outputs": [
    {
     "data": {
      "text/plain": [
       "'BRASIL '"
      ]
     },
     "execution_count": 28,
     "metadata": {},
     "output_type": "execute_result"
    }
   ],
   "source": [
    "pais.upper()"
   ]
  },
  {
   "cell_type": "code",
   "execution_count": 29,
   "id": "66c15e9b",
   "metadata": {},
   "outputs": [
    {
     "data": {
      "text/plain": [
       "'brasil '"
      ]
     },
     "execution_count": 29,
     "metadata": {},
     "output_type": "execute_result"
    }
   ],
   "source": [
    "pais.lower()"
   ]
  },
  {
   "cell_type": "code",
   "execution_count": 30,
   "id": "ad01c6eb",
   "metadata": {},
   "outputs": [
    {
     "data": {
      "text/plain": [
       "'Brasil '"
      ]
     },
     "execution_count": 30,
     "metadata": {},
     "output_type": "execute_result"
    }
   ],
   "source": [
    "pais.capitalize()"
   ]
  },
  {
   "cell_type": "code",
   "execution_count": 31,
   "id": "0b82c8a0",
   "metadata": {},
   "outputs": [
    {
     "name": "stdout",
     "output_type": "stream",
     "text": [
      "Como você se chama?\n",
      "Marcelo\n"
     ]
    }
   ],
   "source": [
    "nome_do_usuario=input(\"Como você se chama?\\n\")"
   ]
  },
  {
   "cell_type": "code",
   "execution_count": 32,
   "id": "7aa45952",
   "metadata": {},
   "outputs": [
    {
     "name": "stdout",
     "output_type": "stream",
     "text": [
      "Marcelo\n"
     ]
    }
   ],
   "source": [
    "print(nome_do_usuario)"
   ]
  },
  {
   "cell_type": "code",
   "execution_count": 33,
   "id": "21e55a91",
   "metadata": {},
   "outputs": [
    {
     "name": "stdout",
     "output_type": "stream",
     "text": [
      "Qual a sua idade?\n",
      "45\n"
     ]
    }
   ],
   "source": [
    "idade_do_usuario=input(\"Qual a sua idade?\\n\")"
   ]
  },
  {
   "cell_type": "code",
   "execution_count": 34,
   "id": "9ad67413",
   "metadata": {},
   "outputs": [
    {
     "name": "stdout",
     "output_type": "stream",
     "text": [
      "45\n"
     ]
    }
   ],
   "source": [
    "print(idade_do_usuario)"
   ]
  },
  {
   "cell_type": "code",
   "execution_count": 35,
   "id": "973b5c1f",
   "metadata": {},
   "outputs": [
    {
     "name": "stdout",
     "output_type": "stream",
     "text": [
      "Seu nome é Marcelo e sua idade é 45 anos\n"
     ]
    }
   ],
   "source": [
    "print(\"Seu nome é \" + nome_do_usuario + ' e sua idade é ' + idade_do_usuario + \" anos\")"
   ]
  },
  {
   "cell_type": "code",
   "execution_count": null,
   "id": "0f9a7773",
   "metadata": {},
   "outputs": [],
   "source": []
  }
 ],
 "metadata": {
  "kernelspec": {
   "display_name": "Python 3 (ipykernel)",
   "language": "python",
   "name": "python3"
  },
  "language_info": {
   "codemirror_mode": {
    "name": "ipython",
    "version": 3
   },
   "file_extension": ".py",
   "mimetype": "text/x-python",
   "name": "python",
   "nbconvert_exporter": "python",
   "pygments_lexer": "ipython3",
   "version": "3.9.7"
  }
 },
 "nbformat": 4,
 "nbformat_minor": 5
}
