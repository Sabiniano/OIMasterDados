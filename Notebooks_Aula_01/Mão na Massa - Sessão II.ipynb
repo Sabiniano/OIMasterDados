{
 "cells": [
  {
   "cell_type": "code",
   "execution_count": 1,
   "id": "d5da2f04",
   "metadata": {},
   "outputs": [
    {
     "name": "stdout",
     "output_type": "stream",
     "text": [
      "5\n"
     ]
    },
    {
     "data": {
      "text/plain": [
       "int"
      ]
     },
     "execution_count": 1,
     "metadata": {},
     "output_type": "execute_result"
    }
   ],
   "source": [
    "#Varável do tipo inteira\n",
    "x=5\n",
    "print(x)\n",
    "type(x)"
   ]
  },
  {
   "cell_type": "code",
   "execution_count": null,
   "id": "7ca98341",
   "metadata": {},
   "outputs": [],
   "source": [
    "#Para podermos usar este ambiente como ambiente de cálculo e visualização, rico e apelativo, necessitamos de usar extensões\n",
    "#à linguagem básica. A linguagem Python, como muitas outras linguagens de programação modernas, dispõe de mecanismos de \n",
    "#modularização robustos. Um dos mais importantes é a existência de bibliotecas com extensões à linguagem básica, que servem\n",
    "#os mais diversos fins. Estas extensões estão organizadas em pacotes de módulos, de que falaremos mais adiante. Existem vários\n",
    "#módulos que dão suporte a mecanismos de cálculo e visualização gráfica que poderão ser bastante úteis, nomeadamente: Scipy e\n",
    "#Matplotlib, ambas incluindo Numpy, que por sua vez inclui Math, e ainda Sympy, cuja utilização ilustramos de seguida.\n",
    "#As extensões Numpy e Matplotlib estão incluídas na extensão Pylab, que pode ser carregada como se mostra abaixo. A instrução\n",
    "#precedida de % é aquilo a que na terminologia do IPython se denomina  magic , uma extensão à linguagem Python que facilita a\n",
    "#interacção com o sistema. Introduziremos, quando necessário, outras magias do IPython.\n",
    "#Note-se que a extensão Pylab fornece um contexto essencialmente equivalente ao ambiente comercial MATLAB, profusamente \n",
    "#utilizado em aplicações em diversas áreas da engenharia."
   ]
  },
  {
   "cell_type": "code",
   "execution_count": 3,
   "id": "8093bfa1",
   "metadata": {},
   "outputs": [
    {
     "name": "stdout",
     "output_type": "stream",
     "text": [
      "Populating the interactive namespace from numpy and matplotlib\n"
     ]
    }
   ],
   "source": [
    "%pylab inline"
   ]
  },
  {
   "cell_type": "code",
   "execution_count": 4,
   "id": "87782394",
   "metadata": {},
   "outputs": [],
   "source": [
    "?pylab"
   ]
  },
  {
   "cell_type": "code",
   "execution_count": 5,
   "id": "5764092d",
   "metadata": {},
   "outputs": [
    {
     "name": "stdout",
     "output_type": "stream",
     "text": [
      "3.141592653589793\n"
     ]
    },
    {
     "data": {
      "text/plain": [
       "float"
      ]
     },
     "execution_count": 5,
     "metadata": {},
     "output_type": "execute_result"
    }
   ],
   "source": [
    "#Variável float\n",
    "y = pi\n",
    "print(y)\n",
    "type(y)"
   ]
  },
  {
   "cell_type": "code",
   "execution_count": 6,
   "id": "3cecf5f5",
   "metadata": {},
   "outputs": [
    {
     "name": "stdout",
     "output_type": "stream",
     "text": [
      "Sabiniano\n"
     ]
    },
    {
     "data": {
      "text/plain": [
       "str"
      ]
     },
     "execution_count": 6,
     "metadata": {},
     "output_type": "execute_result"
    }
   ],
   "source": [
    "#Variável string\n",
    "name = \"Sabiniano\"\n",
    "print(name)\n",
    "type(name)"
   ]
  },
  {
   "cell_type": "code",
   "execution_count": 7,
   "id": "78448463",
   "metadata": {},
   "outputs": [],
   "source": [
    "#Qual deveria ser o resultado do cálculo 3**2*3? E do cálculo 3*3**2? Mostre isso no notebook"
   ]
  },
  {
   "cell_type": "code",
   "execution_count": 8,
   "id": "3b6cc002",
   "metadata": {},
   "outputs": [
    {
     "data": {
      "text/plain": [
       "27"
      ]
     },
     "execution_count": 8,
     "metadata": {},
     "output_type": "execute_result"
    }
   ],
   "source": [
    "3**2*3"
   ]
  },
  {
   "cell_type": "code",
   "execution_count": 9,
   "id": "251684d1",
   "metadata": {},
   "outputs": [
    {
     "data": {
      "text/plain": [
       "27"
      ]
     },
     "execution_count": 9,
     "metadata": {},
     "output_type": "execute_result"
    }
   ],
   "source": [
    "3*3**2"
   ]
  },
  {
   "cell_type": "code",
   "execution_count": 10,
   "id": "23f6a0ee",
   "metadata": {},
   "outputs": [
    {
     "data": {
      "text/plain": [
       "1.6666666666666667"
      ]
     },
     "execution_count": 10,
     "metadata": {},
     "output_type": "execute_result"
    }
   ],
   "source": [
    "#Qual deveria ser o resultado do cálculo 5/9**0.5? Mostre isso no notebook\n",
    "5/9**0.5"
   ]
  },
  {
   "cell_type": "code",
   "execution_count": 11,
   "id": "83fc38e0",
   "metadata": {},
   "outputs": [
    {
     "data": {
      "text/plain": [
       "0.0"
      ]
     },
     "execution_count": 11,
     "metadata": {},
     "output_type": "execute_result"
    }
   ],
   "source": [
    "#Qual o resultado do valor inteiro da divisão entre 531.313 e 765? Mostre isso no notebook\n",
    "531.313//765"
   ]
  },
  {
   "cell_type": "code",
   "execution_count": 12,
   "id": "ee8f2249",
   "metadata": {},
   "outputs": [],
   "source": [
    "#Calcule a área de um círculo com raio=2.2m (a fórmula da área do círculo é pi*r2 e pi equivale a 3.1415926). Use\n",
    "#o comando input() para calcular o valor da área do círculo a partir do valor do raio, fornecido pelo usuário."
   ]
  },
  {
   "cell_type": "code",
   "execution_count": 30,
   "id": "ed244778",
   "metadata": {},
   "outputs": [
    {
     "name": "stdout",
     "output_type": "stream",
     "text": [
      "Entre com o raio\n",
      "2.2\n"
     ]
    }
   ],
   "source": [
    "r=float(input(\"Entre com o raio\\n\"))"
   ]
  },
  {
   "cell_type": "code",
   "execution_count": 33,
   "id": "80d489bf",
   "metadata": {},
   "outputs": [
    {
     "name": "stdout",
     "output_type": "stream",
     "text": [
      "2.2\n",
      "3.141592653589793\n",
      "15.205308443374602\n"
     ]
    }
   ],
   "source": [
    "#raio\n",
    "print(r)\n",
    "#pi\n",
    "print(pi)\n",
    "#Área do Circulo =\n",
    "a=pi*r**2\n",
    "print(a)"
   ]
  },
  {
   "cell_type": "code",
   "execution_count": 2,
   "id": "c3d54486",
   "metadata": {},
   "outputs": [
    {
     "name": "stdout",
     "output_type": "stream",
     "text": [
      "15\n"
     ]
    }
   ],
   "source": [
    "x = 10\n",
    "x += 5\n",
    "print(x)"
   ]
  },
  {
   "cell_type": "code",
   "execution_count": null,
   "id": "53982ceb",
   "metadata": {},
   "outputs": [],
   "source": []
  }
 ],
 "metadata": {
  "kernelspec": {
   "display_name": "Python 3 (ipykernel)",
   "language": "python",
   "name": "python3"
  },
  "language_info": {
   "codemirror_mode": {
    "name": "ipython",
    "version": 3
   },
   "file_extension": ".py",
   "mimetype": "text/x-python",
   "name": "python",
   "nbconvert_exporter": "python",
   "pygments_lexer": "ipython3",
   "version": "3.9.7"
  }
 },
 "nbformat": 4,
 "nbformat_minor": 5
}
