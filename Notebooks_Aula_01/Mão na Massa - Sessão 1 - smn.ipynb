{
 "cells": [
  {
   "cell_type": "markdown",
   "id": "2c46550c",
   "metadata": {},
   "source": [
    "# 1ª Sessão “Mão na Massa” (tempo: 5 minutos)"
   ]
  },
  {
   "cell_type": "markdown",
   "id": "3caa9570",
   "metadata": {},
   "source": [
    "## a) Crie um notebook novo, do zero"
   ]
  },
  {
   "cell_type": "markdown",
   "id": "9375a5a6",
   "metadata": {},
   "source": [
    "## b) Renomeie o notebook para Mão na Massa – Sessão I\n"
   ]
  },
  {
   "cell_type": "markdown",
   "id": "f498529e",
   "metadata": {},
   "source": [
    "## c) Coloque um cabeçalho no notebook, centralizado, com o texto “Meus Primeiros Cálculos”"
   ]
  },
  {
   "cell_type": "markdown",
   "id": "f4aa3697",
   "metadata": {},
   "source": [
    "# <center>Meus Primeiros Cálculos</center>"
   ]
  },
  {
   "cell_type": "markdown",
   "id": "8e5a9e11",
   "metadata": {},
   "source": [
    "## d) Faça 5 cálculos em células diferentes (3*(2+1), 6**3, 4/3, 9/0.1, 500-498)"
   ]
  },
  {
   "cell_type": "markdown",
   "id": "d967986b",
   "metadata": {},
   "source": [
    "## e) Coloque comentários para descrever cada um desses cálculos"
   ]
  },
  {
   "cell_type": "code",
   "execution_count": 1,
   "id": "793061af",
   "metadata": {},
   "outputs": [
    {
     "data": {
      "text/plain": [
       "9"
      ]
     },
     "execution_count": 1,
     "metadata": {},
     "output_type": "execute_result"
    }
   ],
   "source": [
    "# Prioridade para operações dentro do parentisis\n",
    "(3*(2+1))"
   ]
  },
  {
   "cell_type": "code",
   "execution_count": 2,
   "id": "fdb7b32a",
   "metadata": {},
   "outputs": [
    {
     "data": {
      "text/plain": [
       "216"
      ]
     },
     "execution_count": 2,
     "metadata": {},
     "output_type": "execute_result"
    }
   ],
   "source": [
    "# Potência de 3\n",
    "6**3"
   ]
  },
  {
   "cell_type": "code",
   "execution_count": 3,
   "id": "df525228",
   "metadata": {},
   "outputs": [
    {
     "data": {
      "text/plain": [
       "1.3333333333333333"
      ]
     },
     "execution_count": 3,
     "metadata": {},
     "output_type": "execute_result"
    }
   ],
   "source": [
    "# Divisão\n",
    "4/3"
   ]
  },
  {
   "cell_type": "code",
   "execution_count": 4,
   "id": "ee6a88b8",
   "metadata": {},
   "outputs": [
    {
     "data": {
      "text/plain": [
       "90.0"
      ]
     },
     "execution_count": 4,
     "metadata": {},
     "output_type": "execute_result"
    }
   ],
   "source": [
    "# Divisão por números decimais\n",
    "9/0.1"
   ]
  },
  {
   "cell_type": "code",
   "execution_count": 5,
   "id": "6fede209",
   "metadata": {},
   "outputs": [
    {
     "data": {
      "text/plain": [
       "2"
      ]
     },
     "execution_count": 5,
     "metadata": {},
     "output_type": "execute_result"
    }
   ],
   "source": [
    "# Subtração\n",
    "500-498"
   ]
  },
  {
   "cell_type": "markdown",
   "id": "33131523",
   "metadata": {},
   "source": [
    "## f) Qual o resultado do resto da divisão entre 6553 e 29? Faça essa operação no notebook"
   ]
  },
  {
   "cell_type": "code",
   "execution_count": 8,
   "id": "b0fc0f43",
   "metadata": {},
   "outputs": [
    {
     "data": {
      "text/plain": [
       "28"
      ]
     },
     "execution_count": 8,
     "metadata": {},
     "output_type": "execute_result"
    }
   ],
   "source": [
    "6553%29"
   ]
  },
  {
   "cell_type": "markdown",
   "id": "5690d1b4",
   "metadata": {},
   "source": [
    "## g) Teste o comando pow para realizar a operação 85. Faça essa operação no notebook"
   ]
  },
  {
   "cell_type": "code",
   "execution_count": 15,
   "id": "b3f3d5c1",
   "metadata": {},
   "outputs": [
    {
     "data": {
      "text/plain": [
       "32768"
      ]
     },
     "execution_count": 15,
     "metadata": {},
     "output_type": "execute_result"
    }
   ],
   "source": [
    "pow(8, 5)"
   ]
  },
  {
   "cell_type": "code",
   "execution_count": null,
   "id": "112570a5",
   "metadata": {},
   "outputs": [],
   "source": []
  }
 ],
 "metadata": {
  "kernelspec": {
   "display_name": "Python 3 (ipykernel)",
   "language": "python",
   "name": "python3"
  },
  "language_info": {
   "codemirror_mode": {
    "name": "ipython",
    "version": 3
   },
   "file_extension": ".py",
   "mimetype": "text/x-python",
   "name": "python",
   "nbconvert_exporter": "python",
   "pygments_lexer": "ipython3",
   "version": "3.9.7"
  }
 },
 "nbformat": 4,
 "nbformat_minor": 5
}
