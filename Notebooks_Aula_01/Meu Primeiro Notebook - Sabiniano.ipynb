{
 "cells": [
  {
   "cell_type": "markdown",
   "id": "c0dcc8a7",
   "metadata": {},
   "source": [
    "## <center>Meus Primeiros Cálculos em Um Jupter Notebook</center>\n",
    "### 1. Introdução\n",
    "### 2. Metodologia\n",
    "### 3. Análise\n",
    "### 4. Conclusão"
   ]
  },
  {
   "cell_type": "code",
   "execution_count": 7,
   "id": "2ee37900",
   "metadata": {},
   "outputs": [
    {
     "data": {
      "text/plain": [
       "5"
      ]
     },
     "execution_count": 7,
     "metadata": {},
     "output_type": "execute_result"
    }
   ],
   "source": [
    "#Soma\n",
    "2+3"
   ]
  },
  {
   "cell_type": "code",
   "execution_count": 8,
   "id": "90d6b4be",
   "metadata": {},
   "outputs": [
    {
     "data": {
      "text/plain": [
       "2"
      ]
     },
     "execution_count": 8,
     "metadata": {},
     "output_type": "execute_result"
    }
   ],
   "source": [
    "#Subtração\n",
    "3-1"
   ]
  },
  {
   "cell_type": "code",
   "execution_count": 9,
   "id": "b16318c1",
   "metadata": {},
   "outputs": [
    {
     "data": {
      "text/plain": [
       "24"
      ]
     },
     "execution_count": 9,
     "metadata": {},
     "output_type": "execute_result"
    }
   ],
   "source": [
    "#Multiplicação\n",
    "4*6"
   ]
  },
  {
   "cell_type": "code",
   "execution_count": 10,
   "id": "1795f352",
   "metadata": {},
   "outputs": [
    {
     "data": {
      "text/plain": [
       "2.3333333333333335"
      ]
     },
     "execution_count": 10,
     "metadata": {},
     "output_type": "execute_result"
    }
   ],
   "source": [
    "#Divisão\n",
    "7/3"
   ]
  },
  {
   "cell_type": "code",
   "execution_count": 11,
   "id": "48d516a5",
   "metadata": {},
   "outputs": [
    {
     "data": {
      "text/plain": [
       "16"
      ]
     },
     "execution_count": 11,
     "metadata": {},
     "output_type": "execute_result"
    }
   ],
   "source": [
    "#Potenciação\n",
    "4**2"
   ]
  },
  {
   "cell_type": "code",
   "execution_count": 12,
   "id": "0cdea662",
   "metadata": {},
   "outputs": [
    {
     "data": {
      "text/plain": [
       "16"
      ]
     },
     "execution_count": 12,
     "metadata": {},
     "output_type": "execute_result"
    }
   ],
   "source": [
    "pow(4,2)"
   ]
  },
  {
   "cell_type": "code",
   "execution_count": null,
   "id": "14fd3004",
   "metadata": {},
   "outputs": [],
   "source": []
  }
 ],
 "metadata": {
  "kernelspec": {
   "display_name": "Python 3 (ipykernel)",
   "language": "python",
   "name": "python3"
  },
  "language_info": {
   "codemirror_mode": {
    "name": "ipython",
    "version": 3
   },
   "file_extension": ".py",
   "mimetype": "text/x-python",
   "name": "python",
   "nbconvert_exporter": "python",
   "pygments_lexer": "ipython3",
   "version": "3.9.7"
  }
 },
 "nbformat": 4,
 "nbformat_minor": 5
}
