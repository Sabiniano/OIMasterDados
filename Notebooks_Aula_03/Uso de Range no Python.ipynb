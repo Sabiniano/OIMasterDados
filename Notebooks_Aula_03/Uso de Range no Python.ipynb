{
 "cells": [
  {
   "cell_type": "code",
   "execution_count": 6,
   "id": "2caddb7f",
   "metadata": {},
   "outputs": [
    {
     "data": {
      "text/plain": [
       "[50, 43, 36, 29, 22, 15, 8]"
      ]
     },
     "execution_count": 6,
     "metadata": {},
     "output_type": "execute_result"
    }
   ],
   "source": [
    "list(range(50,1,-7))"
   ]
  },
  {
   "cell_type": "code",
   "execution_count": 7,
   "id": "255a686e",
   "metadata": {},
   "outputs": [
    {
     "data": {
      "text/plain": [
       "(1, 3, 5, 7, 9)"
      ]
     },
     "execution_count": 7,
     "metadata": {},
     "output_type": "execute_result"
    }
   ],
   "source": [
    "tuple(range(1,10,2))"
   ]
  },
  {
   "cell_type": "code",
   "execution_count": 13,
   "id": "c4608c95",
   "metadata": {},
   "outputs": [
    {
     "data": {
      "text/plain": [
       "[20, 19, 18, 17, 16, 15, 14, 13, 12, 11, 10, 9, 8, 7, 6, 5, 4, 3, 2]"
      ]
     },
     "execution_count": 13,
     "metadata": {},
     "output_type": "execute_result"
    }
   ],
   "source": [
    "list(range(20,1,-1))"
   ]
  },
  {
   "cell_type": "code",
   "execution_count": 14,
   "id": "d53108e4",
   "metadata": {},
   "outputs": [
    {
     "name": "stdout",
     "output_type": "stream",
     "text": [
      "{0, 1, 4, 5, 9, 11}\n"
     ]
    }
   ],
   "source": [
    "a=set([4,5,1,5,9,11,0])\n",
    "print(a)"
   ]
  },
  {
   "cell_type": "code",
   "execution_count": null,
   "id": "d0439a53",
   "metadata": {},
   "outputs": [],
   "source": [
    "#Exemplo do uso da função Range\n",
    "list(range(4))"
   ]
  },
  {
   "cell_type": "code",
   "execution_count": null,
   "id": "697cf4e0",
   "metadata": {},
   "outputs": [],
   "source": [
    "#Exemplo do uso da função Range\n",
    "list(range(1,10))"
   ]
  },
  {
   "cell_type": "code",
   "execution_count": null,
   "id": "2b7186ba",
   "metadata": {},
   "outputs": [],
   "source": [
    "#Exemplo do uso da função Range\n",
    "list(range(1,10,2))"
   ]
  },
  {
   "cell_type": "code",
   "execution_count": null,
   "id": "40a88d02",
   "metadata": {},
   "outputs": [],
   "source": [
    "#Exemplo do uso da função Range\n",
    "list(range(13,50,3))"
   ]
  },
  {
   "cell_type": "code",
   "execution_count": null,
   "id": "6c80e735",
   "metadata": {},
   "outputs": [],
   "source": [
    "#Exemplo do uso da função Range\n",
    "list(range(12,5,-1))"
   ]
  },
  {
   "cell_type": "code",
   "execution_count": null,
   "id": "48f2e95f",
   "metadata": {},
   "outputs": [],
   "source": [
    "#Exemplo do uso da função Range\n",
    "list(range(12,5,-0.3))"
   ]
  },
  {
   "cell_type": "code",
   "execution_count": null,
   "id": "77f0a3cf",
   "metadata": {},
   "outputs": [],
   "source": []
  }
 ],
 "metadata": {
  "kernelspec": {
   "display_name": "Python 3 (ipykernel)",
   "language": "python",
   "name": "python3"
  },
  "language_info": {
   "codemirror_mode": {
    "name": "ipython",
    "version": 3
   },
   "file_extension": ".py",
   "mimetype": "text/x-python",
   "name": "python",
   "nbconvert_exporter": "python",
   "pygments_lexer": "ipython3",
   "version": "3.9.7"
  }
 },
 "nbformat": 4,
 "nbformat_minor": 5
}
