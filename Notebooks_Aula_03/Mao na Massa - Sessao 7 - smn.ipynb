{
 "cells": [
  {
   "cell_type": "markdown",
   "id": "ae5ff1d3",
   "metadata": {},
   "source": [
    "# 7ª Sessão “Mão na Massa” (tempo: 15 minutos)"
   ]
  },
  {
   "cell_type": "markdown",
   "id": "db60dc57",
   "metadata": {},
   "source": [
    "## Realize as seguintes atividades usando um notebook Jupyter\n",
    "### a) Crie uma função que transforme semanas em dias , peça ao usuário a quantidade de semanas e retorne a quantidade correspondente de dias.\n",
    "### b) Use uma função lambda retorna a quantidade de segundos contidos em uma determinada quantidade de horas.\n",
    "### c) Use as funções map e lambda para executar a expressão x*5.1+100 sobre os elementos da lista a seguir: [300, 400, 500, 700, 800], lembrando que x representa cada elemento da lista."
   ]
  },
  {
   "cell_type": "markdown",
   "id": "092abb39",
   "metadata": {},
   "source": [
    "a) Crie uma função que transforme semanas em dias , peça ao usuário a quantidade de semanas e retorne a quantidade correspondente de dias.¶"
   ]
  },
  {
   "cell_type": "code",
   "execution_count": 1,
   "id": "4d1d9638",
   "metadata": {},
   "outputs": [
    {
     "name": "stdout",
     "output_type": "stream",
     "text": [
      "Digite a quantidade de semanas: 4\n",
      "4 semana equivale a:  28 dias\n"
     ]
    }
   ],
   "source": [
    "# Método 1 - sem função\n",
    "\n",
    "qtde_semanas=int(input(\"Digite a quantidade de semanas: \"))\n",
    "dias=qtde_semanas*7\n",
    "print(qtde_semanas,\"semana equivale a: \", dias, \"dias\")"
   ]
  },
  {
   "cell_type": "code",
   "execution_count": 6,
   "id": "690f5f33",
   "metadata": {},
   "outputs": [
    {
     "name": "stdout",
     "output_type": "stream",
     "text": [
      "Digite a quantidade de semanas: 4\n",
      "4 semanas equivale a:  28 dias\n"
     ]
    }
   ],
   "source": [
    "# Método 2 - usando função\n",
    "\n",
    "def calculo_semanas_em_dias(qtde_semanas):\n",
    "    dias = qtde_semanas * 7\n",
    "    return(dias)\n",
    "\n",
    "qtde_semanas = int(input(\"Digite a quantidade de semanas: \"))\n",
    "\n",
    "dias = calculo_semanas_em_dias(qtde_semanas)\n",
    "\n",
    "print(qtde_semanas,\"semanas equivale a: \", dias, \"dias\")"
   ]
  },
  {
   "cell_type": "code",
   "execution_count": 7,
   "id": "e13739e5",
   "metadata": {},
   "outputs": [
    {
     "name": "stdout",
     "output_type": "stream",
     "text": [
      "Digite a quantidade de semanas: 4\n",
      "4 semanas equivale a:  28 dias\n"
     ]
    }
   ],
   "source": [
    "# Método 3 - usando o retorno da função dentro do print\n",
    "\n",
    "def calculo_semanas_em_dias(qtde_semanas):\n",
    "    dias = qtde_semanas * 7\n",
    "    return(dias)\n",
    "\n",
    "qtde_semanas = int(input(\"Digite a quantidade de semanas: \"))\n",
    "\n",
    "print(qtde_semanas,\"semanas equivale a: \", calculo_semanas_em_dias(qtde_semanas), \"dias\")"
   ]
  },
  {
   "cell_type": "code",
   "execution_count": 11,
   "id": "3c0586e2",
   "metadata": {},
   "outputs": [
    {
     "name": "stdout",
     "output_type": "stream",
     "text": [
      "28\n"
     ]
    }
   ],
   "source": [
    "# Método 4 - usando a função lambda\n",
    "\n",
    "(lambda x:x * 7)(4)\n",
    "print((lambda x:x * 7)(4))"
   ]
  },
  {
   "cell_type": "code",
   "execution_count": 12,
   "id": "81b4cf8e",
   "metadata": {},
   "outputs": [
    {
     "name": "stdout",
     "output_type": "stream",
     "text": [
      "28\n"
     ]
    }
   ],
   "source": [
    "# Método 5 - usando a funão lambda dentro do print\n",
    "\n",
    "print((lambda x:x * 7)(4))"
   ]
  },
  {
   "cell_type": "code",
   "execution_count": 13,
   "id": "a7972edb",
   "metadata": {},
   "outputs": [
    {
     "name": "stdout",
     "output_type": "stream",
     "text": [
      "28\n"
     ]
    }
   ],
   "source": [
    "# Método 6 - atribuindo o retorno da função lambda a uma variável\n",
    "\n",
    "dias = (lambda x:x * 7)(4)\n",
    "print(dias)"
   ]
  },
  {
   "cell_type": "code",
   "execution_count": 14,
   "id": "b14731ae",
   "metadata": {},
   "outputs": [
    {
     "name": "stdout",
     "output_type": "stream",
     "text": [
      "Digite a quantidade de semanas: 4\n"
     ]
    },
    {
     "data": {
      "text/plain": [
       "28"
      ]
     },
     "execution_count": 14,
     "metadata": {},
     "output_type": "execute_result"
    }
   ],
   "source": [
    "# Método 7 - usando o input como a variável de entrada para função lambda\n",
    "\n",
    "(lambda x:x * 7)(int(input(\"Digite a quantidade de semanas: \")))"
   ]
  },
  {
   "cell_type": "code",
   "execution_count": 17,
   "id": "6b342559",
   "metadata": {},
   "outputs": [
    {
     "name": "stdout",
     "output_type": "stream",
     "text": [
      "Digite a quantidade de semanas: 4\n",
      "4 semanas equivale a:  28 dias\n"
     ]
    }
   ],
   "source": [
    "# Método 8 - atribuindo o retorno de lambda a variável dias\n",
    "\n",
    "dias = (lambda x:x * 7)(int(input(\"Digite a quantidade de semanas: \")))\n",
    "\n",
    "print(qtde_semanas,\"semanas equivale a: \", dias, \"dias\")"
   ]
  },
  {
   "cell_type": "code",
   "execution_count": 20,
   "id": "1c22ef31",
   "metadata": {},
   "outputs": [
    {
     "name": "stdout",
     "output_type": "stream",
     "text": [
      "Digite a quantidade de semanas: 4\n",
      "4 semanas equivale a:  28 dias\n"
     ]
    }
   ],
   "source": [
    "# Método 9 - atribuindo o retorno de lambda a variável dias\n",
    "\n",
    "qtde_semanas = int(input(\"Digite a quantidade de semanas: \"))\n",
    "dias = (lambda x:x * 7)(qtde_semanas)\n",
    "\n",
    "print(qtde_semanas,\"semanas equivale a: \", dias, \"dias\")"
   ]
  },
  {
   "cell_type": "markdown",
   "id": "a720bfad",
   "metadata": {},
   "source": [
    "b) Use uma função lambda retorna a quantidade de segundos contidos em uma determinada quantidade de\n",
    "horas."
   ]
  },
  {
   "cell_type": "code",
   "execution_count": 16,
   "id": "4f8ee6d4",
   "metadata": {},
   "outputs": [
    {
     "data": {
      "text/plain": [
       "7200"
      ]
     },
     "execution_count": 16,
     "metadata": {},
     "output_type": "execute_result"
    }
   ],
   "source": [
    "# Método 1 - usando a função lambda direto\n",
    "\n",
    "(lambda x: x * 3600)(2)"
   ]
  },
  {
   "cell_type": "code",
   "execution_count": 21,
   "id": "2b7432a7",
   "metadata": {},
   "outputs": [
    {
     "name": "stdout",
     "output_type": "stream",
     "text": [
      "Digite a quantidade de horas: 4\n",
      "Quantidade de segundos: 14400\n"
     ]
    }
   ],
   "source": [
    "# Método 2 - atribuindo o retorno de lambda a uma variável\n",
    "\n",
    "seg=(lambda horas:horas*3600)\n",
    "print(\"Quantidade de segundos:\",seg(int(input(\"Digite a quantidade de horas: \"))))"
   ]
  },
  {
   "cell_type": "markdown",
   "id": "40b08c26",
   "metadata": {},
   "source": [
    "c) Use as funções map e lambda para executar a expressão x*5.1+100 sobre os elementos da lista a seguir: [300,\n",
    "400, 500, 700, 800], lembrando que x representa cada elemento da lista."
   ]
  },
  {
   "cell_type": "code",
   "execution_count": 24,
   "id": "a8b92784",
   "metadata": {},
   "outputs": [
    {
     "name": "stdout",
     "output_type": "stream",
     "text": [
      "[1630.0, 2140.0, 2650.0, 3669.9999999999995, 4180.0]\n",
      "['1630', '2140', '2650', '3670', '4180']\n"
     ]
    }
   ],
   "source": [
    "# Método 1 - usando o map e lambda\n",
    "\n",
    "lista = [300, 400, 500, 700, 800]\n",
    "lista_1 = list(map(lambda x: x * 5.1 + 100, lista))\n",
    "print(lista_1)\n",
    "lista_2 = [f\"{num:.0f}\" for num in lista_1]\n",
    "print(lista_2)"
   ]
  },
  {
   "cell_type": "code",
   "execution_count": null,
   "id": "a80c71e2",
   "metadata": {},
   "outputs": [],
   "source": []
  }
 ],
 "metadata": {
  "kernelspec": {
   "display_name": "Python 3 (ipykernel)",
   "language": "python",
   "name": "python3"
  },
  "language_info": {
   "codemirror_mode": {
    "name": "ipython",
    "version": 3
   },
   "file_extension": ".py",
   "mimetype": "text/x-python",
   "name": "python",
   "nbconvert_exporter": "python",
   "pygments_lexer": "ipython3",
   "version": "3.9.7"
  }
 },
 "nbformat": 4,
 "nbformat_minor": 5
}
