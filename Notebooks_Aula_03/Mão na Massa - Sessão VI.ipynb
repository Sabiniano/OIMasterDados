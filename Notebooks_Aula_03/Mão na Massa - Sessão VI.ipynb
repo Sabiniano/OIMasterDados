{
 "cells": [
  {
   "cell_type": "markdown",
   "id": "aae92380",
   "metadata": {},
   "source": [
    "- Use a estrutura “for” para gerar uma sequência de números pares até 20"
   ]
  },
  {
   "cell_type": "code",
   "execution_count": 6,
   "id": "fb531fe5",
   "metadata": {},
   "outputs": [
    {
     "name": "stdout",
     "output_type": "stream",
     "text": [
      "O número 0 é par\n",
      "O número 2 é par\n",
      "O número 4 é par\n",
      "O número 6 é par\n",
      "O número 8 é par\n",
      "O número 10 é par\n",
      "O número 12 é par\n",
      "O número 14 é par\n",
      "O número 16 é par\n",
      "O número 18 é par\n",
      "O número 20 é par\n",
      "O número 22 é par\n"
     ]
    }
   ],
   "source": [
    "#Sequência de números pares até 20\n",
    "for numero in range(23):\n",
    "    if numero % 2 == 0:\n",
    "        print(\"O número\", numero, \"é par\")"
   ]
  },
  {
   "cell_type": "markdown",
   "id": "59b7962b",
   "metadata": {},
   "source": [
    "- Use a estrutura “for” para gerar números entre 1 e 10, exceto o número 7"
   ]
  },
  {
   "cell_type": "code",
   "execution_count": 10,
   "id": "84a42efe",
   "metadata": {},
   "outputs": [
    {
     "name": "stdout",
     "output_type": "stream",
     "text": [
      "0\n",
      "1\n",
      "2\n",
      "3\n",
      "4\n",
      "5\n",
      "6\n",
      "8\n",
      "9\n",
      "10\n"
     ]
    }
   ],
   "source": [
    "for numero in range(11):\n",
    "    if numero != 7:\n",
    "        print(numero)"
   ]
  },
  {
   "cell_type": "markdown",
   "id": "8adfc9b5",
   "metadata": {},
   "source": [
    "- Use a estrutura “while” para listar as regiões do Brasil (“Norte”, “Nordeste”, “Sul”, “Centro-Oeste” e Sudeste),exceto a região “Centro-Oeste”"
   ]
  },
  {
   "cell_type": "code",
   "execution_count": 11,
   "id": "599f254e",
   "metadata": {},
   "outputs": [
    {
     "name": "stdout",
     "output_type": "stream",
     "text": [
      "Centro-Oeste\n",
      "Sudeste\n"
     ]
    }
   ],
   "source": [
    "for regiao in [\"Norte\", \"Nordeste\", \"Sul\", \"Centro-Oeste\", \"Sudeste\"]:\n",
    "    if regiao in [\"Centro-Oeste\", \"Sudeste\"]:\n",
    "        print(regiao)"
   ]
  },
  {
   "cell_type": "code",
   "execution_count": null,
   "id": "ea04e104",
   "metadata": {},
   "outputs": [],
   "source": []
  }
 ],
 "metadata": {
  "kernelspec": {
   "display_name": "Python 3 (ipykernel)",
   "language": "python",
   "name": "python3"
  },
  "language_info": {
   "codemirror_mode": {
    "name": "ipython",
    "version": 3
   },
   "file_extension": ".py",
   "mimetype": "text/x-python",
   "name": "python",
   "nbconvert_exporter": "python",
   "pygments_lexer": "ipython3",
   "version": "3.9.7"
  }
 },
 "nbformat": 4,
 "nbformat_minor": 5
}
