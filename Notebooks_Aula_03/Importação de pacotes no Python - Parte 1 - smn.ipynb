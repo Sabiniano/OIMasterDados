{
 "cells": [
  {
   "cell_type": "code",
   "execution_count": 1,
   "id": "956853f1",
   "metadata": {},
   "outputs": [
    {
     "ename": "NameError",
     "evalue": "name 'sqrt' is not defined",
     "output_type": "error",
     "traceback": [
      "\u001b[1;31m---------------------------------------------------------------------------\u001b[0m",
      "\u001b[1;31mNameError\u001b[0m                                 Traceback (most recent call last)",
      "\u001b[1;32mC:\\Users\\SABINI~1\\AppData\\Local\\Temp/ipykernel_12672/1899823517.py\u001b[0m in \u001b[0;36m<module>\u001b[1;34m\u001b[0m\n\u001b[0;32m      3\u001b[0m \u001b[1;31m# ele não entende sqrt() como um comando válido. É necessário importa-la.\u001b[0m\u001b[1;33m\u001b[0m\u001b[1;33m\u001b[0m\u001b[0m\n\u001b[0;32m      4\u001b[0m \u001b[1;33m\u001b[0m\u001b[0m\n\u001b[1;32m----> 5\u001b[1;33m \u001b[0msqrt\u001b[0m\u001b[1;33m(\u001b[0m\u001b[1;36m10\u001b[0m\u001b[1;33m)\u001b[0m\u001b[1;33m\u001b[0m\u001b[1;33m\u001b[0m\u001b[0m\n\u001b[0m",
      "\u001b[1;31mNameError\u001b[0m: name 'sqrt' is not defined"
     ]
    }
   ],
   "source": [
    "# import math sqrt()\n",
    "# Essa função sqrt() não está nativamente carregada no Python. Tanto que, quando vamos utilizá-la pela primeira vez,\n",
    "# ele não entende sqrt() como um comando válido. É necessário importa-la.\n",
    "\n",
    "sqrt(10)"
   ]
  },
  {
   "cell_type": "code",
   "execution_count": 2,
   "id": "7fcaa2c4",
   "metadata": {},
   "outputs": [
    {
     "data": {
      "text/plain": [
       "3.1622776601683795"
      ]
     },
     "execution_count": 2,
     "metadata": {},
     "output_type": "execute_result"
    }
   ],
   "source": [
    "# Importando sqrt() através do pacote math\n",
    "\n",
    "import math\n",
    "math.sqrt(10)"
   ]
  },
  {
   "cell_type": "code",
   "execution_count": 3,
   "id": "a17542d0",
   "metadata": {},
   "outputs": [
    {
     "data": {
      "text/plain": [
       "3.1622776601683795"
      ]
     },
     "execution_count": 3,
     "metadata": {},
     "output_type": "execute_result"
    }
   ],
   "source": [
    "# Podemos importar apenas a função que nos interessa\n",
    "\n",
    "from math import sqrt\n",
    "sqrt(10)"
   ]
  },
  {
   "cell_type": "code",
   "execution_count": 8,
   "id": "f726dd93",
   "metadata": {},
   "outputs": [
    {
     "data": {
      "text/plain": [
       "0    1\n",
       "1    3\n",
       "2    5\n",
       "3    5\n",
       "4    6\n",
       "5    8\n",
       "dtype: int64"
      ]
     },
     "execution_count": 8,
     "metadata": {},
     "output_type": "execute_result"
    }
   ],
   "source": [
    "# Importando o pandas\n",
    "\n",
    "import pandas as pd\n",
    "serie = pd.Series([1, 3, 5, 5, 6, 8])\n",
    "serie"
   ]
  },
  {
   "cell_type": "code",
   "execution_count": 10,
   "id": "61cfb11c",
   "metadata": {},
   "outputs": [
    {
     "data": {
      "text/plain": [
       "0     1.0\n",
       "1     3.0\n",
       "2     NaN\n",
       "3     8.0\n",
       "4     9.0\n",
       "5    11.0\n",
       "dtype: float64"
      ]
     },
     "execution_count": 10,
     "metadata": {},
     "output_type": "execute_result"
    }
   ],
   "source": [
    "# Importando o numpy\n",
    "\n",
    "import numpy as np\n",
    "serie = pd.Series([1, 3, np.nan, 8, 9, 11])\n",
    "serie"
   ]
  },
  {
   "cell_type": "code",
   "execution_count": 12,
   "id": "40f451f9",
   "metadata": {},
   "outputs": [
    {
     "data": {
      "text/html": [
       "<div>\n",
       "<style scoped>\n",
       "    .dataframe tbody tr th:only-of-type {\n",
       "        vertical-align: middle;\n",
       "    }\n",
       "\n",
       "    .dataframe tbody tr th {\n",
       "        vertical-align: top;\n",
       "    }\n",
       "\n",
       "    .dataframe thead th {\n",
       "        text-align: right;\n",
       "    }\n",
       "</style>\n",
       "<table border=\"1\" class=\"dataframe\">\n",
       "  <thead>\n",
       "    <tr style=\"text-align: right;\">\n",
       "      <th></th>\n",
       "      <th>A</th>\n",
       "      <th>B</th>\n",
       "      <th>C</th>\n",
       "      <th>D</th>\n",
       "    </tr>\n",
       "  </thead>\n",
       "  <tbody>\n",
       "    <tr>\n",
       "      <th>2021-01-31</th>\n",
       "      <td>0.539368</td>\n",
       "      <td>-1.802688</td>\n",
       "      <td>-0.067707</td>\n",
       "      <td>0.356491</td>\n",
       "    </tr>\n",
       "    <tr>\n",
       "      <th>2021-02-28</th>\n",
       "      <td>0.652689</td>\n",
       "      <td>-2.047461</td>\n",
       "      <td>-1.328048</td>\n",
       "      <td>-1.265269</td>\n",
       "    </tr>\n",
       "    <tr>\n",
       "      <th>2021-03-31</th>\n",
       "      <td>-0.306171</td>\n",
       "      <td>0.115577</td>\n",
       "      <td>1.061971</td>\n",
       "      <td>0.604815</td>\n",
       "    </tr>\n",
       "    <tr>\n",
       "      <th>2021-04-30</th>\n",
       "      <td>-1.446938</td>\n",
       "      <td>-0.682324</td>\n",
       "      <td>-0.780118</td>\n",
       "      <td>0.691475</td>\n",
       "    </tr>\n",
       "    <tr>\n",
       "      <th>2021-05-31</th>\n",
       "      <td>-1.800741</td>\n",
       "      <td>1.495547</td>\n",
       "      <td>1.787143</td>\n",
       "      <td>-0.293859</td>\n",
       "    </tr>\n",
       "    <tr>\n",
       "      <th>2021-06-30</th>\n",
       "      <td>1.858947</td>\n",
       "      <td>-0.983010</td>\n",
       "      <td>-0.621603</td>\n",
       "      <td>1.024547</td>\n",
       "    </tr>\n",
       "  </tbody>\n",
       "</table>\n",
       "</div>"
      ],
      "text/plain": [
       "                   A         B         C         D\n",
       "2021-01-31  0.539368 -1.802688 -0.067707  0.356491\n",
       "2021-02-28  0.652689 -2.047461 -1.328048 -1.265269\n",
       "2021-03-31 -0.306171  0.115577  1.061971  0.604815\n",
       "2021-04-30 -1.446938 -0.682324 -0.780118  0.691475\n",
       "2021-05-31 -1.800741  1.495547  1.787143 -0.293859\n",
       "2021-06-30  1.858947 -0.983010 -0.621603  1.024547"
      ]
     },
     "execution_count": 12,
     "metadata": {},
     "output_type": "execute_result"
    }
   ],
   "source": [
    "# usando funções do pandas e do numpy para geração de um dataframe (tabela) com números aleatórios\n",
    "\n",
    "dates = pd.date_range(\"20210101\", periods = 6, freq = \"M\")\n",
    "dates\n",
    "\n",
    "df = pd.DataFrame(np.random.randn(6, 4), index = dates, columns = list(\"ABCD\"))\n",
    "df"
   ]
  },
  {
   "cell_type": "code",
   "execution_count": 15,
   "id": "939d5233",
   "metadata": {},
   "outputs": [
    {
     "name": "stdout",
     "output_type": "stream",
     "text": [
      "1.3.4\n"
     ]
    }
   ],
   "source": [
    "# Verificando a versão do pandas\n",
    "\n",
    "import pandas as pd\n",
    "print(pd.__version__)"
   ]
  },
  {
   "cell_type": "code",
   "execution_count": 20,
   "id": "553ba1a7",
   "metadata": {},
   "outputs": [
    {
     "data": {
      "text/html": [
       "<div>\n",
       "<style scoped>\n",
       "    .dataframe tbody tr th:only-of-type {\n",
       "        vertical-align: middle;\n",
       "    }\n",
       "\n",
       "    .dataframe tbody tr th {\n",
       "        vertical-align: top;\n",
       "    }\n",
       "\n",
       "    .dataframe thead th {\n",
       "        text-align: right;\n",
       "    }\n",
       "</style>\n",
       "<table border=\"1\" class=\"dataframe\">\n",
       "  <thead>\n",
       "    <tr style=\"text-align: right;\">\n",
       "      <th></th>\n",
       "      <th>Estado</th>\n",
       "      <th>Populacao</th>\n",
       "    </tr>\n",
       "  </thead>\n",
       "  <tbody>\n",
       "    <tr>\n",
       "      <th>0</th>\n",
       "      <td>SP</td>\n",
       "      <td>46649132</td>\n",
       "    </tr>\n",
       "    <tr>\n",
       "      <th>1</th>\n",
       "      <td>RJ</td>\n",
       "      <td>17463349</td>\n",
       "    </tr>\n",
       "    <tr>\n",
       "      <th>2</th>\n",
       "      <td>ES</td>\n",
       "      <td>4108508</td>\n",
       "    </tr>\n",
       "    <tr>\n",
       "      <th>3</th>\n",
       "      <td>MG</td>\n",
       "      <td>21411923</td>\n",
       "    </tr>\n",
       "    <tr>\n",
       "      <th>4</th>\n",
       "      <td>PR</td>\n",
       "      <td>11597484</td>\n",
       "    </tr>\n",
       "    <tr>\n",
       "      <th>5</th>\n",
       "      <td>RS</td>\n",
       "      <td>11466630</td>\n",
       "    </tr>\n",
       "    <tr>\n",
       "      <th>6</th>\n",
       "      <td>SC</td>\n",
       "      <td>7338473</td>\n",
       "    </tr>\n",
       "  </tbody>\n",
       "</table>\n",
       "</div>"
      ],
      "text/plain": [
       "  Estado  Populacao\n",
       "0     SP   46649132\n",
       "1     RJ   17463349\n",
       "2     ES    4108508\n",
       "3     MG   21411923\n",
       "4     PR   11597484\n",
       "5     RS   11466630\n",
       "6     SC    7338473"
      ]
     },
     "execution_count": 20,
     "metadata": {},
     "output_type": "execute_result"
    }
   ],
   "source": [
    "# Transformando um dicionário em um DataFrame pandas\n",
    "\n",
    "dados = {'Estado': [\"SP\", \"RJ\", \"ES\", \"MG\", \"PR\", \"RS\", \"SC\"], 'Populacao': [46649132, 17463349, 4108508, 21411923, \n",
    "                                                                             11597484, 11466630, 7338473]}\n",
    "basepop = pd.DataFrame(dados)\n",
    "basepop"
   ]
  },
  {
   "cell_type": "code",
   "execution_count": 22,
   "id": "49ba1850",
   "metadata": {},
   "outputs": [
    {
     "data": {
      "text/plain": [
       "pandas.core.frame.DataFrame"
      ]
     },
     "execution_count": 22,
     "metadata": {},
     "output_type": "execute_result"
    }
   ],
   "source": [
    "# Verificando o tipo de objeto criado\n",
    "\n",
    "type(basepop)"
   ]
  },
  {
   "cell_type": "code",
   "execution_count": 23,
   "id": "48a935d1",
   "metadata": {},
   "outputs": [
    {
     "data": {
      "text/html": [
       "<div>\n",
       "<style scoped>\n",
       "    .dataframe tbody tr th:only-of-type {\n",
       "        vertical-align: middle;\n",
       "    }\n",
       "\n",
       "    .dataframe tbody tr th {\n",
       "        vertical-align: top;\n",
       "    }\n",
       "\n",
       "    .dataframe thead th {\n",
       "        text-align: right;\n",
       "    }\n",
       "</style>\n",
       "<table border=\"1\" class=\"dataframe\">\n",
       "  <thead>\n",
       "    <tr style=\"text-align: right;\">\n",
       "      <th></th>\n",
       "      <th>Estado</th>\n",
       "      <th>Populacao</th>\n",
       "    </tr>\n",
       "  </thead>\n",
       "  <tbody>\n",
       "    <tr>\n",
       "      <th>0</th>\n",
       "      <td>SP</td>\n",
       "      <td>46649132</td>\n",
       "    </tr>\n",
       "    <tr>\n",
       "      <th>1</th>\n",
       "      <td>RJ</td>\n",
       "      <td>17463349</td>\n",
       "    </tr>\n",
       "    <tr>\n",
       "      <th>2</th>\n",
       "      <td>ES</td>\n",
       "      <td>4108508</td>\n",
       "    </tr>\n",
       "  </tbody>\n",
       "</table>\n",
       "</div>"
      ],
      "text/plain": [
       "  Estado  Populacao\n",
       "0     SP   46649132\n",
       "1     RJ   17463349\n",
       "2     ES    4108508"
      ]
     },
     "execution_count": 23,
     "metadata": {},
     "output_type": "execute_result"
    }
   ],
   "source": [
    "# Observando as primeiras n linhas da tabela\n",
    "\n",
    "basepop.head(3)"
   ]
  },
  {
   "cell_type": "code",
   "execution_count": 24,
   "id": "986eb812",
   "metadata": {},
   "outputs": [
    {
     "data": {
      "text/html": [
       "<div>\n",
       "<style scoped>\n",
       "    .dataframe tbody tr th:only-of-type {\n",
       "        vertical-align: middle;\n",
       "    }\n",
       "\n",
       "    .dataframe tbody tr th {\n",
       "        vertical-align: top;\n",
       "    }\n",
       "\n",
       "    .dataframe thead th {\n",
       "        text-align: right;\n",
       "    }\n",
       "</style>\n",
       "<table border=\"1\" class=\"dataframe\">\n",
       "  <thead>\n",
       "    <tr style=\"text-align: right;\">\n",
       "      <th></th>\n",
       "      <th>Estado</th>\n",
       "      <th>Populacao</th>\n",
       "    </tr>\n",
       "  </thead>\n",
       "  <tbody>\n",
       "    <tr>\n",
       "      <th>4</th>\n",
       "      <td>PR</td>\n",
       "      <td>11597484</td>\n",
       "    </tr>\n",
       "    <tr>\n",
       "      <th>5</th>\n",
       "      <td>RS</td>\n",
       "      <td>11466630</td>\n",
       "    </tr>\n",
       "    <tr>\n",
       "      <th>6</th>\n",
       "      <td>SC</td>\n",
       "      <td>7338473</td>\n",
       "    </tr>\n",
       "  </tbody>\n",
       "</table>\n",
       "</div>"
      ],
      "text/plain": [
       "  Estado  Populacao\n",
       "4     PR   11597484\n",
       "5     RS   11466630\n",
       "6     SC    7338473"
      ]
     },
     "execution_count": 24,
     "metadata": {},
     "output_type": "execute_result"
    }
   ],
   "source": [
    "# Observando as ultimas n linhas da tabela\n",
    "\n",
    "basepop.tail(3)"
   ]
  },
  {
   "cell_type": "code",
   "execution_count": 25,
   "id": "82032937",
   "metadata": {},
   "outputs": [
    {
     "data": {
      "text/plain": [
       "(7, 2)"
      ]
     },
     "execution_count": 25,
     "metadata": {},
     "output_type": "execute_result"
    }
   ],
   "source": [
    "# trazendo a quantidade de linhas e colunas da tabela\n",
    "\n",
    "basepop.shape"
   ]
  },
  {
   "cell_type": "code",
   "execution_count": 26,
   "id": "2151258d",
   "metadata": {},
   "outputs": [
    {
     "data": {
      "text/plain": [
       "0     1\n",
       "1     2\n",
       "2     4\n",
       "3     8\n",
       "4    16\n",
       "5    32\n",
       "dtype: int64"
      ]
     },
     "execution_count": 26,
     "metadata": {},
     "output_type": "execute_result"
    }
   ],
   "source": [
    "# Gerando uma serie de dados\n",
    "# O atributo “Series” permite que o Python\n",
    "#  identifique que cada número da lista\n",
    "#  representa uma sequência indexada,\n",
    "#  começando pelo 0.\n",
    "\n",
    "serie = [1, 2, 4, 8, 16, 32]\n",
    "minha_serie = pd.Series(serie)\n",
    "minha_serie"
   ]
  },
  {
   "cell_type": "code",
   "execution_count": 28,
   "id": "3f282347",
   "metadata": {},
   "outputs": [
    {
     "data": {
      "text/plain": [
       "a     1\n",
       "b     2\n",
       "c     4\n",
       "d     8\n",
       "e    16\n",
       "f    32\n",
       "dtype: int64"
      ]
     },
     "execution_count": 28,
     "metadata": {},
     "output_type": "execute_result"
    }
   ],
   "source": [
    "# Colocando um rótulo nos valores nos indices da série\n",
    "\n",
    "minha_serie = pd.Series(serie, index=[\"a\", \"b\", \"c\", \"d\", \"e\", \"f\"])\n",
    "minha_serie"
   ]
  },
  {
   "cell_type": "code",
   "execution_count": 31,
   "id": "36803217",
   "metadata": {},
   "outputs": [
    {
     "data": {
      "text/plain": [
       "0    SP\n",
       "1    RJ\n",
       "2    ES\n",
       "3    MG\n",
       "4    PR\n",
       "5    RS\n",
       "6    SC\n",
       "Name: Estado, dtype: object"
      ]
     },
     "execution_count": 31,
     "metadata": {},
     "output_type": "execute_result"
    }
   ],
   "source": [
    "# Filtrando uma coluna especifica\n",
    "\n",
    "basepop[\"Estado\"]"
   ]
  },
  {
   "cell_type": "code",
   "execution_count": 32,
   "id": "dac8aa1a",
   "metadata": {},
   "outputs": [
    {
     "data": {
      "text/html": [
       "<div>\n",
       "<style scoped>\n",
       "    .dataframe tbody tr th:only-of-type {\n",
       "        vertical-align: middle;\n",
       "    }\n",
       "\n",
       "    .dataframe tbody tr th {\n",
       "        vertical-align: top;\n",
       "    }\n",
       "\n",
       "    .dataframe thead th {\n",
       "        text-align: right;\n",
       "    }\n",
       "</style>\n",
       "<table border=\"1\" class=\"dataframe\">\n",
       "  <thead>\n",
       "    <tr style=\"text-align: right;\">\n",
       "      <th></th>\n",
       "      <th>Estado</th>\n",
       "      <th>Populacao</th>\n",
       "    </tr>\n",
       "  </thead>\n",
       "  <tbody>\n",
       "    <tr>\n",
       "      <th>1</th>\n",
       "      <td>RJ</td>\n",
       "      <td>17463349</td>\n",
       "    </tr>\n",
       "    <tr>\n",
       "      <th>4</th>\n",
       "      <td>PR</td>\n",
       "      <td>11597484</td>\n",
       "    </tr>\n",
       "  </tbody>\n",
       "</table>\n",
       "</div>"
      ],
      "text/plain": [
       "  Estado  Populacao\n",
       "1     RJ   17463349\n",
       "4     PR   11597484"
      ]
     },
     "execution_count": 32,
     "metadata": {},
     "output_type": "execute_result"
    }
   ],
   "source": [
    "# Filtando mais de uma linha\n",
    "\n",
    "basepop.loc[[1,4]]"
   ]
  },
  {
   "cell_type": "code",
   "execution_count": 33,
   "id": "f8df5170",
   "metadata": {},
   "outputs": [
    {
     "data": {
      "text/html": [
       "<div>\n",
       "<style scoped>\n",
       "    .dataframe tbody tr th:only-of-type {\n",
       "        vertical-align: middle;\n",
       "    }\n",
       "\n",
       "    .dataframe tbody tr th {\n",
       "        vertical-align: top;\n",
       "    }\n",
       "\n",
       "    .dataframe thead th {\n",
       "        text-align: right;\n",
       "    }\n",
       "</style>\n",
       "<table border=\"1\" class=\"dataframe\">\n",
       "  <thead>\n",
       "    <tr style=\"text-align: right;\">\n",
       "      <th></th>\n",
       "      <th>Estado</th>\n",
       "      <th>Populacao</th>\n",
       "    </tr>\n",
       "  </thead>\n",
       "  <tbody>\n",
       "    <tr>\n",
       "      <th>0</th>\n",
       "      <td>SP</td>\n",
       "      <td>46649132</td>\n",
       "    </tr>\n",
       "  </tbody>\n",
       "</table>\n",
       "</div>"
      ],
      "text/plain": [
       "  Estado  Populacao\n",
       "0     SP   46649132"
      ]
     },
     "execution_count": 33,
     "metadata": {},
     "output_type": "execute_result"
    }
   ],
   "source": [
    "# Filtrando uma linha especifica\n",
    "\n",
    "basepop.loc[[0]]"
   ]
  },
  {
   "cell_type": "code",
   "execution_count": 35,
   "id": "05de8c1d",
   "metadata": {},
   "outputs": [
    {
     "data": {
      "text/html": [
       "<div>\n",
       "<style scoped>\n",
       "    .dataframe tbody tr th:only-of-type {\n",
       "        vertical-align: middle;\n",
       "    }\n",
       "\n",
       "    .dataframe tbody tr th {\n",
       "        vertical-align: top;\n",
       "    }\n",
       "\n",
       "    .dataframe thead th {\n",
       "        text-align: right;\n",
       "    }\n",
       "</style>\n",
       "<table border=\"1\" class=\"dataframe\">\n",
       "  <thead>\n",
       "    <tr style=\"text-align: right;\">\n",
       "      <th></th>\n",
       "      <th>Estado</th>\n",
       "      <th>Populacao</th>\n",
       "    </tr>\n",
       "  </thead>\n",
       "  <tbody>\n",
       "    <tr>\n",
       "      <th>1</th>\n",
       "      <td>RJ</td>\n",
       "      <td>17463349</td>\n",
       "    </tr>\n",
       "    <tr>\n",
       "      <th>2</th>\n",
       "      <td>ES</td>\n",
       "      <td>4108508</td>\n",
       "    </tr>\n",
       "    <tr>\n",
       "      <th>3</th>\n",
       "      <td>MG</td>\n",
       "      <td>21411923</td>\n",
       "    </tr>\n",
       "  </tbody>\n",
       "</table>\n",
       "</div>"
      ],
      "text/plain": [
       "  Estado  Populacao\n",
       "1     RJ   17463349\n",
       "2     ES    4108508\n",
       "3     MG   21411923"
      ]
     },
     "execution_count": 35,
     "metadata": {},
     "output_type": "execute_result"
    }
   ],
   "source": [
    "# Filtrando mais de uma linha de forma sequencial\n",
    "\n",
    "basepop.loc[1:3]"
   ]
  },
  {
   "cell_type": "code",
   "execution_count": 39,
   "id": "9acca7b8",
   "metadata": {},
   "outputs": [
    {
     "data": {
      "text/plain": [
       "1    RJ\n",
       "2    ES\n",
       "3    MG\n",
       "Name: Estado, dtype: object"
      ]
     },
     "execution_count": 39,
     "metadata": {},
     "output_type": "execute_result"
    }
   ],
   "source": [
    "# Filtrando mais de uma linha de forma sequencial e uma coluna especifica\n",
    "\n",
    "basepop.loc[1:3, \"Estado\"]"
   ]
  },
  {
   "cell_type": "code",
   "execution_count": 41,
   "id": "c76e6599",
   "metadata": {},
   "outputs": [
    {
     "data": {
      "text/html": [
       "<div>\n",
       "<style scoped>\n",
       "    .dataframe tbody tr th:only-of-type {\n",
       "        vertical-align: middle;\n",
       "    }\n",
       "\n",
       "    .dataframe tbody tr th {\n",
       "        vertical-align: top;\n",
       "    }\n",
       "\n",
       "    .dataframe thead th {\n",
       "        text-align: right;\n",
       "    }\n",
       "</style>\n",
       "<table border=\"1\" class=\"dataframe\">\n",
       "  <thead>\n",
       "    <tr style=\"text-align: right;\">\n",
       "      <th></th>\n",
       "      <th>Estado</th>\n",
       "      <th>Populacao</th>\n",
       "    </tr>\n",
       "  </thead>\n",
       "  <tbody>\n",
       "    <tr>\n",
       "      <th>0</th>\n",
       "      <td>SP</td>\n",
       "      <td>46649132</td>\n",
       "    </tr>\n",
       "    <tr>\n",
       "      <th>1</th>\n",
       "      <td>RJ</td>\n",
       "      <td>17463349</td>\n",
       "    </tr>\n",
       "    <tr>\n",
       "      <th>2</th>\n",
       "      <td>ES</td>\n",
       "      <td>4108508</td>\n",
       "    </tr>\n",
       "  </tbody>\n",
       "</table>\n",
       "</div>"
      ],
      "text/plain": [
       "  Estado  Populacao\n",
       "0     SP   46649132\n",
       "1     RJ   17463349\n",
       "2     ES    4108508"
      ]
     },
     "execution_count": 41,
     "metadata": {},
     "output_type": "execute_result"
    }
   ],
   "source": [
    "# Filtrando mais de uma linha de forma sequencial e definindo as colunas\n",
    "# O “iloc” é uma boa alternativa ao “loc”, mas a limitação é que precisamos colocar os números das linhas e/ou colunas\n",
    "# que desejamos filtrar, enquanto o “loc”, é possível selecionar usando os nomes das colunas.\n",
    "\n",
    "basepop.iloc[0:3, 0:2]"
   ]
  },
  {
   "cell_type": "code",
   "execution_count": 42,
   "id": "ce0b0d83",
   "metadata": {},
   "outputs": [
    {
     "data": {
      "text/html": [
       "<div>\n",
       "<style scoped>\n",
       "    .dataframe tbody tr th:only-of-type {\n",
       "        vertical-align: middle;\n",
       "    }\n",
       "\n",
       "    .dataframe tbody tr th {\n",
       "        vertical-align: top;\n",
       "    }\n",
       "\n",
       "    .dataframe thead th {\n",
       "        text-align: right;\n",
       "    }\n",
       "</style>\n",
       "<table border=\"1\" class=\"dataframe\">\n",
       "  <thead>\n",
       "    <tr style=\"text-align: right;\">\n",
       "      <th></th>\n",
       "      <th>Estado</th>\n",
       "      <th>Populacao</th>\n",
       "    </tr>\n",
       "  </thead>\n",
       "  <tbody>\n",
       "    <tr>\n",
       "      <th>0</th>\n",
       "      <td>SP</td>\n",
       "      <td>46649132</td>\n",
       "    </tr>\n",
       "    <tr>\n",
       "      <th>1</th>\n",
       "      <td>RJ</td>\n",
       "      <td>17463349</td>\n",
       "    </tr>\n",
       "    <tr>\n",
       "      <th>2</th>\n",
       "      <td>ES</td>\n",
       "      <td>4108508</td>\n",
       "    </tr>\n",
       "  </tbody>\n",
       "</table>\n",
       "</div>"
      ],
      "text/plain": [
       "  Estado  Populacao\n",
       "0     SP   46649132\n",
       "1     RJ   17463349\n",
       "2     ES    4108508"
      ]
     },
     "execution_count": 42,
     "metadata": {},
     "output_type": "execute_result"
    }
   ],
   "source": [
    "# Filtrando todas as colunas de uma linha ou de um conjunto de linhas\n",
    "\n",
    "basepop.iloc[0:3, :]"
   ]
  },
  {
   "cell_type": "code",
   "execution_count": 43,
   "id": "2fa02276",
   "metadata": {},
   "outputs": [
    {
     "data": {
      "text/html": [
       "<div>\n",
       "<style scoped>\n",
       "    .dataframe tbody tr th:only-of-type {\n",
       "        vertical-align: middle;\n",
       "    }\n",
       "\n",
       "    .dataframe tbody tr th {\n",
       "        vertical-align: top;\n",
       "    }\n",
       "\n",
       "    .dataframe thead th {\n",
       "        text-align: right;\n",
       "    }\n",
       "</style>\n",
       "<table border=\"1\" class=\"dataframe\">\n",
       "  <thead>\n",
       "    <tr style=\"text-align: right;\">\n",
       "      <th></th>\n",
       "      <th>Estado</th>\n",
       "    </tr>\n",
       "  </thead>\n",
       "  <tbody>\n",
       "    <tr>\n",
       "      <th>0</th>\n",
       "      <td>SP</td>\n",
       "    </tr>\n",
       "    <tr>\n",
       "      <th>1</th>\n",
       "      <td>RJ</td>\n",
       "    </tr>\n",
       "    <tr>\n",
       "      <th>2</th>\n",
       "      <td>ES</td>\n",
       "    </tr>\n",
       "    <tr>\n",
       "      <th>3</th>\n",
       "      <td>MG</td>\n",
       "    </tr>\n",
       "    <tr>\n",
       "      <th>4</th>\n",
       "      <td>PR</td>\n",
       "    </tr>\n",
       "    <tr>\n",
       "      <th>5</th>\n",
       "      <td>RS</td>\n",
       "    </tr>\n",
       "    <tr>\n",
       "      <th>6</th>\n",
       "      <td>SC</td>\n",
       "    </tr>\n",
       "  </tbody>\n",
       "</table>\n",
       "</div>"
      ],
      "text/plain": [
       "  Estado\n",
       "0     SP\n",
       "1     RJ\n",
       "2     ES\n",
       "3     MG\n",
       "4     PR\n",
       "5     RS\n",
       "6     SC"
      ]
     },
     "execution_count": 43,
     "metadata": {},
     "output_type": "execute_result"
    }
   ],
   "source": [
    "# Filtrando todas as linhas de uma coluna ou conjunto de colunas\n",
    "\n",
    "basepop.iloc[:, 0:1]"
   ]
  },
  {
   "cell_type": "code",
   "execution_count": 45,
   "id": "56eb5cba",
   "metadata": {},
   "outputs": [
    {
     "data": {
      "text/html": [
       "<div>\n",
       "<style scoped>\n",
       "    .dataframe tbody tr th:only-of-type {\n",
       "        vertical-align: middle;\n",
       "    }\n",
       "\n",
       "    .dataframe tbody tr th {\n",
       "        vertical-align: top;\n",
       "    }\n",
       "\n",
       "    .dataframe thead th {\n",
       "        text-align: right;\n",
       "    }\n",
       "</style>\n",
       "<table border=\"1\" class=\"dataframe\">\n",
       "  <thead>\n",
       "    <tr style=\"text-align: right;\">\n",
       "      <th></th>\n",
       "      <th>Estado</th>\n",
       "      <th>Populacao</th>\n",
       "    </tr>\n",
       "  </thead>\n",
       "  <tbody>\n",
       "    <tr>\n",
       "      <th>0</th>\n",
       "      <td>SP</td>\n",
       "      <td>46649132</td>\n",
       "    </tr>\n",
       "    <tr>\n",
       "      <th>1</th>\n",
       "      <td>RJ</td>\n",
       "      <td>17463349</td>\n",
       "    </tr>\n",
       "    <tr>\n",
       "      <th>3</th>\n",
       "      <td>MG</td>\n",
       "      <td>21411923</td>\n",
       "    </tr>\n",
       "    <tr>\n",
       "      <th>4</th>\n",
       "      <td>PR</td>\n",
       "      <td>11597484</td>\n",
       "    </tr>\n",
       "    <tr>\n",
       "      <th>5</th>\n",
       "      <td>RS</td>\n",
       "      <td>11466630</td>\n",
       "    </tr>\n",
       "  </tbody>\n",
       "</table>\n",
       "</div>"
      ],
      "text/plain": [
       "  Estado  Populacao\n",
       "0     SP   46649132\n",
       "1     RJ   17463349\n",
       "3     MG   21411923\n",
       "4     PR   11597484\n",
       "5     RS   11466630"
      ]
     },
     "execution_count": 45,
     "metadata": {},
     "output_type": "execute_result"
    }
   ],
   "source": [
    "# Filtrando linhas a partir de uma condição especifica\n",
    "\n",
    "basepop.loc[basepop[\"Populacao\"]>10000000]"
   ]
  },
  {
   "cell_type": "code",
   "execution_count": 46,
   "id": "bc1222ab",
   "metadata": {},
   "outputs": [
    {
     "data": {
      "text/html": [
       "<div>\n",
       "<style scoped>\n",
       "    .dataframe tbody tr th:only-of-type {\n",
       "        vertical-align: middle;\n",
       "    }\n",
       "\n",
       "    .dataframe tbody tr th {\n",
       "        vertical-align: top;\n",
       "    }\n",
       "\n",
       "    .dataframe thead th {\n",
       "        text-align: right;\n",
       "    }\n",
       "</style>\n",
       "<table border=\"1\" class=\"dataframe\">\n",
       "  <thead>\n",
       "    <tr style=\"text-align: right;\">\n",
       "      <th></th>\n",
       "      <th>Estado</th>\n",
       "      <th>Populacao</th>\n",
       "    </tr>\n",
       "  </thead>\n",
       "  <tbody>\n",
       "    <tr>\n",
       "      <th>0</th>\n",
       "      <td>SP</td>\n",
       "      <td>46649132</td>\n",
       "    </tr>\n",
       "  </tbody>\n",
       "</table>\n",
       "</div>"
      ],
      "text/plain": [
       "  Estado  Populacao\n",
       "0     SP   46649132"
      ]
     },
     "execution_count": 46,
     "metadata": {},
     "output_type": "execute_result"
    }
   ],
   "source": [
    "# Filtrando linhas a partir de mais de uma condição especifica, em que ambas sejam atendidas(and)\n",
    "\n",
    "basepop.loc[(basepop[\"Populacao\"]>10000000) & (basepop[\"Estado\"]==\"SP\")]"
   ]
  },
  {
   "cell_type": "code",
   "execution_count": 48,
   "id": "6068b859",
   "metadata": {},
   "outputs": [
    {
     "data": {
      "text/html": [
       "<div>\n",
       "<style scoped>\n",
       "    .dataframe tbody tr th:only-of-type {\n",
       "        vertical-align: middle;\n",
       "    }\n",
       "\n",
       "    .dataframe tbody tr th {\n",
       "        vertical-align: top;\n",
       "    }\n",
       "\n",
       "    .dataframe thead th {\n",
       "        text-align: right;\n",
       "    }\n",
       "</style>\n",
       "<table border=\"1\" class=\"dataframe\">\n",
       "  <thead>\n",
       "    <tr style=\"text-align: right;\">\n",
       "      <th></th>\n",
       "      <th>Estado</th>\n",
       "      <th>Populacao</th>\n",
       "    </tr>\n",
       "  </thead>\n",
       "  <tbody>\n",
       "    <tr>\n",
       "      <th>0</th>\n",
       "      <td>SP</td>\n",
       "      <td>46649132</td>\n",
       "    </tr>\n",
       "    <tr>\n",
       "      <th>1</th>\n",
       "      <td>RJ</td>\n",
       "      <td>17463349</td>\n",
       "    </tr>\n",
       "    <tr>\n",
       "      <th>3</th>\n",
       "      <td>MG</td>\n",
       "      <td>21411923</td>\n",
       "    </tr>\n",
       "    <tr>\n",
       "      <th>4</th>\n",
       "      <td>PR</td>\n",
       "      <td>11597484</td>\n",
       "    </tr>\n",
       "    <tr>\n",
       "      <th>5</th>\n",
       "      <td>RS</td>\n",
       "      <td>11466630</td>\n",
       "    </tr>\n",
       "  </tbody>\n",
       "</table>\n",
       "</div>"
      ],
      "text/plain": [
       "  Estado  Populacao\n",
       "0     SP   46649132\n",
       "1     RJ   17463349\n",
       "3     MG   21411923\n",
       "4     PR   11597484\n",
       "5     RS   11466630"
      ]
     },
     "execution_count": 48,
     "metadata": {},
     "output_type": "execute_result"
    }
   ],
   "source": [
    "# Filtrando linhas a partir de mais de uma condição especifica, em que pelo menos uma seja atendida(or)\n",
    "\n",
    "basepop.loc[(basepop[\"Populacao\"]>10000000) | (basepop[\"Estado\"]==\"SP\")]"
   ]
  },
  {
   "cell_type": "code",
   "execution_count": 49,
   "id": "48a2deb5",
   "metadata": {},
   "outputs": [
    {
     "data": {
      "text/html": [
       "<div>\n",
       "<style scoped>\n",
       "    .dataframe tbody tr th:only-of-type {\n",
       "        vertical-align: middle;\n",
       "    }\n",
       "\n",
       "    .dataframe tbody tr th {\n",
       "        vertical-align: top;\n",
       "    }\n",
       "\n",
       "    .dataframe thead th {\n",
       "        text-align: right;\n",
       "    }\n",
       "</style>\n",
       "<table border=\"1\" class=\"dataframe\">\n",
       "  <thead>\n",
       "    <tr style=\"text-align: right;\">\n",
       "      <th></th>\n",
       "      <th>Estado</th>\n",
       "      <th>Populacao</th>\n",
       "    </tr>\n",
       "  </thead>\n",
       "  <tbody>\n",
       "    <tr>\n",
       "      <th>2</th>\n",
       "      <td>ES</td>\n",
       "      <td>4108508</td>\n",
       "    </tr>\n",
       "  </tbody>\n",
       "</table>\n",
       "</div>"
      ],
      "text/plain": [
       "  Estado  Populacao\n",
       "2     ES    4108508"
      ]
     },
     "execution_count": 49,
     "metadata": {},
     "output_type": "execute_result"
    }
   ],
   "source": [
    "# Usando o comando query para filtrar de uma maneira ainda mais simples\n",
    "\n",
    "basepop.query(\"Populacao<10000000 & Estado=='ES'\")"
   ]
  },
  {
   "cell_type": "code",
   "execution_count": 50,
   "id": "fda7d1ff",
   "metadata": {},
   "outputs": [
    {
     "data": {
      "text/html": [
       "<div>\n",
       "<style scoped>\n",
       "    .dataframe tbody tr th:only-of-type {\n",
       "        vertical-align: middle;\n",
       "    }\n",
       "\n",
       "    .dataframe tbody tr th {\n",
       "        vertical-align: top;\n",
       "    }\n",
       "\n",
       "    .dataframe thead th {\n",
       "        text-align: right;\n",
       "    }\n",
       "</style>\n",
       "<table border=\"1\" class=\"dataframe\">\n",
       "  <thead>\n",
       "    <tr style=\"text-align: right;\">\n",
       "      <th></th>\n",
       "      <th>Estado</th>\n",
       "    </tr>\n",
       "  </thead>\n",
       "  <tbody>\n",
       "    <tr>\n",
       "      <th>0</th>\n",
       "      <td>SP</td>\n",
       "    </tr>\n",
       "    <tr>\n",
       "      <th>1</th>\n",
       "      <td>RJ</td>\n",
       "    </tr>\n",
       "    <tr>\n",
       "      <th>2</th>\n",
       "      <td>ES</td>\n",
       "    </tr>\n",
       "    <tr>\n",
       "      <th>3</th>\n",
       "      <td>MG</td>\n",
       "    </tr>\n",
       "    <tr>\n",
       "      <th>4</th>\n",
       "      <td>PR</td>\n",
       "    </tr>\n",
       "    <tr>\n",
       "      <th>5</th>\n",
       "      <td>RS</td>\n",
       "    </tr>\n",
       "    <tr>\n",
       "      <th>6</th>\n",
       "      <td>SC</td>\n",
       "    </tr>\n",
       "  </tbody>\n",
       "</table>\n",
       "</div>"
      ],
      "text/plain": [
       "  Estado\n",
       "0     SP\n",
       "1     RJ\n",
       "2     ES\n",
       "3     MG\n",
       "4     PR\n",
       "5     RS\n",
       "6     SC"
      ]
     },
     "execution_count": 50,
     "metadata": {},
     "output_type": "execute_result"
    }
   ],
   "source": [
    "# Usando o comando filter para seleção de linhas e colunas\n",
    "\n",
    "basepop.filter([\"Estado\"])"
   ]
  },
  {
   "cell_type": "code",
   "execution_count": 52,
   "id": "cfcca406",
   "metadata": {},
   "outputs": [
    {
     "data": {
      "text/plain": [
       "17147928.42857143"
      ]
     },
     "execution_count": 52,
     "metadata": {},
     "output_type": "execute_result"
    }
   ],
   "source": [
    "# Extraindo a média de população dos estados\n",
    "\n",
    "mediapop = basepop[\"Populacao\"].mean()\n",
    "mediapop"
   ]
  },
  {
   "cell_type": "code",
   "execution_count": 53,
   "id": "bfa7d7ed",
   "metadata": {},
   "outputs": [
    {
     "data": {
      "text/html": [
       "<div>\n",
       "<style scoped>\n",
       "    .dataframe tbody tr th:only-of-type {\n",
       "        vertical-align: middle;\n",
       "    }\n",
       "\n",
       "    .dataframe tbody tr th {\n",
       "        vertical-align: top;\n",
       "    }\n",
       "\n",
       "    .dataframe thead th {\n",
       "        text-align: right;\n",
       "    }\n",
       "</style>\n",
       "<table border=\"1\" class=\"dataframe\">\n",
       "  <thead>\n",
       "    <tr style=\"text-align: right;\">\n",
       "      <th></th>\n",
       "      <th>Estado</th>\n",
       "      <th>Populacao</th>\n",
       "    </tr>\n",
       "  </thead>\n",
       "  <tbody>\n",
       "    <tr>\n",
       "      <th>0</th>\n",
       "      <td>SP</td>\n",
       "      <td>46649132</td>\n",
       "    </tr>\n",
       "    <tr>\n",
       "      <th>1</th>\n",
       "      <td>RJ</td>\n",
       "      <td>17463349</td>\n",
       "    </tr>\n",
       "    <tr>\n",
       "      <th>3</th>\n",
       "      <td>MG</td>\n",
       "      <td>21411923</td>\n",
       "    </tr>\n",
       "  </tbody>\n",
       "</table>\n",
       "</div>"
      ],
      "text/plain": [
       "  Estado  Populacao\n",
       "0     SP   46649132\n",
       "1     RJ   17463349\n",
       "3     MG   21411923"
      ]
     },
     "execution_count": 53,
     "metadata": {},
     "output_type": "execute_result"
    }
   ],
   "source": [
    "# Filtrando estados com população acima da média\n",
    "\n",
    "basepop.query(\"Populacao > @ mediapop\")"
   ]
  },
  {
   "cell_type": "code",
   "execution_count": 54,
   "id": "9cf8b00f",
   "metadata": {},
   "outputs": [
    {
     "data": {
      "text/html": [
       "<div>\n",
       "<style scoped>\n",
       "    .dataframe tbody tr th:only-of-type {\n",
       "        vertical-align: middle;\n",
       "    }\n",
       "\n",
       "    .dataframe tbody tr th {\n",
       "        vertical-align: top;\n",
       "    }\n",
       "\n",
       "    .dataframe thead th {\n",
       "        text-align: right;\n",
       "    }\n",
       "</style>\n",
       "<table border=\"1\" class=\"dataframe\">\n",
       "  <thead>\n",
       "    <tr style=\"text-align: right;\">\n",
       "      <th></th>\n",
       "      <th>Estado</th>\n",
       "      <th>Populacao</th>\n",
       "    </tr>\n",
       "  </thead>\n",
       "  <tbody>\n",
       "    <tr>\n",
       "      <th>0</th>\n",
       "      <td>SP</td>\n",
       "      <td>46649132</td>\n",
       "    </tr>\n",
       "    <tr>\n",
       "      <th>4</th>\n",
       "      <td>PR</td>\n",
       "      <td>11597484</td>\n",
       "    </tr>\n",
       "    <tr>\n",
       "      <th>5</th>\n",
       "      <td>RS</td>\n",
       "      <td>11466630</td>\n",
       "    </tr>\n",
       "  </tbody>\n",
       "</table>\n",
       "</div>"
      ],
      "text/plain": [
       "  Estado  Populacao\n",
       "0     SP   46649132\n",
       "4     PR   11597484\n",
       "5     RS   11466630"
      ]
     },
     "execution_count": 54,
     "metadata": {},
     "output_type": "execute_result"
    }
   ],
   "source": [
    "# Filtrando um conjunto de estados especificos\n",
    "\n",
    "basepop[basepop[\"Estado\"].isin([\"SP\", \"RS\", \"PR\"])]"
   ]
  },
  {
   "cell_type": "code",
   "execution_count": 60,
   "id": "6e689675",
   "metadata": {
    "scrolled": true
   },
   "outputs": [
    {
     "data": {
      "text/html": [
       "<div>\n",
       "<style scoped>\n",
       "    .dataframe tbody tr th:only-of-type {\n",
       "        vertical-align: middle;\n",
       "    }\n",
       "\n",
       "    .dataframe tbody tr th {\n",
       "        vertical-align: top;\n",
       "    }\n",
       "\n",
       "    .dataframe thead th {\n",
       "        text-align: right;\n",
       "    }\n",
       "</style>\n",
       "<table border=\"1\" class=\"dataframe\">\n",
       "  <thead>\n",
       "    <tr style=\"text-align: right;\">\n",
       "      <th></th>\n",
       "      <th>CIDADE</th>\n",
       "      <th>ESTADO</th>\n",
       "      <th>IBGE_RES_POP</th>\n",
       "      <th>IBGE_POP_URB</th>\n",
       "      <th>POP_ABAIXO_1</th>\n",
       "      <th>POP_1_4</th>\n",
       "      <th>POP_5_9</th>\n",
       "      <th>POP_10-14</th>\n",
       "      <th>POP_15-59</th>\n",
       "      <th>POP_60_MAIS</th>\n",
       "      <th>...</th>\n",
       "      <th>IDHM_Educacao</th>\n",
       "      <th>LONG</th>\n",
       "      <th>LAT</th>\n",
       "      <th>TV_CABO</th>\n",
       "      <th>POP_ESTIMADA</th>\n",
       "      <th>PIB</th>\n",
       "      <th>PIB_CAPITA</th>\n",
       "      <th>CARROS</th>\n",
       "      <th>MOTOS</th>\n",
       "      <th>TOT_EMPRESAS</th>\n",
       "    </tr>\n",
       "  </thead>\n",
       "  <tbody>\n",
       "    <tr>\n",
       "      <th>0</th>\n",
       "      <td>Abadia De Goiás</td>\n",
       "      <td>GO</td>\n",
       "      <td>6876.0</td>\n",
       "      <td>5300.0</td>\n",
       "      <td>69.0</td>\n",
       "      <td>318.0</td>\n",
       "      <td>438.0</td>\n",
       "      <td>517.0</td>\n",
       "      <td>3542.0</td>\n",
       "      <td>416.0</td>\n",
       "      <td>...</td>\n",
       "      <td>0.622</td>\n",
       "      <td>-49.440548</td>\n",
       "      <td>-16.758812</td>\n",
       "      <td>360.0</td>\n",
       "      <td>8583.0</td>\n",
       "      <td>166.41</td>\n",
       "      <td>20664.57</td>\n",
       "      <td>2158.0</td>\n",
       "      <td>1246.0</td>\n",
       "      <td>284.0</td>\n",
       "    </tr>\n",
       "    <tr>\n",
       "      <th>1</th>\n",
       "      <td>Abadia Dos Dourados</td>\n",
       "      <td>MG</td>\n",
       "      <td>6704.0</td>\n",
       "      <td>4154.0</td>\n",
       "      <td>38.0</td>\n",
       "      <td>207.0</td>\n",
       "      <td>260.0</td>\n",
       "      <td>351.0</td>\n",
       "      <td>2709.0</td>\n",
       "      <td>589.0</td>\n",
       "      <td>...</td>\n",
       "      <td>0.563</td>\n",
       "      <td>-47.396832</td>\n",
       "      <td>-18.487565</td>\n",
       "      <td>77.0</td>\n",
       "      <td>6972.0</td>\n",
       "      <td>180.09</td>\n",
       "      <td>25591.70</td>\n",
       "      <td>2227.0</td>\n",
       "      <td>1142.0</td>\n",
       "      <td>476.0</td>\n",
       "    </tr>\n",
       "    <tr>\n",
       "      <th>2</th>\n",
       "      <td>Abadiânia</td>\n",
       "      <td>GO</td>\n",
       "      <td>15757.0</td>\n",
       "      <td>10656.0</td>\n",
       "      <td>139.0</td>\n",
       "      <td>650.0</td>\n",
       "      <td>894.0</td>\n",
       "      <td>1087.0</td>\n",
       "      <td>6896.0</td>\n",
       "      <td>990.0</td>\n",
       "      <td>...</td>\n",
       "      <td>0.579</td>\n",
       "      <td>-48.718812</td>\n",
       "      <td>-16.182672</td>\n",
       "      <td>227.0</td>\n",
       "      <td>19614.0</td>\n",
       "      <td>287984.49</td>\n",
       "      <td>15628.40</td>\n",
       "      <td>2838.0</td>\n",
       "      <td>1426.0</td>\n",
       "      <td>288.0</td>\n",
       "    </tr>\n",
       "    <tr>\n",
       "      <th>3</th>\n",
       "      <td>Abaeté</td>\n",
       "      <td>MG</td>\n",
       "      <td>22690.0</td>\n",
       "      <td>18464.0</td>\n",
       "      <td>176.0</td>\n",
       "      <td>856.0</td>\n",
       "      <td>1233.0</td>\n",
       "      <td>1539.0</td>\n",
       "      <td>11979.0</td>\n",
       "      <td>2681.0</td>\n",
       "      <td>...</td>\n",
       "      <td>0.556</td>\n",
       "      <td>-45.446191</td>\n",
       "      <td>-19.155848</td>\n",
       "      <td>1230.0</td>\n",
       "      <td>23223.0</td>\n",
       "      <td>430235.36</td>\n",
       "      <td>18250.42</td>\n",
       "      <td>6928.0</td>\n",
       "      <td>2953.0</td>\n",
       "      <td>621.0</td>\n",
       "    </tr>\n",
       "    <tr>\n",
       "      <th>4</th>\n",
       "      <td>Abaetetuba</td>\n",
       "      <td>PA</td>\n",
       "      <td>141100.0</td>\n",
       "      <td>82956.0</td>\n",
       "      <td>1354.0</td>\n",
       "      <td>5567.0</td>\n",
       "      <td>7618.0</td>\n",
       "      <td>8905.0</td>\n",
       "      <td>53516.0</td>\n",
       "      <td>5996.0</td>\n",
       "      <td>...</td>\n",
       "      <td>0.537</td>\n",
       "      <td>-48.884404</td>\n",
       "      <td>-1.723470</td>\n",
       "      <td>3389.0</td>\n",
       "      <td>156292.0</td>\n",
       "      <td>1249255.29</td>\n",
       "      <td>8222.36</td>\n",
       "      <td>5277.0</td>\n",
       "      <td>25661.0</td>\n",
       "      <td>931.0</td>\n",
       "    </tr>\n",
       "    <tr>\n",
       "      <th>5</th>\n",
       "      <td>Abaiara</td>\n",
       "      <td>CE</td>\n",
       "      <td>10496.0</td>\n",
       "      <td>4538.0</td>\n",
       "      <td>98.0</td>\n",
       "      <td>323.0</td>\n",
       "      <td>421.0</td>\n",
       "      <td>483.0</td>\n",
       "      <td>2631.0</td>\n",
       "      <td>582.0</td>\n",
       "      <td>...</td>\n",
       "      <td>0.612</td>\n",
       "      <td>-39.047547</td>\n",
       "      <td>-7.356977</td>\n",
       "      <td>29.0</td>\n",
       "      <td>11663.0</td>\n",
       "      <td>73151.46</td>\n",
       "      <td>6370.41</td>\n",
       "      <td>553.0</td>\n",
       "      <td>1674.0</td>\n",
       "      <td>86.0</td>\n",
       "    </tr>\n",
       "    <tr>\n",
       "      <th>6</th>\n",
       "      <td>Abaíra</td>\n",
       "      <td>BA</td>\n",
       "      <td>8316.0</td>\n",
       "      <td>3725.0</td>\n",
       "      <td>37.0</td>\n",
       "      <td>156.0</td>\n",
       "      <td>263.0</td>\n",
       "      <td>277.0</td>\n",
       "      <td>2319.0</td>\n",
       "      <td>673.0</td>\n",
       "      <td>...</td>\n",
       "      <td>0.510</td>\n",
       "      <td>-41.661608</td>\n",
       "      <td>-13.253532</td>\n",
       "      <td>952.0</td>\n",
       "      <td>8767.0</td>\n",
       "      <td>64324.59</td>\n",
       "      <td>6982.70</td>\n",
       "      <td>896.0</td>\n",
       "      <td>696.0</td>\n",
       "      <td>191.0</td>\n",
       "    </tr>\n",
       "    <tr>\n",
       "      <th>7</th>\n",
       "      <td>Abaré</td>\n",
       "      <td>BA</td>\n",
       "      <td>17064.0</td>\n",
       "      <td>8994.0</td>\n",
       "      <td>167.0</td>\n",
       "      <td>733.0</td>\n",
       "      <td>978.0</td>\n",
       "      <td>927.0</td>\n",
       "      <td>5386.0</td>\n",
       "      <td>803.0</td>\n",
       "      <td>...</td>\n",
       "      <td>0.460</td>\n",
       "      <td>-39.116588</td>\n",
       "      <td>-8.723418</td>\n",
       "      <td>51.0</td>\n",
       "      <td>19814.0</td>\n",
       "      <td>124754.26</td>\n",
       "      <td>6256.80</td>\n",
       "      <td>613.0</td>\n",
       "      <td>1532.0</td>\n",
       "      <td>87.0</td>\n",
       "    </tr>\n",
       "    <tr>\n",
       "      <th>8</th>\n",
       "      <td>Abatiá</td>\n",
       "      <td>PR</td>\n",
       "      <td>7764.0</td>\n",
       "      <td>5685.0</td>\n",
       "      <td>69.0</td>\n",
       "      <td>302.0</td>\n",
       "      <td>370.0</td>\n",
       "      <td>483.0</td>\n",
       "      <td>3650.0</td>\n",
       "      <td>811.0</td>\n",
       "      <td>...</td>\n",
       "      <td>0.596</td>\n",
       "      <td>-50.312527</td>\n",
       "      <td>-23.300494</td>\n",
       "      <td>55.0</td>\n",
       "      <td>7507.0</td>\n",
       "      <td>165048.21</td>\n",
       "      <td>21173.60</td>\n",
       "      <td>2168.0</td>\n",
       "      <td>912.0</td>\n",
       "      <td>285.0</td>\n",
       "    </tr>\n",
       "    <tr>\n",
       "      <th>9</th>\n",
       "      <td>Abdon Batista</td>\n",
       "      <td>SC</td>\n",
       "      <td>2653.0</td>\n",
       "      <td>724.0</td>\n",
       "      <td>12.0</td>\n",
       "      <td>32.0</td>\n",
       "      <td>49.0</td>\n",
       "      <td>63.0</td>\n",
       "      <td>479.0</td>\n",
       "      <td>89.0</td>\n",
       "      <td>...</td>\n",
       "      <td>0.625</td>\n",
       "      <td>-51.025272</td>\n",
       "      <td>-27.608987</td>\n",
       "      <td>109.0</td>\n",
       "      <td>2577.0</td>\n",
       "      <td>64742.01</td>\n",
       "      <td>24739.02</td>\n",
       "      <td>976.0</td>\n",
       "      <td>345.0</td>\n",
       "      <td>69.0</td>\n",
       "    </tr>\n",
       "  </tbody>\n",
       "</table>\n",
       "<p>10 rows × 23 columns</p>\n",
       "</div>"
      ],
      "text/plain": [
       "                CIDADE ESTADO  IBGE_RES_POP  IBGE_POP_URB  POP_ABAIXO_1  \\\n",
       "0      Abadia De Goiás     GO        6876.0        5300.0          69.0   \n",
       "1  Abadia Dos Dourados     MG        6704.0        4154.0          38.0   \n",
       "2            Abadiânia     GO       15757.0       10656.0         139.0   \n",
       "3               Abaeté     MG       22690.0       18464.0         176.0   \n",
       "4           Abaetetuba     PA      141100.0       82956.0        1354.0   \n",
       "5              Abaiara     CE       10496.0        4538.0          98.0   \n",
       "6               Abaíra     BA        8316.0        3725.0          37.0   \n",
       "7                Abaré     BA       17064.0        8994.0         167.0   \n",
       "8               Abatiá     PR        7764.0        5685.0          69.0   \n",
       "9        Abdon Batista     SC        2653.0         724.0          12.0   \n",
       "\n",
       "   POP_1_4  POP_5_9  POP_10-14  POP_15-59  POP_60_MAIS  ...  IDHM_Educacao  \\\n",
       "0    318.0    438.0      517.0     3542.0        416.0  ...          0.622   \n",
       "1    207.0    260.0      351.0     2709.0        589.0  ...          0.563   \n",
       "2    650.0    894.0     1087.0     6896.0        990.0  ...          0.579   \n",
       "3    856.0   1233.0     1539.0    11979.0       2681.0  ...          0.556   \n",
       "4   5567.0   7618.0     8905.0    53516.0       5996.0  ...          0.537   \n",
       "5    323.0    421.0      483.0     2631.0        582.0  ...          0.612   \n",
       "6    156.0    263.0      277.0     2319.0        673.0  ...          0.510   \n",
       "7    733.0    978.0      927.0     5386.0        803.0  ...          0.460   \n",
       "8    302.0    370.0      483.0     3650.0        811.0  ...          0.596   \n",
       "9     32.0     49.0       63.0      479.0         89.0  ...          0.625   \n",
       "\n",
       "        LONG        LAT  TV_CABO  POP_ESTIMADA         PIB  PIB_CAPITA  \\\n",
       "0 -49.440548 -16.758812    360.0        8583.0      166.41    20664.57   \n",
       "1 -47.396832 -18.487565     77.0        6972.0      180.09    25591.70   \n",
       "2 -48.718812 -16.182672    227.0       19614.0   287984.49    15628.40   \n",
       "3 -45.446191 -19.155848   1230.0       23223.0   430235.36    18250.42   \n",
       "4 -48.884404  -1.723470   3389.0      156292.0  1249255.29     8222.36   \n",
       "5 -39.047547  -7.356977     29.0       11663.0    73151.46     6370.41   \n",
       "6 -41.661608 -13.253532    952.0        8767.0    64324.59     6982.70   \n",
       "7 -39.116588  -8.723418     51.0       19814.0   124754.26     6256.80   \n",
       "8 -50.312527 -23.300494     55.0        7507.0   165048.21    21173.60   \n",
       "9 -51.025272 -27.608987    109.0        2577.0    64742.01    24739.02   \n",
       "\n",
       "   CARROS    MOTOS  TOT_EMPRESAS  \n",
       "0  2158.0   1246.0         284.0  \n",
       "1  2227.0   1142.0         476.0  \n",
       "2  2838.0   1426.0         288.0  \n",
       "3  6928.0   2953.0         621.0  \n",
       "4  5277.0  25661.0         931.0  \n",
       "5   553.0   1674.0          86.0  \n",
       "6   896.0    696.0         191.0  \n",
       "7   613.0   1532.0          87.0  \n",
       "8  2168.0    912.0         285.0  \n",
       "9   976.0    345.0          69.0  \n",
       "\n",
       "[10 rows x 23 columns]"
      ]
     },
     "execution_count": 60,
     "metadata": {},
     "output_type": "execute_result"
    }
   ],
   "source": [
    "# Importando uma tabela Excel para análise (formato .xlsx)\n",
    "\n",
    "indsocdem=pd.read_excel(\"Indicadores Socio-Demograficos.xlsx\", sheet_name=\"BASE_DADOS\")\n",
    "indsocdem.head(10)"
   ]
  },
  {
   "cell_type": "code",
   "execution_count": null,
   "id": "03477248",
   "metadata": {},
   "outputs": [],
   "source": [
    "# Importando um arquivo de texto no formato .csv (arquivo texto separados por virgula)\n",
    "\n",
    "telco = pd.read_csv(\"Telco Customer Churn.csv\", sep = \",\")\n",
    "telco.head()"
   ]
  },
  {
   "cell_type": "code",
   "execution_count": 58,
   "id": "05eb2633",
   "metadata": {},
   "outputs": [
    {
     "data": {
      "text/html": [
       "<div>\n",
       "<style scoped>\n",
       "    .dataframe tbody tr th:only-of-type {\n",
       "        vertical-align: middle;\n",
       "    }\n",
       "\n",
       "    .dataframe tbody tr th {\n",
       "        vertical-align: top;\n",
       "    }\n",
       "\n",
       "    .dataframe thead th {\n",
       "        text-align: right;\n",
       "    }\n",
       "</style>\n",
       "<table border=\"1\" class=\"dataframe\">\n",
       "  <thead>\n",
       "    <tr style=\"text-align: right;\">\n",
       "      <th></th>\n",
       "      <th>Attrition</th>\n",
       "      <th>Age</th>\n",
       "      <th>StockOptionLevel</th>\n",
       "    </tr>\n",
       "  </thead>\n",
       "  <tbody>\n",
       "    <tr>\n",
       "      <th>0</th>\n",
       "      <td>Yes</td>\n",
       "      <td>41</td>\n",
       "      <td>0</td>\n",
       "    </tr>\n",
       "    <tr>\n",
       "      <th>1</th>\n",
       "      <td>No</td>\n",
       "      <td>49</td>\n",
       "      <td>1</td>\n",
       "    </tr>\n",
       "    <tr>\n",
       "      <th>2</th>\n",
       "      <td>Yes</td>\n",
       "      <td>37</td>\n",
       "      <td>0</td>\n",
       "    </tr>\n",
       "    <tr>\n",
       "      <th>3</th>\n",
       "      <td>No</td>\n",
       "      <td>33</td>\n",
       "      <td>0</td>\n",
       "    </tr>\n",
       "    <tr>\n",
       "      <th>4</th>\n",
       "      <td>No</td>\n",
       "      <td>27</td>\n",
       "      <td>1</td>\n",
       "    </tr>\n",
       "  </tbody>\n",
       "</table>\n",
       "</div>"
      ],
      "text/plain": [
       "  Attrition  Age  StockOptionLevel\n",
       "0       Yes   41                 0\n",
       "1        No   49                 1\n",
       "2       Yes   37                 0\n",
       "3        No   33                 0\n",
       "4        No   27                 1"
      ]
     },
     "execution_count": 58,
     "metadata": {},
     "output_type": "execute_result"
    }
   ],
   "source": [
    "# Importando um arquivo no formato .txt\n",
    "\n",
    "people = pd.read_csv(\"PeopleAnalytics.txt\", sep = \"\\t\", usecols=[\"Attrition\", \"Age\", \"StockOptionLevel\"])\n",
    "people.head()"
   ]
  },
  {
   "cell_type": "code",
   "execution_count": null,
   "id": "1c8bc4fb",
   "metadata": {},
   "outputs": [],
   "source": []
  }
 ],
 "metadata": {
  "kernelspec": {
   "display_name": "Python 3 (ipykernel)",
   "language": "python",
   "name": "python3"
  },
  "language_info": {
   "codemirror_mode": {
    "name": "ipython",
    "version": 3
   },
   "file_extension": ".py",
   "mimetype": "text/x-python",
   "name": "python",
   "nbconvert_exporter": "python",
   "pygments_lexer": "ipython3",
   "version": "3.9.7"
  }
 },
 "nbformat": 4,
 "nbformat_minor": 5
}
