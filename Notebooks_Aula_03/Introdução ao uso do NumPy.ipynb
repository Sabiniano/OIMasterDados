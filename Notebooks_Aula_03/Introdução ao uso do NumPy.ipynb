{
 "cells": [
  {
   "cell_type": "markdown",
   "id": "9f777745",
   "metadata": {},
   "source": [
    "### Primeiros passos no uso da biblioteca NumPy"
   ]
  },
  {
   "cell_type": "code",
   "execution_count": 3,
   "id": "fb77498a",
   "metadata": {},
   "outputs": [
    {
     "name": "stdout",
     "output_type": "stream",
     "text": [
      "1.20.3\n"
     ]
    }
   ],
   "source": [
    "#Importando o pacote\n",
    "import numpy as np\n",
    "#Versão do pacote\n",
    "print(np.__version__)"
   ]
  },
  {
   "cell_type": "code",
   "execution_count": 2,
   "id": "270875c1",
   "metadata": {},
   "outputs": [
    {
     "data": {
      "text/plain": [
       "numpy.ndarray"
      ]
     },
     "execution_count": 2,
     "metadata": {},
     "output_type": "execute_result"
    }
   ],
   "source": [
    "### Exemplo I - Criando os primeiros arrays no NumPy\n",
    "arr=np.array([1,2,3,4,5])\n",
    "type(arr)"
   ]
  },
  {
   "cell_type": "code",
   "execution_count": 19,
   "id": "61c97358",
   "metadata": {},
   "outputs": [
    {
     "data": {
      "text/plain": [
       "array([[1, 4, 5],\n",
       "       [7, 8, 9]])"
      ]
     },
     "execution_count": 19,
     "metadata": {},
     "output_type": "execute_result"
    }
   ],
   "source": [
    "#Exemplo II - Criando um array bidimensional\n",
    "arr2=np.array([(1,4,5),(7,8,9)])\n",
    "arr2"
   ]
  },
  {
   "cell_type": "code",
   "execution_count": 21,
   "id": "30e8a540",
   "metadata": {},
   "outputs": [
    {
     "name": "stdout",
     "output_type": "stream",
     "text": [
      "[[0. 0. 0.]\n",
      " [0. 0. 0.]\n",
      " [0. 0. 0.]\n",
      " [0. 0. 0.]]\n"
     ]
    }
   ],
   "source": [
    "#Exemplo III - Criando uma matriz cheia de zeros, com dimensão especifica\n",
    "arr = np.zeros((4,3))\n",
    "print(arr)"
   ]
  },
  {
   "cell_type": "code",
   "execution_count": 42,
   "id": "04cbed34",
   "metadata": {},
   "outputs": [
    {
     "name": "stdout",
     "output_type": "stream",
     "text": [
      "[[1. 1. 1. 1. 1. 1. 1.]\n",
      " [1. 1. 1. 1. 1. 1. 1.]\n",
      " [1. 1. 1. 1. 1. 1. 1.]\n",
      " [1. 1. 1. 1. 1. 1. 1.]]\n",
      "(4, 7)\n"
     ]
    }
   ],
   "source": [
    "#Exemplo IV - Criando uma matriz cheia de uns, com dimensão especifica\n",
    "arr=np.ones((4,7))\n",
    "print(arr)\n",
    "print(arr.shape) #Mostra a dimensão da matriz"
   ]
  },
  {
   "cell_type": "code",
   "execution_count": 23,
   "id": "20e517b0",
   "metadata": {},
   "outputs": [
    {
     "name": "stdout",
     "output_type": "stream",
     "text": [
      "[[1. 0. 0. 0. 0. 0. 0. 0.]\n",
      " [0. 1. 0. 0. 0. 0. 0. 0.]\n",
      " [0. 0. 1. 0. 0. 0. 0. 0.]\n",
      " [0. 0. 0. 1. 0. 0. 0. 0.]\n",
      " [0. 0. 0. 0. 1. 0. 0. 0.]\n",
      " [0. 0. 0. 0. 0. 1. 0. 0.]\n",
      " [0. 0. 0. 0. 0. 0. 1. 0.]\n",
      " [0. 0. 0. 0. 0. 0. 0. 1.]]\n"
     ]
    }
   ],
   "source": [
    "#Exemplo V - Criando uma matriz com uns na diagonal principal e zero no resto\n",
    "arr=np.eye(8)\n",
    "print(arr)"
   ]
  },
  {
   "cell_type": "code",
   "execution_count": 13,
   "id": "c611a11d",
   "metadata": {},
   "outputs": [
    {
     "name": "stdout",
     "output_type": "stream",
     "text": [
      "[0.  0.9 1.8 2.7 3.6 4.5 5.4 6.3 7.2 8.1 9.  9.9]\n",
      "[ 1  6 11 16 21 26 31 36 41 46]\n",
      "[]\n",
      "[ 0.   2.5  5.   7.5 10. ]\n"
     ]
    }
   ],
   "source": [
    "#Gerando arrays com sequencias de dados (estilo range)\n",
    "a=np.arange(0,10,0.9)\n",
    "print(a)\n",
    "b=np.arange(1,50,5)\n",
    "print(b)\n",
    "\n",
    "#Gerando arrays com n dados dentro de um intervalo específico\n",
    "c=np.linspace(0,10,5) # 5 números entre 0 e 10, igualmente espaçados\n",
    "print(c)"
   ]
  },
  {
   "cell_type": "code",
   "execution_count": 125,
   "id": "670e870f",
   "metadata": {},
   "outputs": [
    {
     "name": "stdout",
     "output_type": "stream",
     "text": [
      "[0 1 2 2 2 3 4 5 6 7]\n"
     ]
    }
   ],
   "source": [
    "#Ordenando arrays\n",
    "a1=np.array([3,5,2,1,6,7,2,0,4,2])\n",
    "print(np.sort(a1))"
   ]
  },
  {
   "cell_type": "code",
   "execution_count": 33,
   "id": "b061fb78",
   "metadata": {},
   "outputs": [
    {
     "name": "stdout",
     "output_type": "stream",
     "text": [
      "[[  5   9  11]\n",
      " [ -3  -4   7]\n",
      " [ 11  21 -10]]\n",
      "-10\n",
      "21\n",
      "47\n",
      "5.222222222222222\n",
      "8.929075823495307\n"
     ]
    }
   ],
   "source": [
    "#Exemplo VI - Estatísticas a partir de um array(matriz)\n",
    "matriz=np.array([(5,9,11),(-3,-4,7),(11,21,-10)])\n",
    "print(matriz)\n",
    "print(matriz.min())\n",
    "print(matriz.max())\n",
    "print(matriz.sum())\n",
    "print(matriz.mean())\n",
    "print(matriz.std())"
   ]
  },
  {
   "cell_type": "code",
   "execution_count": 36,
   "id": "f74a4acb",
   "metadata": {},
   "outputs": [
    {
     "name": "stdout",
     "output_type": "stream",
     "text": [
      "[[  5   9  11]\n",
      " [ -3  -4   7]\n",
      " [ 11  21 -10]]\n",
      "[[ 15  27  33]\n",
      " [ -9 -12  21]\n",
      " [ 33  63 -30]]\n",
      "[[ 7 11 13]\n",
      " [-1 -2  9]\n",
      " [13 23 -8]]\n"
     ]
    }
   ],
   "source": [
    "#Operações entre matrizes e um escalar\n",
    "print(matriz)\n",
    "print(3*matriz)\n",
    "print(2+matriz)"
   ]
  },
  {
   "cell_type": "code",
   "execution_count": 47,
   "id": "c155f1e2",
   "metadata": {},
   "outputs": [
    {
     "name": "stdout",
     "output_type": "stream",
     "text": [
      "[48 84 39 54 77 25 16 50 24 27]\n",
      "[4.8 8.4 3.9 5.4 7.7 2.5 1.6 5.  2.4 2.7]\n"
     ]
    }
   ],
   "source": [
    "#Gerando matrizes a partir de números aleatórios\n",
    "#Eh necessario importar um modulo chamado random (do proprio numpy)\n",
    "from numpy import random\n",
    "np.random.seed(1234)\n",
    "aleat=np.random.randint(1,100,10)\n",
    "print(aleat)\n",
    "print(aleat/10)"
   ]
  },
  {
   "cell_type": "code",
   "execution_count": 52,
   "id": "0fab8c45",
   "metadata": {},
   "outputs": [
    {
     "name": "stdout",
     "output_type": "stream",
     "text": [
      "[ 1 42 12 17  4  3]\n",
      "[20 13  2 12 44 18]\n",
      "[21 55 14 29 48 21]\n"
     ]
    }
   ],
   "source": [
    "#Operações entre arrays\n",
    "a=np.random.randint(1,60,6)\n",
    "print(a)\n",
    "b=np.random.randint(1,50,6)\n",
    "print(b)\n",
    "print(a+b)"
   ]
  },
  {
   "cell_type": "code",
   "execution_count": 61,
   "id": "ca251de0",
   "metadata": {},
   "outputs": [
    {
     "name": "stdout",
     "output_type": "stream",
     "text": [
      "[[51 39  9 55 18 42]\n",
      " [48 20 44 45 36 43]\n",
      " [21 27 26 44 24  3]]\n",
      "[[41  2 26 28 15  5]\n",
      " [28 43  4 18 48 33]\n",
      " [56 14 57 49 42 59]]\n",
      "[[2091   78  234 1540  270  210]\n",
      " [1344  860  176  810 1728 1419]\n",
      " [1176  378 1482 2156 1008  177]]\n"
     ]
    }
   ],
   "source": [
    "#Operações entre arrays - A falsa mutiplicacao de matrizes\n",
    "a1=np.random.randint(1,60,[3,6])\n",
    "print(a1)\n",
    "a2=np.random.randint(1,60,[3,6])\n",
    "print(a2)\n",
    "print(a1*a2)"
   ]
  },
  {
   "cell_type": "code",
   "execution_count": 105,
   "id": "8d47e98d",
   "metadata": {},
   "outputs": [
    {
     "name": "stdout",
     "output_type": "stream",
     "text": [
      "[[3 4]\n",
      " [5 3]\n",
      " [2 5]]\n",
      "[[1 1 3]\n",
      " [2 3 6]]\n"
     ]
    },
    {
     "data": {
      "text/plain": [
       "array([[11, 15, 33],\n",
       "       [11, 14, 33],\n",
       "       [12, 17, 36]])"
      ]
     },
     "execution_count": 105,
     "metadata": {},
     "output_type": "execute_result"
    }
   ],
   "source": [
    "#A verdadeira multiplicação de matrizes\n",
    "#numero de colunas da primeira matriz tem que ser igual ao numero de linhas da segunda matriz\n",
    "a=np.random.randint(1,10,[3,2])\n",
    "print(a)\n",
    "b=np.random.randint(1,10,[2,3])\n",
    "print(b)\n",
    "#Multiplicacao das matrizes a e b (o resultado sera o nuimero de linhas de a vs o numero de colunas de b)\n",
    "a.dot(b)"
   ]
  },
  {
   "cell_type": "code",
   "execution_count": 107,
   "id": "57a741d6",
   "metadata": {},
   "outputs": [
    {
     "name": "stdout",
     "output_type": "stream",
     "text": [
      "[[1 1 3]\n",
      " [2 3 6]]\n",
      "(2, 3)\n",
      "[[1 2]\n",
      " [1 3]\n",
      " [3 6]]\n"
     ]
    }
   ],
   "source": [
    "#Transposição de arrays\n",
    "print(b)\n",
    "print(b.shape) #Tamanho da matriz\n",
    "print(b.T) #Transposição da matriz"
   ]
  },
  {
   "cell_type": "code",
   "execution_count": 123,
   "id": "d41da5a1",
   "metadata": {},
   "outputs": [
    {
     "name": "stdout",
     "output_type": "stream",
     "text": [
      "[[4 9 8 6]\n",
      " [2 4 2 4]\n",
      " [1 3 1 4]\n",
      " [6 3 7 7]]\n",
      "O Determinante da matriz A é : 111.99999999999996\n",
      "A Inversa da matriz A é : [[-0.26785714  1.36607143 -1.08928571  0.07142857]\n",
      " [ 0.03571429  0.51785714 -0.32142857 -0.14285714]\n",
      " [ 0.23214286 -0.88392857  0.41071429  0.07142857]\n",
      " [-0.01785714 -0.50892857  0.66071429  0.07142857]]\n"
     ]
    }
   ],
   "source": [
    "#Determinante da matriz\n",
    "A=np.random.randint(1,10,[4,4])\n",
    "print(A)\n",
    "#Determinante da matriz\n",
    "print('O Determinante da matriz A é :', np.linalg.det(A)) #Muitas funções de álgebra linear estão no módulo linalg do NumPy\n",
    "#Inversa da matriz A\n",
    "print('A Inversa da matriz A é :', np.linalg.inv(A)) "
   ]
  },
  {
   "cell_type": "code",
   "execution_count": 120,
   "id": "df5f1cb2",
   "metadata": {},
   "outputs": [
    {
     "name": "stdout",
     "output_type": "stream",
     "text": [
      "[False False False False]\n",
      "[ True  True  True  True]\n",
      "[False  True  True False]\n",
      "[ True False False  True]\n",
      "False\n",
      "True\n"
     ]
    }
   ],
   "source": [
    "#Comparação entre arrays (elemento a elemento)\n",
    "a=np.array([1,4,7,10])\n",
    "b=np.array([2,1,5,11])\n",
    "print(a==b)\n",
    "print(a!=b)\n",
    "print(a>b)\n",
    "print(a<b)\n",
    "\n",
    "#Comparação entre arrays (array inteiro)\n",
    "print(np.array_equal(a,b))\n",
    "c=np.array([5,3])\n",
    "d=np.array([5,3])\n",
    "print(np.array_equal(c,d))"
   ]
  },
  {
   "cell_type": "code",
   "execution_count": 86,
   "id": "95a100c2",
   "metadata": {},
   "outputs": [
    {
     "name": "stdout",
     "output_type": "stream",
     "text": [
      "22\n",
      "5.5\n",
      "3.3541019662496847\n"
     ]
    }
   ],
   "source": [
    "#Algumas funções matemáticas presentes\n",
    "print(np.sum(a)) #Soma dos elementos do array\n",
    "print(np.mean(a)) #Média dos elementos do array\n",
    "print(np.std(a)) #Desvio padrão dos elementos do array"
   ]
  },
  {
   "cell_type": "code",
   "execution_count": 8,
   "id": "c67e0d25",
   "metadata": {},
   "outputs": [
    {
     "data": {
      "text/plain": [
       "(3, 3)"
      ]
     },
     "execution_count": 8,
     "metadata": {},
     "output_type": "execute_result"
    }
   ],
   "source": [
    "a=np.array([(3,4, 5),(5, 6, 4),(5, 3, 2)])\n",
    "a.shape"
   ]
  },
  {
   "cell_type": "code",
   "execution_count": null,
   "id": "21dcd461",
   "metadata": {},
   "outputs": [],
   "source": []
  }
 ],
 "metadata": {
  "kernelspec": {
   "display_name": "Python 3 (ipykernel)",
   "language": "python",
   "name": "python3"
  },
  "language_info": {
   "codemirror_mode": {
    "name": "ipython",
    "version": 3
   },
   "file_extension": ".py",
   "mimetype": "text/x-python",
   "name": "python",
   "nbconvert_exporter": "python",
   "pygments_lexer": "ipython3",
   "version": "3.9.7"
  }
 },
 "nbformat": 4,
 "nbformat_minor": 5
}
