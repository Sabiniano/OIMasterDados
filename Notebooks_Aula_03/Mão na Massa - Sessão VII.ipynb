{
 "cells": [
  {
   "cell_type": "markdown",
   "id": "808714b5",
   "metadata": {},
   "source": [
    "- Crie uma função que transforme semanas em dias , peça ao usuário a quantidade de semanas e retorne a quantidade correspondente de dias."
   ]
  },
  {
   "cell_type": "code",
   "execution_count": 1,
   "id": "9d59b264",
   "metadata": {},
   "outputs": [
    {
     "name": "stdout",
     "output_type": "stream",
     "text": [
      "Digite a quantidade de semanas: 7\n",
      "7 semana equivale a:  49 dias\n"
     ]
    }
   ],
   "source": [
    "qtde_semanas=int(input(\"Digite a quantidade de semanas: \"))\n",
    "dias=qtde_semanas*7\n",
    "print(qtde_semanas,\"semana equivale a: \", dias, \"dias\")"
   ]
  },
  {
   "cell_type": "markdown",
   "id": "895acb58",
   "metadata": {},
   "source": [
    "- Use uma função lambda retorna a quantidade de segundos contidos em uma determinada quantidade de \n",
    "horas."
   ]
  },
  {
   "cell_type": "code",
   "execution_count": 3,
   "id": "b71d39e9",
   "metadata": {},
   "outputs": [
    {
     "name": "stdout",
     "output_type": "stream",
     "text": [
      "Digite a quantidade de horas: 2\n",
      "Quantidade de segundos: 7200\n"
     ]
    }
   ],
   "source": [
    "seg=(lambda horas:horas*3600)\n",
    "print(\"Quantidade de segundos:\",seg(int(input(\"Digite a quantidade de horas: \"))))"
   ]
  },
  {
   "cell_type": "markdown",
   "id": "acae314e",
   "metadata": {},
   "source": [
    "- Use as funções map e lambda para executar a expressão x*5.1+100 sobre os elementos da lista a seguir: [300, 400, 500, 700, 800], lembrando que x representa cada elemento da lista"
   ]
  },
  {
   "cell_type": "code",
   "execution_count": 4,
   "id": "dc2677fc",
   "metadata": {},
   "outputs": [
    {
     "name": "stdout",
     "output_type": "stream",
     "text": [
      "[300, 400, 500, 600, 700, 800]\n",
      "[1630.0, 2140.0, 2650.0, 3160.0, 3669.9999999999995, 4180.0]\n",
      "['1630', '2140', '2650', '3160', '3670', '4180']\n"
     ]
    },
    {
     "ename": "TypeError",
     "evalue": "type list doesn't define __round__ method",
     "output_type": "error",
     "traceback": [
      "\u001b[1;31m---------------------------------------------------------------------------\u001b[0m",
      "\u001b[1;31mTypeError\u001b[0m                                 Traceback (most recent call last)",
      "\u001b[1;32m~\\AppData\\Local\\Temp/ipykernel_11268/2007153872.py\u001b[0m in \u001b[0;36m<module>\u001b[1;34m\u001b[0m\n\u001b[0;32m      5\u001b[0m \u001b[0mlist_II\u001b[0m \u001b[1;33m=\u001b[0m \u001b[1;33m[\u001b[0m\u001b[1;34mf\"{num:.0f}\"\u001b[0m \u001b[1;32mfor\u001b[0m \u001b[0mnum\u001b[0m \u001b[1;32min\u001b[0m \u001b[0mlist_I\u001b[0m\u001b[1;33m]\u001b[0m\u001b[1;33m\u001b[0m\u001b[1;33m\u001b[0m\u001b[0m\n\u001b[0;32m      6\u001b[0m \u001b[0mprint\u001b[0m\u001b[1;33m(\u001b[0m\u001b[0mlist_II\u001b[0m\u001b[1;33m)\u001b[0m\u001b[1;33m\u001b[0m\u001b[1;33m\u001b[0m\u001b[0m\n\u001b[1;32m----> 7\u001b[1;33m \u001b[0mround\u001b[0m\u001b[1;33m(\u001b[0m\u001b[0mlist_II\u001b[0m\u001b[1;33m,\u001b[0m\u001b[1;36m3\u001b[0m\u001b[1;33m)\u001b[0m\u001b[1;33m\u001b[0m\u001b[1;33m\u001b[0m\u001b[0m\n\u001b[0m",
      "\u001b[1;31mTypeError\u001b[0m: type list doesn't define __round__ method"
     ]
    }
   ],
   "source": [
    "lista=list(range(300,900,100))\n",
    "print(lista)\n",
    "list_I=list(map(lambda x: x*5.1+100, lista))\n",
    "print(list_I)\n",
    "list_II = [f\"{num:.0f}\" for num in list_I]\n",
    "print(list_II)"
   ]
  },
  {
   "cell_type": "code",
   "execution_count": null,
   "id": "6f94927f",
   "metadata": {},
   "outputs": [],
   "source": []
  }
 ],
 "metadata": {
  "kernelspec": {
   "display_name": "Python 3 (ipykernel)",
   "language": "python",
   "name": "python3"
  },
  "language_info": {
   "codemirror_mode": {
    "name": "ipython",
    "version": 3
   },
   "file_extension": ".py",
   "mimetype": "text/x-python",
   "name": "python",
   "nbconvert_exporter": "python",
   "pygments_lexer": "ipython3",
   "version": "3.9.7"
  }
 },
 "nbformat": 4,
 "nbformat_minor": 5
}
