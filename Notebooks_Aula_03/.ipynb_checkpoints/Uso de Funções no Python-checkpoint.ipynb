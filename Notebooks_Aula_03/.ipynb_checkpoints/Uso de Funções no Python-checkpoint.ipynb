{
 "cells": [
  {
   "cell_type": "markdown",
   "id": "00df532f",
   "metadata": {},
   "source": [
    "### Exemplo I - Criação de uma função para exibir uma saudação personalizada"
   ]
  },
  {
   "cell_type": "code",
   "execution_count": 12,
   "id": "eb23f6d8",
   "metadata": {},
   "outputs": [],
   "source": [
    "#Exemplo I de criação de uma função para exibir uma saudação\n",
    "def hi(meu_nome):\n",
    "  print('Olá',meu_nome)"
   ]
  },
  {
   "cell_type": "code",
   "execution_count": 13,
   "id": "49db7d6a",
   "metadata": {},
   "outputs": [
    {
     "name": "stdout",
     "output_type": "stream",
     "text": [
      "Olá Marcelo\n"
     ]
    }
   ],
   "source": [
    "hi(\"Marcelo\")"
   ]
  },
  {
   "cell_type": "markdown",
   "id": "af8d56f2",
   "metadata": {},
   "source": [
    "### Exemplo II - Criação de uma função para calcular o valor a receber de um prestador de serviços"
   ]
  },
  {
   "cell_type": "code",
   "execution_count": 26,
   "id": "11dada8d",
   "metadata": {},
   "outputs": [],
   "source": [
    "#Exemplo II de criação de uma função para exibir o valor mensal a receber de um prestador que ganha por hora\n",
    "def calc_pgto(qtde_horas, val_hora):\n",
    "  horas = float(qtde_horas)\n",
    "  taxa = float(val_hora)\n",
    "  if horas <= 40:\n",
    "    salario=horas*taxa\n",
    "  else:\n",
    "    h_excd = horas - 40\n",
    "    salario = 40*taxa+(h_excd*(1.5*taxa))\n",
    "  return salario"
   ]
  },
  {
   "cell_type": "code",
   "execution_count": 27,
   "id": "12d5cb14",
   "metadata": {},
   "outputs": [
    {
     "data": {
      "text/plain": [
       "9500.0"
      ]
     },
     "execution_count": 27,
     "metadata": {},
     "output_type": "execute_result"
    }
   ],
   "source": [
    "#Executando a função calc_pgto pela primeira vez\n",
    "calc_pgto(45,200)"
   ]
  },
  {
   "cell_type": "code",
   "execution_count": 28,
   "id": "11a55557",
   "metadata": {},
   "outputs": [
    {
     "name": "stdout",
     "output_type": "stream",
     "text": [
      "Digite a qtde de horas: 45\n",
      "Digite a taxa/hora: 200\n",
      "O valor de seus rendimentos é R$ 9500.0\n"
     ]
    }
   ],
   "source": [
    "#Melhorando a entrada de dados dessa função\n",
    "horas= input('Digite a qtde de horas: ')\n",
    "taxa=input('Digite a taxa/hora: ')\n",
    "total_salario = calc_pgto(horas,taxa)\n",
    "print('O valor de seus rendimentos é R$',total_salario)"
   ]
  },
  {
   "cell_type": "markdown",
   "id": "27d88733",
   "metadata": {},
   "source": [
    "### Exemplo III - Criação de uma função para cálculo do índice de massa corporal (IMC)"
   ]
  },
  {
   "cell_type": "code",
   "execution_count": 42,
   "id": "aa65f876",
   "metadata": {},
   "outputs": [
    {
     "name": "stdout",
     "output_type": "stream",
     "text": [
      "26.573129251700685\n"
     ]
    }
   ],
   "source": [
    "#Exemplo III - Obter o resultado do cálculo do IMC (índice de massa corporal)\n",
    "def calculo_imc(peso, altura):\n",
    "    print(peso / (altura ** 2))\n",
    "calculo_imc(75, 1.68)"
   ]
  },
  {
   "cell_type": "code",
   "execution_count": 6,
   "id": "f75c6663",
   "metadata": {},
   "outputs": [
    {
     "name": "stdout",
     "output_type": "stream",
     "text": [
      "Digite sua altura em metros: 0\n",
      "Digite seu peso em Kg: 90\n"
     ]
    },
    {
     "ename": "ZeroDivisionError",
     "evalue": "float division by zero",
     "output_type": "error",
     "traceback": [
      "\u001b[1;31m---------------------------------------------------------------------------\u001b[0m",
      "\u001b[1;31mZeroDivisionError\u001b[0m                         Traceback (most recent call last)",
      "\u001b[1;32m~\\AppData\\Local\\Temp/ipykernel_7208/3078172664.py\u001b[0m in \u001b[0;36m<module>\u001b[1;34m\u001b[0m\n\u001b[0;32m      2\u001b[0m \u001b[0maltura\u001b[0m \u001b[1;33m=\u001b[0m \u001b[0mfloat\u001b[0m\u001b[1;33m(\u001b[0m\u001b[0minput\u001b[0m\u001b[1;33m(\u001b[0m\u001b[1;34m\"Digite sua altura em metros: \"\u001b[0m\u001b[1;33m)\u001b[0m\u001b[1;33m)\u001b[0m\u001b[1;33m\u001b[0m\u001b[1;33m\u001b[0m\u001b[0m\n\u001b[0;32m      3\u001b[0m \u001b[0mpeso\u001b[0m \u001b[1;33m=\u001b[0m \u001b[0mfloat\u001b[0m\u001b[1;33m(\u001b[0m\u001b[0minput\u001b[0m\u001b[1;33m(\u001b[0m\u001b[1;34m\"Digite seu peso em Kg: \"\u001b[0m\u001b[1;33m)\u001b[0m\u001b[1;33m)\u001b[0m\u001b[1;33m\u001b[0m\u001b[1;33m\u001b[0m\u001b[0m\n\u001b[1;32m----> 4\u001b[1;33m \u001b[0mimc\u001b[0m \u001b[1;33m=\u001b[0m \u001b[0mpeso\u001b[0m \u001b[1;33m/\u001b[0m \u001b[0maltura\u001b[0m\u001b[1;33m**\u001b[0m\u001b[1;36m2\u001b[0m\u001b[1;33m\u001b[0m\u001b[1;33m\u001b[0m\u001b[0m\n\u001b[0m\u001b[0;32m      5\u001b[0m \u001b[0mprint\u001b[0m\u001b[1;33m(\u001b[0m\u001b[1;34m\"Seu IMC é: %.0f\"\u001b[0m \u001b[1;33m%\u001b[0m \u001b[0mimc\u001b[0m\u001b[1;33m)\u001b[0m\u001b[1;33m\u001b[0m\u001b[1;33m\u001b[0m\u001b[0m\n\u001b[0;32m      6\u001b[0m \u001b[1;32mif\u001b[0m \u001b[0mimc\u001b[0m \u001b[1;33m<\u001b[0m \u001b[1;36m17\u001b[0m\u001b[1;33m:\u001b[0m\u001b[1;33m\u001b[0m\u001b[1;33m\u001b[0m\u001b[0m\n",
      "\u001b[1;31mZeroDivisionError\u001b[0m: float division by zero"
     ]
    }
   ],
   "source": [
    "#Exemplo III - Melhorando a saída do cálculo do IMC\n",
    "altura = float(input(\"Digite sua altura em metros: \"))\n",
    "peso = float(input(\"Digite seu peso em Kg: \"))\n",
    "imc = peso / altura**2\n",
    "print(\"Seu IMC é: %.0f\" % imc)\n",
    "if imc < 17:\n",
    "    print(\"Muito abaixo do peso\")\n",
    "elif imc < 18.5:\n",
    "    print(\"Abaixo do peso\")\n",
    "elif imc < 25:\n",
    "    print(\"Normal\")\n",
    "elif imc < 30:\n",
    "    print(\"Acima do peso\")\n",
    "elif imc < 35:\n",
    "    print(\"Obesidade Nivel I\")\n",
    "elif imc < 40:\n",
    "    print(\"Obesidade Nivel II (Severa)\")\n",
    "else:\n",
    "    print(\"Obesidade Nivel III (Mórbida)\")"
   ]
  },
  {
   "cell_type": "markdown",
   "id": "91d509b1",
   "metadata": {},
   "source": [
    "### Exemplo IV - Uso de uma função lambda (função anônima) para somar 1 a um valor "
   ]
  },
  {
   "cell_type": "code",
   "execution_count": 118,
   "id": "8fedb303",
   "metadata": {},
   "outputs": [
    {
     "name": "stdout",
     "output_type": "stream",
     "text": [
      "10\n"
     ]
    },
    {
     "data": {
      "text/plain": [
       "10"
      ]
     },
     "execution_count": 118,
     "metadata": {},
     "output_type": "execute_result"
    }
   ],
   "source": [
    "#Criando uma função só pra isso usando def\n",
    "def  soma_1 (x):\n",
    "    return x+1\n",
    "print(soma_1(9))\n",
    "\n",
    "#Usando lambda\n",
    "(lambda x: x + 1)(9)\n"
   ]
  },
  {
   "cell_type": "markdown",
   "id": "841099d7",
   "metadata": {},
   "source": [
    "### Exemplo V - Uso de uma função lambda (função anônima) para multiplicar 2 números"
   ]
  },
  {
   "cell_type": "code",
   "execution_count": 7,
   "id": "da76f572",
   "metadata": {},
   "outputs": [
    {
     "name": "stdout",
     "output_type": "stream",
     "text": [
      "90\n"
     ]
    }
   ],
   "source": [
    "def multiplica(x,y):\n",
    "    return x*y\n",
    "print(multiplica(10,9))"
   ]
  },
  {
   "cell_type": "code",
   "execution_count": 8,
   "id": "ab454b6e",
   "metadata": {},
   "outputs": [
    {
     "name": "stdout",
     "output_type": "stream",
     "text": [
      "90\n"
     ]
    }
   ],
   "source": [
    "multiplica1=lambda x,y: x*y\n",
    "print(multiplica1(10,9))"
   ]
  },
  {
   "cell_type": "code",
   "execution_count": 102,
   "id": "05cdb519",
   "metadata": {},
   "outputs": [
    {
     "name": "stdout",
     "output_type": "stream",
     "text": [
      "35\n",
      "35\n"
     ]
    }
   ],
   "source": [
    "#Criando uma função para multiplicar 2 números\n",
    "def  mult (a,b):\n",
    "    return a*b\n",
    "print(mult(7,5))\n",
    "\n",
    "#Agora Usando lambda\n",
    "mult=lambda a,b: a*b\n",
    "print(mult(7,5))"
   ]
  },
  {
   "cell_type": "markdown",
   "id": "9cd5656f",
   "metadata": {},
   "source": [
    "### Exemplo VI - Uso de uma função lambda (função anônima) para o cálculo simples de imposto"
   ]
  },
  {
   "cell_type": "code",
   "execution_count": 50,
   "id": "df2c9925",
   "metadata": {},
   "outputs": [
    {
     "name": "stdout",
     "output_type": "stream",
     "text": [
      "400.0\n"
     ]
    }
   ],
   "source": [
    "#Exemplo de funções lambda\n",
    "#Começando com a criação de uma função normal\n",
    "preco=1000\n",
    "def calculo_imposto(preco):\n",
    "    return preco*0.4\n",
    "print(calculo_imposto(preco))\n",
    "    "
   ]
  },
  {
   "cell_type": "code",
   "execution_count": 52,
   "id": "fa276e9d",
   "metadata": {},
   "outputs": [
    {
     "name": "stdout",
     "output_type": "stream",
     "text": [
      "400.0\n"
     ]
    }
   ],
   "source": [
    "#Agora o mesmo cálculo usando uma função lambda (sem necessariamente precisar criar uma função)\n",
    "calculo_imposto2=lambda preco:preco*0.4\n",
    "print(calculo_imposto2(preco))"
   ]
  },
  {
   "cell_type": "markdown",
   "id": "a682b5ca",
   "metadata": {},
   "source": [
    "### Exemplo VII - Uso de uma função lambda (função anônima) para calcular o imposto de uma lista de valores"
   ]
  },
  {
   "cell_type": "code",
   "execution_count": 21,
   "id": "387d6140",
   "metadata": {},
   "outputs": [
    {
     "name": "stdout",
     "output_type": "stream",
     "text": [
      "[64.355055522, 149.989455074, 367.18238180000003, 46.915089200000004, 269.575059994]\n"
     ]
    },
    {
     "data": {
      "text/plain": [
       "[64.3550555, 149.9894551, 367.1823818, 46.9150892, 269.57506]"
      ]
     },
     "execution_count": 21,
     "metadata": {},
     "output_type": "execute_result"
    }
   ],
   "source": [
    "precos=[134.43,313.31,767,98,563.11]\n",
    "impostos=list(map(lambda preco:preco*0.4787254,precos))\n",
    "print(impostos)\n",
    "impostos1=[round(num,7) for num  in impostos]\n",
    "impostos1"
   ]
  },
  {
   "cell_type": "code",
   "execution_count": 76,
   "id": "a093c68c",
   "metadata": {},
   "outputs": [
    {
     "name": "stdout",
     "output_type": "stream",
     "text": [
      "[53.772000000000006, 125.32400000000001, 306.8, 39.2, 225.24400000000003]\n",
      "[53.77, 125.32, 306.8, 39.2, 225.24]\n"
     ]
    }
   ],
   "source": [
    "#Outro exemplo de funcoes lambda (calculando o imposto de uma lista de preços)\n",
    "precos=[134.43,313.31,767,98,563.11]\n",
    "impostos=list(map(lambda x: x*0.4, precos))\n",
    "print(impostos)\n",
    "impostos1=[round(num, 2) for num in impostos]\n",
    "print(impostos1)"
   ]
  },
  {
   "cell_type": "markdown",
   "id": "65f7bbed",
   "metadata": {},
   "source": [
    "### Exemplo VIII - Usos da função map para fazer cálculos dentro de um conjunto de valores (geralmente listas e dicionários)"
   ]
  },
  {
   "cell_type": "code",
   "execution_count": 98,
   "id": "efd45ac1",
   "metadata": {},
   "outputs": [
    {
     "name": "stdout",
     "output_type": "stream",
     "text": [
      "[[2, 4, 8, 16, 32, 64]]\n"
     ]
    }
   ],
   "source": [
    "base=[2,2,2,2,2,2]\n",
    "potencia=[1,2,3,4,5,6]\n",
    "base_potencia=[list(map(pow, base, potencia))]\n",
    "print(base_potencia)"
   ]
  },
  {
   "cell_type": "code",
   "execution_count": 89,
   "id": "1f804762",
   "metadata": {},
   "outputs": [
    {
     "data": {
      "text/plain": [
       "[2, 4, 8, 16, 32, 64]"
      ]
     },
     "execution_count": 89,
     "metadata": {},
     "output_type": "execute_result"
    }
   ],
   "source": [
    "#Uso combinado do map e do lambda para elevar uma constante aos valores de uma lista\n",
    "list(map(lambda x: pow(2,x), potencia ))"
   ]
  },
  {
   "cell_type": "code",
   "execution_count": 97,
   "id": "57b8f71a",
   "metadata": {},
   "outputs": [
    {
     "data": {
      "text/plain": [
       "[1, 4, 9, 16, 25, 36]"
      ]
     },
     "execution_count": 97,
     "metadata": {},
     "output_type": "execute_result"
    }
   ],
   "source": [
    "#Uso combinado do map e do lambda para elevar os valores de uma lista a uma constante\n",
    "list(map(lambda x: pow(x,2), potencia ))"
   ]
  },
  {
   "cell_type": "code",
   "execution_count": null,
   "id": "1bbc9f35",
   "metadata": {},
   "outputs": [],
   "source": []
  }
 ],
 "metadata": {
  "kernelspec": {
   "display_name": "Python 3 (ipykernel)",
   "language": "python",
   "name": "python3"
  },
  "language_info": {
   "codemirror_mode": {
    "name": "ipython",
    "version": 3
   },
   "file_extension": ".py",
   "mimetype": "text/x-python",
   "name": "python",
   "nbconvert_exporter": "python",
   "pygments_lexer": "ipython3",
   "version": "3.9.7"
  }
 },
 "nbformat": 4,
 "nbformat_minor": 5
}
