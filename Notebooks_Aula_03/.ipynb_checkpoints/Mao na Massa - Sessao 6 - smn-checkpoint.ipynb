{
 "cells": [
  {
   "cell_type": "markdown",
   "id": "50dc9829",
   "metadata": {},
   "source": [
    "# 6ª Sessão “Mão na Massa” (tempo: 10 minutos)"
   ]
  },
  {
   "cell_type": "markdown",
   "id": "0d1ddb0b",
   "metadata": {},
   "source": [
    "## Realize as seguintes atividades usando um notebook Jupyter\n",
    "### a) Use a estrutura “for” para gerar uma sequência de números pares até 20.\n",
    "### b) Use a estrutura “for” para gerar números entre 1 e 10, exceto o número 7.\n",
    "### c) Use a estrutura “while” para listar as regiões do Brasil (“Norte”, “Nordeste”, “Sul”, “Centro-Oeste” e Sudeste), exceto a região “Centro-Oeste”."
   ]
  },
  {
   "cell_type": "code",
   "execution_count": 11,
   "id": "85c624a5",
   "metadata": {},
   "outputs": [
    {
     "name": "stdout",
     "output_type": "stream",
     "text": [
      "O número  0  é par\n",
      "O número  2  é par\n",
      "O número  4  é par\n",
      "O número  6  é par\n",
      "O número  8  é par\n",
      "O número  10  é par\n",
      "O número  12  é par\n",
      "O número  14  é par\n",
      "O número  16  é par\n",
      "O número  18  é par\n",
      "O número  20  é par\n"
     ]
    }
   ],
   "source": [
    "# a) Use a estrutura “for” para gerar uma sequência de números pares até 20\n",
    "for numero in range(21):\n",
    "    if numero % 2 == 0:\n",
    "        print(\"O número \", numero,\" é par\")\n",
    "    "
   ]
  },
  {
   "cell_type": "code",
   "execution_count": 13,
   "id": "9ebc0721",
   "metadata": {},
   "outputs": [
    {
     "name": "stdout",
     "output_type": "stream",
     "text": [
      "Número é: 1\n",
      "Número é: 2\n",
      "Número é: 3\n",
      "Número é: 4\n",
      "Número é: 5\n",
      "Número é: 6\n",
      "Número é: 8\n",
      "Número é: 9\n",
      "Número é: 10\n"
     ]
    }
   ],
   "source": [
    "# b) Use a estrutura “for” para gerar números entre 1 e 10, exceto o número 7 - (1° Método).\n",
    "\n",
    "for numero in range(1, 11):\n",
    "    if numero == 7:\n",
    "        continue\n",
    "        \n",
    "    print(\"Número é: \" + str(numero))"
   ]
  },
  {
   "cell_type": "code",
   "execution_count": 17,
   "id": "8dce9227",
   "metadata": {},
   "outputs": [
    {
     "name": "stdout",
     "output_type": "stream",
     "text": [
      "1\n",
      "2\n",
      "3\n",
      "4\n",
      "5\n",
      "6\n",
      "8\n",
      "9\n",
      "10\n"
     ]
    }
   ],
   "source": [
    "# b) Use a estrutura “for” para gerar números entre 1 e 10, exceto o número 7 - (2° Método).\n",
    "\n",
    "for numero in range(1, 11):\n",
    "    if numero != 7:\n",
    "        print(numero)"
   ]
  },
  {
   "cell_type": "code",
   "execution_count": 11,
   "id": "5f28fdfb",
   "metadata": {},
   "outputs": [
    {
     "name": "stdout",
     "output_type": "stream",
     "text": [
      "Norte\n",
      "Nordeste\n",
      "Sul\n",
      "Sudeste\n"
     ]
    }
   ],
   "source": [
    "# c) Use a estrutura “while” para listar as regiões do Brasil (“Norte”, “Nordeste”, “Sul”, “Centro-Oeste” e Sudeste), \n",
    "#     exceto a região “Centro-Oeste” - (Método 1).\n",
    "\n",
    "regioes = [\"Norte\", \"Nordeste\", \"Sul\", \"Centro-Oeste\", \"Sudeste\"]\n",
    "while regioes:\n",
    "    r = regioes.pop(0)\n",
    "    if r == \"Centro-Oeste\":\n",
    "        continue\n",
    "    print(r)\n",
    "    "
   ]
  },
  {
   "cell_type": "code",
   "execution_count": 37,
   "id": "b3459966",
   "metadata": {},
   "outputs": [
    {
     "name": "stdout",
     "output_type": "stream",
     "text": [
      "Norte\n",
      "Nordeste\n",
      "Sul\n",
      "Sudeste\n"
     ]
    }
   ],
   "source": [
    "# c) Use a estrutura “while” para listar as regiões do Brasil (“Norte”, “Nordeste”, “Sul”, “Centro-Oeste” e Sudeste), \n",
    "#     exceto a região “Centro-Oeste” - (Método 2).\n",
    "\n",
    "regioes = [\"Norte\", \"Nordeste\", \"Sul\", \"Centro-Oeste\", \"Sudeste\"]\n",
    "x = 0\n",
    "while x < len(regioes):\n",
    "    regiao = regioes[x]\n",
    "    if regiao == \"Centro-Oeste\":\n",
    "        x += 1\n",
    "        continue\n",
    "    print(regioes[x])\n",
    "    x += 1"
   ]
  },
  {
   "cell_type": "code",
   "execution_count": null,
   "id": "4cda8323",
   "metadata": {},
   "outputs": [],
   "source": []
  },
  {
   "cell_type": "code",
   "execution_count": null,
   "id": "a707b15b",
   "metadata": {},
   "outputs": [],
   "source": []
  },
  {
   "cell_type": "code",
   "execution_count": null,
   "id": "285561bb",
   "metadata": {},
   "outputs": [],
   "source": []
  }
 ],
 "metadata": {
  "kernelspec": {
   "display_name": "Python 3 (ipykernel)",
   "language": "python",
   "name": "python3"
  },
  "language_info": {
   "codemirror_mode": {
    "name": "ipython",
    "version": 3
   },
   "file_extension": ".py",
   "mimetype": "text/x-python",
   "name": "python",
   "nbconvert_exporter": "python",
   "pygments_lexer": "ipython3",
   "version": "3.9.7"
  }
 },
 "nbformat": 4,
 "nbformat_minor": 5
}
