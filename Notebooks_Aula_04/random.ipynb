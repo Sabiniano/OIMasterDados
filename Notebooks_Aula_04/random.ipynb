{
 "cells": [
  {
   "cell_type": "markdown",
   "id": "d9603e88",
   "metadata": {},
   "source": [
    "# Números Aleatórios"
   ]
  },
  {
   "cell_type": "code",
   "execution_count": 3,
   "id": "c5af4989",
   "metadata": {},
   "outputs": [
    {
     "name": "stdout",
     "output_type": "stream",
     "text": [
      "[1, 21, 64, 77]\n"
     ]
    }
   ],
   "source": [
    "from random import randint\n",
    "AP_X = [randint(0, 100), randint(0, 100), randint(0, 100), randint(0, 100)]\n",
    "print(AP_X)"
   ]
  },
  {
   "cell_type": "code",
   "execution_count": 5,
   "id": "b3d5aed3",
   "metadata": {},
   "outputs": [
    {
     "data": {
      "text/plain": [
       "[34, 77, 25, 89]"
      ]
     },
     "execution_count": 5,
     "metadata": {},
     "output_type": "execute_result"
    }
   ],
   "source": [
    "import random\n",
    "result = random.sample(range(0,100), 4)\n",
    "result"
   ]
  },
  {
   "cell_type": "code",
   "execution_count": 7,
   "id": "d82f9743",
   "metadata": {},
   "outputs": [
    {
     "data": {
      "text/plain": [
       "[48, 41, 96, 9]"
      ]
     },
     "execution_count": 7,
     "metadata": {},
     "output_type": "execute_result"
    }
   ],
   "source": [
    "result = []\n",
    "while len(result) != 4:\n",
    "    r = randint(0, 100)\n",
    "    if r not in result:\n",
    "        result.append(r)\n",
    "        \n",
    "result"
   ]
  },
  {
   "cell_type": "code",
   "execution_count": 8,
   "id": "9a1f6503",
   "metadata": {},
   "outputs": [
    {
     "name": "stdout",
     "output_type": "stream",
     "text": [
      "[18, 93, 91, 94]\n"
     ]
    }
   ],
   "source": [
    "from random import sample\n",
    "\n",
    "sorteados = sample(range(0, 101), 4)\n",
    "print(sorteados)"
   ]
  },
  {
   "cell_type": "code",
   "execution_count": 11,
   "id": "e1b29fc6",
   "metadata": {},
   "outputs": [
    {
     "data": {
      "text/plain": [
       "[58, 48, 55, 53, 48, 34]"
      ]
     },
     "execution_count": 11,
     "metadata": {},
     "output_type": "execute_result"
    }
   ],
   "source": [
    "from random import randrange, seed\n",
    "\n",
    "seed(1152021)\n",
    "\n",
    "main_numbers = []\n",
    "\n",
    "for numbers in range(6):\n",
    "  main_numbers.append(randrange(0,61))\n",
    "\n",
    "main_numbers"
   ]
  },
  {
   "cell_type": "code",
   "execution_count": 12,
   "id": "b63ce807",
   "metadata": {},
   "outputs": [
    {
     "name": "stdout",
     "output_type": "stream",
     "text": [
      "[54, 51, 48, 28, 45, 32]\n"
     ]
    }
   ],
   "source": [
    "from random import sample\n",
    "\n",
    "main_numbers = sample(range(61), 6)\n",
    "print(main_numbers)"
   ]
  },
  {
   "cell_type": "code",
   "execution_count": null,
   "id": "b78a883b",
   "metadata": {},
   "outputs": [],
   "source": []
  }
 ],
 "metadata": {
  "kernelspec": {
   "display_name": "Python 3 (ipykernel)",
   "language": "python",
   "name": "python3"
  },
  "language_info": {
   "codemirror_mode": {
    "name": "ipython",
    "version": 3
   },
   "file_extension": ".py",
   "mimetype": "text/x-python",
   "name": "python",
   "nbconvert_exporter": "python",
   "pygments_lexer": "ipython3",
   "version": "3.9.7"
  }
 },
 "nbformat": 4,
 "nbformat_minor": 5
}
