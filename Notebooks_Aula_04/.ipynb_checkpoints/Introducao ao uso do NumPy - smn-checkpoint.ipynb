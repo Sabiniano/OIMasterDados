{
 "cells": [
  {
   "cell_type": "code",
   "execution_count": 1,
   "id": "31c302b2",
   "metadata": {},
   "outputs": [],
   "source": [
    "# Importando o pacote numpy\n",
    "\n",
    "import numpy as np"
   ]
  },
  {
   "cell_type": "code",
   "execution_count": 2,
   "id": "c8d83799",
   "metadata": {},
   "outputs": [
    {
     "name": "stdout",
     "output_type": "stream",
     "text": [
      "1.21.3\n"
     ]
    }
   ],
   "source": [
    "# Verificando a versão do numpy\n",
    "\n",
    "print(np.__version__)"
   ]
  },
  {
   "cell_type": "code",
   "execution_count": 3,
   "id": "7da9ef53",
   "metadata": {},
   "outputs": [
    {
     "data": {
      "text/plain": [
       "numpy.ndarray"
      ]
     },
     "execution_count": 3,
     "metadata": {},
     "output_type": "execute_result"
    }
   ],
   "source": [
    "# Exemplo 1 - Criando os primeiros arrays no numpy\n",
    "\n",
    "arr = np.array([1, 2, 3, 4, 5])\n",
    "type(arr)"
   ]
  },
  {
   "cell_type": "code",
   "execution_count": 6,
   "id": "8eb18615",
   "metadata": {},
   "outputs": [
    {
     "data": {
      "text/plain": [
       "array([[1, 4, 5],\n",
       "       [7, 8, 9]])"
      ]
     },
     "execution_count": 6,
     "metadata": {},
     "output_type": "execute_result"
    }
   ],
   "source": [
    "# Exemplo 2 - Criando um array bidimensional\n",
    "\n",
    "arr2 = np.array([(1, 4, 5), (7, 8, 9)])\n",
    "arr2"
   ]
  },
  {
   "cell_type": "code",
   "execution_count": 10,
   "id": "fb6db2a7",
   "metadata": {},
   "outputs": [
    {
     "name": "stdout",
     "output_type": "stream",
     "text": [
      "[[0. 0. 0.]\n",
      " [0. 0. 0.]\n",
      " [0. 0. 0.]\n",
      " [0. 0. 0.]]\n"
     ]
    }
   ],
   "source": [
    "# Exemplo 3 - Criando uma matriz cheia de zeros, com dimensão especifica\n",
    "\n",
    "arr = np.zeros((4,3))\n",
    "print(arr)"
   ]
  },
  {
   "cell_type": "code",
   "execution_count": 11,
   "id": "48a7db15",
   "metadata": {},
   "outputs": [
    {
     "name": "stdout",
     "output_type": "stream",
     "text": [
      "[[1. 1. 1. 1. 1. 1. 1.]\n",
      " [1. 1. 1. 1. 1. 1. 1.]\n",
      " [1. 1. 1. 1. 1. 1. 1.]\n",
      " [1. 1. 1. 1. 1. 1. 1.]]\n",
      "(4, 7)\n"
     ]
    }
   ],
   "source": [
    "# Exemplo 4 - Criando uma matriz cheia de uns, com dimensão especifica\n",
    "\n",
    "arr = np.ones((4,7))\n",
    "print(arr)\n",
    "print(arr.shape)"
   ]
  },
  {
   "cell_type": "code",
   "execution_count": 12,
   "id": "46771c7d",
   "metadata": {},
   "outputs": [
    {
     "name": "stdout",
     "output_type": "stream",
     "text": [
      "[[1. 0. 0. 0. 0. 0. 0. 0.]\n",
      " [0. 1. 0. 0. 0. 0. 0. 0.]\n",
      " [0. 0. 1. 0. 0. 0. 0. 0.]\n",
      " [0. 0. 0. 1. 0. 0. 0. 0.]\n",
      " [0. 0. 0. 0. 1. 0. 0. 0.]\n",
      " [0. 0. 0. 0. 0. 1. 0. 0.]\n",
      " [0. 0. 0. 0. 0. 0. 1. 0.]\n",
      " [0. 0. 0. 0. 0. 0. 0. 1.]]\n"
     ]
    }
   ],
   "source": [
    "# Exemplo 5 - Criando uma matriz com uns na diagonal principal e zero no resto\n",
    "\n",
    "arr = np.eye(8)\n",
    "print(arr)"
   ]
  },
  {
   "cell_type": "code",
   "execution_count": 13,
   "id": "02fe79e9",
   "metadata": {},
   "outputs": [
    {
     "name": "stdout",
     "output_type": "stream",
     "text": [
      "[0.  0.9 1.8 2.7 3.6 4.5 5.4 6.3 7.2 8.1 9.  9.9]\n",
      "[ 1  6 11 16 21 26 31 36 41 46]\n"
     ]
    }
   ],
   "source": [
    "# Gerando arrays com sequencias de dados (estilo range)\n",
    "\n",
    "a = np.arange(0, 10, 0.9)\n",
    "print(a)\n",
    "b = np.arange(1, 50, 5)\n",
    "print(b)"
   ]
  },
  {
   "cell_type": "code",
   "execution_count": 14,
   "id": "c6581241",
   "metadata": {},
   "outputs": [
    {
     "name": "stdout",
     "output_type": "stream",
     "text": [
      "[ 0.   2.5  5.   7.5 10. ]\n"
     ]
    }
   ],
   "source": [
    "# Gerando  arrays com n dados dentro de um intervalo especifico\n",
    "\n",
    "c = np.linspace(0, 10, 5)  # 5 numeros entre o e 10, igualmente espaçados\n",
    "print(c)"
   ]
  },
  {
   "cell_type": "code",
   "execution_count": 17,
   "id": "47856438",
   "metadata": {},
   "outputs": [
    {
     "name": "stdout",
     "output_type": "stream",
     "text": [
      "[0 1 2 2 2 3 4 5 6 7]\n",
      "\n",
      "[[  5   9  11]\n",
      " [ -4  -3   7]\n",
      " [-10  11  21]]\n"
     ]
    }
   ],
   "source": [
    "# ordenamento de arrays\n",
    "\n",
    "a1 = np.array([3, 5, 2, 1, 6, 7, 2, 0, 4, 2])\n",
    "print(np.sort(a1))\n",
    "print()\n",
    "\n",
    "a2 = np.array([(5, 9, 11), (-3, -4, 7), (11, 21, -10)])\n",
    "print(np.sort(a2))\n",
    "\n"
   ]
  },
  {
   "cell_type": "code",
   "execution_count": 18,
   "id": "a88c4838",
   "metadata": {},
   "outputs": [
    {
     "name": "stdout",
     "output_type": "stream",
     "text": [
      "[[  5   9  11]\n",
      " [ -3  -4   7]\n",
      " [ 11  21 -10]]\n",
      "-10\n",
      "21\n",
      "47\n",
      "5.222222222222222\n",
      "8.929075823495307\n"
     ]
    }
   ],
   "source": [
    "# Exemplo 6 - Estatistícas a partir de um array(matriz)\n",
    "\n",
    "matriz = np.array([(5, 9, 11), (-3, -4, 7), (11, 21, -10)])\n",
    "print(matriz)\n",
    "print(matriz.min())\n",
    "print(matriz.max())\n",
    "print(matriz.sum())\n",
    "print(matriz.mean())\n",
    "print(matriz.std())"
   ]
  },
  {
   "cell_type": "code",
   "execution_count": 20,
   "id": "b1e058ac",
   "metadata": {},
   "outputs": [
    {
     "name": "stdout",
     "output_type": "stream",
     "text": [
      "[[  5   9  11]\n",
      " [ -3  -4   7]\n",
      " [ 11  21 -10]]\n",
      "[[ 15  27  33]\n",
      " [ -9 -12  21]\n",
      " [ 33  63 -30]]\n",
      "[[ 7 11 13]\n",
      " [-1 -2  9]\n",
      " [13 23 -8]]\n"
     ]
    }
   ],
   "source": [
    "# Operações entre matrizes e um escalar\n",
    "\n",
    "print(matriz)\n",
    "print(3*matriz)\n",
    "print(2+matriz)"
   ]
  },
  {
   "cell_type": "code",
   "execution_count": 21,
   "id": "7d938308",
   "metadata": {},
   "outputs": [
    {
     "name": "stdout",
     "output_type": "stream",
     "text": [
      "[48 84 39 54 77 25 16 50 24 27]\n",
      "[4.8 8.4 3.9 5.4 7.7 2.5 1.6 5.  2.4 2.7]\n"
     ]
    }
   ],
   "source": [
    "# Gerando matrizes a partir de números aleatórios\n",
    "# Eh necessário importar um módulo chamado random (do próprio numpy)\n",
    "from numpy import random\n",
    "np.random.seed(1234)\n",
    "aleat = np.random.randint(1, 100, 10)\n",
    "print(aleat)\n",
    "print(aleat / 10)"
   ]
  },
  {
   "cell_type": "code",
   "execution_count": 30,
   "id": "190b9806",
   "metadata": {},
   "outputs": [
    {
     "name": "stdout",
     "output_type": "stream",
     "text": [
      "[48 84 39 54 77 25 16 50 24 27]\n",
      "\n",
      "[0.5488135  0.71518937 0.60276338 0.54488318 0.4236548 ]\n",
      "[4.17022005e-01 7.20324493e-01 1.14374817e-04 3.02332573e-01\n",
      " 1.46755891e-01]\n"
     ]
    }
   ],
   "source": [
    "# A função numpy.random.seed() é usada para definir a semente para o algoritmo gerador de números pseudo-aleatórios\n",
    "#  em Python. O algoritmo gerador de número pseudo-aleatório executa algumas operações predefinidas na semente e produz\n",
    "#  um número pseudo-aleatório na saída. A semente atua como um ponto de partida para o algoritmo. Um número\n",
    "#  pseudo-aleatório é um número que parece aleatório, mas na verdade não é. Na verdade, os computadores são incapazes de\n",
    "#  gerar um número verdadeiramente aleatório porque os computadores são determinísticos e seguem consistentemente um\n",
    "#  determinado conjunto de instruções. A ideia por trás disso é que sempre obteremos o mesmo conjunto de números\n",
    "#  aleatórios para a mesma semente em qualquer máquina.\n",
    "\n",
    "np.random.seed(1234)\n",
    "aleat1 = np.random.randint(1, 100, 10)\n",
    "print(aleat1)\n",
    "print()\n",
    "\n",
    "\n",
    "np.random.seed(1)\n",
    "array = np.random.rand(5)\n",
    "np.random.seed(1)\n",
    "array2 = np.random.rand(5)\n",
    "print(array)\n",
    "print(array2)"
   ]
  },
  {
   "cell_type": "code",
   "execution_count": 31,
   "id": "27dd17fc",
   "metadata": {},
   "outputs": [
    {
     "name": "stdout",
     "output_type": "stream",
     "text": [
      "[17  2 13  8 46  7]\n",
      "[26 21 38 19 21 12]\n",
      "[43 23 51 27 67 19]\n"
     ]
    }
   ],
   "source": [
    "# Operações entre arrays\n",
    "\n",
    "a = np.random.randint(1, 60, 6)\n",
    "print(a)\n",
    "b = np.random.randint(1, 50, 6)\n",
    "print(b)\n",
    "print(a+b)"
   ]
  },
  {
   "cell_type": "code",
   "execution_count": 33,
   "id": "707e87d5",
   "metadata": {},
   "outputs": [
    {
     "name": "stdout",
     "output_type": "stream",
     "text": [
      "[[50 58  4  5 25 50]\n",
      " [44 13 27 53 17 46]\n",
      " [52 42 19 16  1  5]]\n",
      "[[26 48 35 24  8 27]\n",
      " [26 41 23 10  4 40]\n",
      " [24 37 28 38 58 20]]\n",
      "[[1300 2784  140  120  200 1350]\n",
      " [1144  533  621  530   68 1840]\n",
      " [1248 1554  532  608   58  100]]\n"
     ]
    }
   ],
   "source": [
    "# Operações entre arrays - A falsa multiplicacao de matrizes\n",
    "# Atenção para o falso processo de multiplicação de matrizes. Perceba que o que ocorre é uma simples multiplicação de\n",
    "#  números entre os elementos das respectivas posições das matrizes a1 e a2.\n",
    "\n",
    "a1 = np.random.randint(1, 60, [3, 6])\n",
    "print(a1)\n",
    "a2 = np.random.randint(1, 60, [3, 6])\n",
    "print(a2)\n",
    "print(a1 * a2)"
   ]
  },
  {
   "cell_type": "code",
   "execution_count": 34,
   "id": "4f98ac88",
   "metadata": {},
   "outputs": [
    {
     "name": "stdout",
     "output_type": "stream",
     "text": [
      "[[7 9]\n",
      " [1 3]\n",
      " [8 8]]\n",
      "[[8 4 1]\n",
      " [9 8 8]]\n"
     ]
    },
    {
     "data": {
      "text/plain": [
       "array([[137, 100,  79],\n",
       "       [ 35,  28,  25],\n",
       "       [136,  96,  72]])"
      ]
     },
     "execution_count": 34,
     "metadata": {},
     "output_type": "execute_result"
    }
   ],
   "source": [
    "# A verdadeira multiplicação de matrizes\n",
    "# Número de colunas da primeira matriz tem que ser igual ao número de linhas da segunda matriz\n",
    "\n",
    "a = np.random.randint(1, 10, [3, 2])\n",
    "print(a)\n",
    "b = np.random.randint(1, 10, [2, 3])\n",
    "print(b)\n",
    "\n",
    "# Multiplicação das matrizes a e b ( o resultado sera o numero de linhas de a vezes o numero de colunas de b)\n",
    "a.dot(b)"
   ]
  },
  {
   "cell_type": "code",
   "execution_count": 35,
   "id": "da94987c",
   "metadata": {},
   "outputs": [
    {
     "name": "stdout",
     "output_type": "stream",
     "text": [
      "[[8 4 1]\n",
      " [9 8 8]]\n",
      "(2, 3)\n",
      "[[8 9]\n",
      " [4 8]\n",
      " [1 8]]\n"
     ]
    }
   ],
   "source": [
    "# Transposição de array\n",
    "\n",
    "print(b)\n",
    "print(b.shape) # Tamanho da matriz\n",
    "print(b.T)     # Transposição da matriz"
   ]
  },
  {
   "cell_type": "code",
   "execution_count": 36,
   "id": "735e0f53",
   "metadata": {},
   "outputs": [
    {
     "name": "stdout",
     "output_type": "stream",
     "text": [
      "[False False False False]\n",
      "[ True  True  True  True]\n",
      "[False  True  True False]\n",
      "[ True False False  True]\n"
     ]
    }
   ],
   "source": [
    "# Comparação entre arrays (elemento a elemento)\n",
    "\n",
    "a = np.array([1, 4, 7, 10])\n",
    "b = np.array([2, 1, 5, 11])\n",
    "print(a == b)\n",
    "print(a != b)\n",
    "print(a > b)\n",
    "print(a < b)"
   ]
  },
  {
   "cell_type": "code",
   "execution_count": 37,
   "id": "18487abb",
   "metadata": {},
   "outputs": [
    {
     "name": "stdout",
     "output_type": "stream",
     "text": [
      "False\n",
      "True\n"
     ]
    }
   ],
   "source": [
    "# Comparação entre array (array inteiro)\n",
    "\n",
    "print(np.array_equal(a, b))\n",
    "c = np.array([5, 3])\n",
    "d = np.array([5, 3])\n",
    "print(np.array_equal(c, d))"
   ]
  },
  {
   "cell_type": "code",
   "execution_count": 38,
   "id": "483d7ecd",
   "metadata": {},
   "outputs": [
    {
     "name": "stdout",
     "output_type": "stream",
     "text": [
      "[[2 2 4 1]\n",
      " [9 7 5 6]\n",
      " [7 3 6 8]\n",
      " [9 5 5 8]]\n",
      "O determinante da matriz A é : 42.00000000000004\n",
      "A inversa da matriz A é : [[ 1.0952381  -1.54761905 -1.76190476  2.78571429]\n",
      " [-0.9047619   1.45238095  1.23809524 -2.21428571]\n",
      " [ 0.38095238 -0.19047619 -0.04761905  0.14285714]\n",
      " [-0.9047619   0.95238095  1.23809524 -1.71428571]]\n"
     ]
    }
   ],
   "source": [
    "# Determinante da matriz\n",
    "A = np.random.randint(1, 10, [4, 4])\n",
    "print(A)\n",
    "# Determinante da matriz\n",
    "print('O determinante da matriz A é :', np.linalg.det(A)) # Muitas funções de algebra linear estão no modulo linalg do NumPy\n",
    "# Inversa da matriz A\n",
    "print('A inversa da matriz A é :', np.linalg.inv(A))"
   ]
  },
  {
   "cell_type": "code",
   "execution_count": 39,
   "id": "0cea2375",
   "metadata": {},
   "outputs": [
    {
     "name": "stdout",
     "output_type": "stream",
     "text": [
      "22\n",
      "5.5\n",
      "3.3541019662496847\n"
     ]
    }
   ],
   "source": [
    "# Algumas funções matematicas presentes\n",
    "\n",
    "print(np.sum(a))    # Soma dos elemetos do array\n",
    "print(np.mean(a))   # Média dos elementos do array\n",
    "print(np.std(a))    # Desvio padrão dos elementos do array"
   ]
  },
  {
   "cell_type": "code",
   "execution_count": null,
   "id": "65978e21",
   "metadata": {},
   "outputs": [],
   "source": []
  }
 ],
 "metadata": {
  "kernelspec": {
   "display_name": "Python 3 (ipykernel)",
   "language": "python",
   "name": "python3"
  },
  "language_info": {
   "codemirror_mode": {
    "name": "ipython",
    "version": 3
   },
   "file_extension": ".py",
   "mimetype": "text/x-python",
   "name": "python",
   "nbconvert_exporter": "python",
   "pygments_lexer": "ipython3",
   "version": "3.9.7"
  }
 },
 "nbformat": 4,
 "nbformat_minor": 5
}
