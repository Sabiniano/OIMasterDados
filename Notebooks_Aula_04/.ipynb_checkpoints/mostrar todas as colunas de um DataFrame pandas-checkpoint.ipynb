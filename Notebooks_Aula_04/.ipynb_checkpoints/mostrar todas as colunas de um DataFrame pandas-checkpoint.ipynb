{
 "cells": [
  {
   "cell_type": "markdown",
   "id": "e7f6f7a2",
   "metadata": {},
   "source": [
    "# Mostrar todas as colunas de um Pandas DataFrame"
   ]
  },
  {
   "cell_type": "code",
   "execution_count": null,
   "id": "6a5b06f7",
   "metadata": {},
   "outputs": [],
   "source": [
    "# Em exemplos da vida real, encontramos grandes conjuntos de dados contendo centenas e milhares de filas e colunas. \n",
    "# Para trabalharmos com tais grandes pedaços de dados, precisamos de estar familiarizados com as linhas, colunas, e \n",
    "# tipo de dados. Em muitos casos, precisamos também de armazenar os nomes das colunas para facilitar a extracção de \n",
    "# elementos mais tarde ou para outra utilização.\n",
    "\n",
    "# Em situações normais, normalmente utilizamos dataframe.columns para extrair os nomes das colunas de um DataFrame.\n",
    "# Isto pode funcionar para pequenos conjuntos de dados, mas se estivermos a manusear um DataFrame com mais de uma \n",
    "# centena de colunas, este método pode revelar-se não tão eficiente.\n",
    "\n",
    "# O exemplo seguinte ilustrará o problema com dataframe.columns:"
   ]
  },
  {
   "cell_type": "code",
   "execution_count": 1,
   "id": "d9ab323e",
   "metadata": {},
   "outputs": [
    {
     "name": "stdout",
     "output_type": "stream",
     "text": [
      "Int64Index([  0,   1,   2,   3,   4,   5,   6,   7,   8,   9,\n",
      "            ...\n",
      "            140, 141, 142, 143, 144, 145, 146, 147, 148, 149],\n",
      "           dtype='int64', length=150)\n"
     ]
    },
    {
     "data": {
      "text/plain": [
       "pandas.core.indexes.numeric.Int64Index"
      ]
     },
     "execution_count": 1,
     "metadata": {},
     "output_type": "execute_result"
    }
   ],
   "source": [
    "import pandas as pd\n",
    "import numpy as np\n",
    "\n",
    "df = pd.DataFrame(columns = np.arange(150))\n",
    "\n",
    "print(df.columns)\n",
    "type(df.columns)"
   ]
  },
  {
   "cell_type": "code",
   "execution_count": 2,
   "id": "5bbd05dc",
   "metadata": {},
   "outputs": [],
   "source": [
    "# No exemplo acima, geramos um DataFrame vazio com 150 colunas de 0-149, e como se vê na saída, não somos capazes\n",
    "# de ver todas as colunas. "
   ]
  },
  {
   "cell_type": "markdown",
   "id": "cbd78388",
   "metadata": {},
   "source": [
    "# Utilizar uma Lista para mostrar todas as colunas de um Pandas DataFrame"
   ]
  },
  {
   "cell_type": "code",
   "execution_count": 3,
   "id": "c878c576",
   "metadata": {},
   "outputs": [],
   "source": [
    "# Para isso podemos utilizar dois métodos, tolist() ou list(). Ambas estas funções convertem os nomes das colunas\n",
    "# numa lista e dão o mesmo resultado."
   ]
  },
  {
   "cell_type": "code",
   "execution_count": 4,
   "id": "92aebf95",
   "metadata": {},
   "outputs": [],
   "source": [
    "# Exemplo utilizando tolist():"
   ]
  },
  {
   "cell_type": "code",
   "execution_count": 5,
   "id": "2816d642",
   "metadata": {},
   "outputs": [
    {
     "name": "stdout",
     "output_type": "stream",
     "text": [
      "[0, 1, 2, 3, 4, 5, 6, 7, 8, 9, 10, 11, 12, 13, 14, 15, 16, 17, 18, 19, 20, 21, 22, 23, 24, 25, 26, 27, 28, 29, 30, 31, 32, 33, 34, 35, 36, 37, 38, 39, 40, 41, 42, 43, 44, 45, 46, 47, 48, 49, 50, 51, 52, 53, 54, 55, 56, 57, 58, 59, 60, 61, 62, 63, 64, 65, 66, 67, 68, 69, 70, 71, 72, 73, 74, 75, 76, 77, 78, 79, 80, 81, 82, 83, 84, 85, 86, 87, 88, 89, 90, 91, 92, 93, 94, 95, 96, 97, 98, 99, 100, 101, 102, 103, 104, 105, 106, 107, 108, 109, 110, 111, 112, 113, 114, 115, 116, 117, 118, 119, 120, 121, 122, 123, 124, 125, 126, 127, 128, 129, 130, 131, 132, 133, 134, 135, 136, 137, 138, 139, 140, 141, 142, 143, 144, 145, 146, 147, 148, 149]\n"
     ]
    },
    {
     "data": {
      "text/plain": [
       "list"
      ]
     },
     "execution_count": 5,
     "metadata": {},
     "output_type": "execute_result"
    }
   ],
   "source": [
    "import pandas as pd\n",
    "import numpy as np\n",
    "\n",
    "df = pd.DataFrame(columns = np.arange(150))\n",
    "\n",
    "print(df.columns.tolist())\n",
    "type(df.columns.tolist())"
   ]
  },
  {
   "cell_type": "code",
   "execution_count": 6,
   "id": "e2c04371",
   "metadata": {},
   "outputs": [],
   "source": [
    "# Exemplo utilizando list():"
   ]
  },
  {
   "cell_type": "code",
   "execution_count": 7,
   "id": "65734765",
   "metadata": {},
   "outputs": [
    {
     "name": "stdout",
     "output_type": "stream",
     "text": [
      "[0, 1, 2, 3, 4, 5, 6, 7, 8, 9, 10, 11, 12, 13, 14, 15, 16, 17, 18, 19, 20, 21, 22, 23, 24, 25, 26, 27, 28, 29, 30, 31, 32, 33, 34, 35, 36, 37, 38, 39, 40, 41, 42, 43, 44, 45, 46, 47, 48, 49, 50, 51, 52, 53, 54, 55, 56, 57, 58, 59, 60, 61, 62, 63, 64, 65, 66, 67, 68, 69, 70, 71, 72, 73, 74, 75, 76, 77, 78, 79, 80, 81, 82, 83, 84, 85, 86, 87, 88, 89, 90, 91, 92, 93, 94, 95, 96, 97, 98, 99, 100, 101, 102, 103, 104, 105, 106, 107, 108, 109, 110, 111, 112, 113, 114, 115, 116, 117, 118, 119, 120, 121, 122, 123, 124, 125, 126, 127, 128, 129, 130, 131, 132, 133, 134, 135, 136, 137, 138, 139, 140, 141, 142, 143, 144, 145, 146, 147, 148, 149]\n"
     ]
    },
    {
     "data": {
      "text/plain": [
       "list"
      ]
     },
     "execution_count": 7,
     "metadata": {},
     "output_type": "execute_result"
    }
   ],
   "source": [
    "import pandas as pd\n",
    "import numpy as np\n",
    "\n",
    "df = pd.DataFrame(columns = np.arange(150))\n",
    "\n",
    "print(list(df.columns))\n",
    "type(list(df.columns))"
   ]
  },
  {
   "cell_type": "markdown",
   "id": "2068303b",
   "metadata": {},
   "source": [
    "# Utilize um NumPy Array para mostrar todas as colunas de um Pandas DataFrame"
   ]
  },
  {
   "cell_type": "code",
   "execution_count": 8,
   "id": "f68d489c",
   "metadata": {},
   "outputs": [],
   "source": [
    "# Podemos utilizar a função values() para converter o resultado de dataframe.columns para um array NumPy."
   ]
  },
  {
   "cell_type": "code",
   "execution_count": 9,
   "id": "268b0f00",
   "metadata": {},
   "outputs": [],
   "source": [
    "# Exemplo:"
   ]
  },
  {
   "cell_type": "code",
   "execution_count": 10,
   "id": "be691091",
   "metadata": {},
   "outputs": [
    {
     "name": "stdout",
     "output_type": "stream",
     "text": [
      "[  0   1   2   3   4   5   6   7   8   9  10  11  12  13  14  15  16  17\n",
      "  18  19  20  21  22  23  24  25  26  27  28  29  30  31  32  33  34  35\n",
      "  36  37  38  39  40  41  42  43  44  45  46  47  48  49  50  51  52  53\n",
      "  54  55  56  57  58  59  60  61  62  63  64  65  66  67  68  69  70  71\n",
      "  72  73  74  75  76  77  78  79  80  81  82  83  84  85  86  87  88  89\n",
      "  90  91  92  93  94  95  96  97  98  99 100 101 102 103 104 105 106 107\n",
      " 108 109 110 111 112 113 114 115 116 117 118 119 120 121 122 123 124 125\n",
      " 126 127 128 129 130 131 132 133 134 135 136 137 138 139 140 141 142 143\n",
      " 144 145 146 147 148 149]\n"
     ]
    },
    {
     "data": {
      "text/plain": [
       "numpy.ndarray"
      ]
     },
     "execution_count": 10,
     "metadata": {},
     "output_type": "execute_result"
    }
   ],
   "source": [
    "import pandas as pd\n",
    "import numpy as np\n",
    "\n",
    "df = pd.DataFrame(columns = np.arange(150))\n",
    "\n",
    "print(df.columns.values)\n",
    "type(df.columns.values)"
   ]
  },
  {
   "cell_type": "code",
   "execution_count": null,
   "id": "76789f4d",
   "metadata": {},
   "outputs": [],
   "source": []
  }
 ],
 "metadata": {
  "kernelspec": {
   "display_name": "Python 3 (ipykernel)",
   "language": "python",
   "name": "python3"
  },
  "language_info": {
   "codemirror_mode": {
    "name": "ipython",
    "version": 3
   },
   "file_extension": ".py",
   "mimetype": "text/x-python",
   "name": "python",
   "nbconvert_exporter": "python",
   "pygments_lexer": "ipython3",
   "version": "3.9.7"
  }
 },
 "nbformat": 4,
 "nbformat_minor": 5
}
