{
 "cells": [
  {
   "cell_type": "markdown",
   "id": "2fd454de",
   "metadata": {},
   "source": [
    "# 8ª Sessão “Mão na Massa” (tempo: 15 minutos)"
   ]
  },
  {
   "cell_type": "markdown",
   "id": "d7e6c674",
   "metadata": {},
   "source": [
    "## Realize as seguintes atividades usando um notebook Jupyter\n",
    "### a) Explore um pouco o módulo “math”. Que funções ou constantes podem ser interessantes?\n",
    "### b) Crie um array com a seguinte característica: [[3 4 5] [5 6 4] [5 3 2]]. Calcule a dimensão dessa matriz. Qual o determinante e a inversa dessa matriz? Extraia estatísticas descritivas dessa matriz (mínimo, média, máximo e desvio padrão).\n",
    "### c) Gere 2 matrizes com numeros inteiros aleatórios e promova a multiplicação entre elas. Houve algum erro? Qual a condição para que seja possível a multiplicação de 2 matrizes? Qual deve ser o formato da matriz resultante?\n",
    "### d) Gere um array que seja uma sequência de números de 0 a 10, com razão de 1.2.\n",
    "### e) Gere um array que seja uma sequência de números de 100 a 10, com razão de -15.\n",
    "### f) Gere uma matriz de 6x6, sendo cada linha uma sugestão aleatória de dezenas para um jogo da megasena."
   ]
  },
  {
   "cell_type": "markdown",
   "id": "cfc77f5a",
   "metadata": {},
   "source": [
    "### a) Explore um pouco o módulo “math”. Que funções ou constantes podem ser interessantes?"
   ]
  },
  {
   "cell_type": "code",
   "execution_count": 2,
   "id": "c0b81373",
   "metadata": {},
   "outputs": [
    {
     "name": "stdout",
     "output_type": "stream",
     "text": [
      "3\n",
      "10\n",
      "120\n",
      "8.0\n",
      "9.0\n"
     ]
    }
   ],
   "source": [
    "# math - Este módulo fornece acesso às funções matemáticas. Segue exemplos de algumas funções matemáticas\n",
    "\n",
    "import math\n",
    "\n",
    "# math.ceil(x) - Return the ceiling of x, the smallest integer greater than or equal to x.\n",
    "a = 3.0\n",
    "print(math.ceil(a))\n",
    "\n",
    "# math.comb(n, k) - Retorna o número de maneiras de escolher k itens de n itens sem repetição e sem ordem.\n",
    "# Avalia para n! / (k! * (n - k)!) quando k <= n e avalia para zero quando k > n.\n",
    "print(math.comb(5, 2))\n",
    "\n",
    "# math.factorial(x) - Retorna x fatorial como um inteiro. Levanta ValueError se x não for integral ou for negativo.\n",
    "print(math.factorial(5))\n",
    "\n",
    "# math.pow(x, y) - Retorna x elevado à potência y.\n",
    "print(math.pow(2,3))\n",
    "\n",
    "# math.sqrt(x) - Retorna a raiz quadrada de x.\n",
    "print(math.sqrt(81))"
   ]
  },
  {
   "cell_type": "markdown",
   "id": "bbb75c7c",
   "metadata": {},
   "source": [
    "### b) Crie um array com a seguinte característica: [[3 4 5] [5 6 4] [5 3 2]]. Calcule a dimensão dessa matriz.  Qual o determinante e a inversa dessa matriz? Extraia estatísticas descritivas dessa matriz (mínimo, média, máximo e desvio padrão)."
   ]
  },
  {
   "cell_type": "code",
   "execution_count": 3,
   "id": "9c7f4c84",
   "metadata": {},
   "outputs": [],
   "source": [
    "# importe o modulo numpy\n",
    "\n",
    "import numpy as np"
   ]
  },
  {
   "cell_type": "code",
   "execution_count": 4,
   "id": "21c83e44",
   "metadata": {},
   "outputs": [
    {
     "name": "stdout",
     "output_type": "stream",
     "text": [
      "[[3 4 5]\n",
      " [5 6 4]\n",
      " [5 3 2]]\n",
      "A dimensão da matriz é: (3, 3)\n",
      "O determinante da matriz é: -35.00000000000001\n",
      "A inversa da matriz é: [[ 0.         -0.2         0.4       ]\n",
      " [-0.28571429  0.54285714 -0.37142857]\n",
      " [ 0.42857143 -0.31428571  0.05714286]]\n",
      "O menor elemento (minimo) da matriz é: 2\n",
      "O media dos elementos da matriz é: 4.111111111111111\n",
      "O maior elemento (maximo) da matriz é: 6\n",
      "O desvio padrão da matriz é: 1.1967032904743342\n"
     ]
    }
   ],
   "source": [
    "# Definição da matriz\n",
    "arr = np.array([(3, 4, 5), (5, 6, 4), (5, 3, 2)])\n",
    "print(arr)\n",
    "\n",
    "# Dimensão\n",
    "print(\"A dimensão da matriz é:\", arr.shape)\n",
    "\n",
    "# Determinante\n",
    "print(\"O determinante da matriz é:\", np.linalg.det(arr))\n",
    "\n",
    "# Inversa\n",
    "print(\"A inversa da matriz é:\", np.linalg.inv(arr))\n",
    "\n",
    "# Extraia estatísticas descritivas dessa matriz (mínimo, média, máximo e desvio padrão)\n",
    "print(\"O menor elemento (minimo) da matriz é:\", np.min(arr))\n",
    "print(\"O media dos elementos da matriz é:\", np.mean(arr))\n",
    "print(\"O maior elemento (maximo) da matriz é:\", np.max(arr))\n",
    "print(\"O desvio padrão da matriz é:\", np.std(arr))"
   ]
  },
  {
   "cell_type": "markdown",
   "id": "b840d8bd",
   "metadata": {},
   "source": [
    "### c) Gere 2 matrizes com numeros inteiros aleatórios e promova a multiplicação entre elas. Houve algum erro? Qual a condição para que seja possível a multiplicação de 2 matrizes? Qual deve ser o formato da matriz resultante?"
   ]
  },
  {
   "cell_type": "code",
   "execution_count": 5,
   "id": "82b67f55",
   "metadata": {},
   "outputs": [
    {
     "name": "stdout",
     "output_type": "stream",
     "text": [
      "[[4 7 9]\n",
      " [6 1 9]]\n",
      "[[7 5]\n",
      " [2 5]\n",
      " [3 5]]\n"
     ]
    },
    {
     "data": {
      "text/plain": [
       "array([[ 69, 100],\n",
       "       [ 71,  80]])"
      ]
     },
     "execution_count": 5,
     "metadata": {},
     "output_type": "execute_result"
    }
   ],
   "source": [
    "# Para multiplicar matrizes, o número de colunas da primeira matriz\n",
    "# tem que ser igual ao número de linhas da segunda matriz.\n",
    "\n",
    "a = np.random.randint(1, 10, [2, 3])\n",
    "print(a)\n",
    "b = np.random.randint(1, 10, [3, 2])\n",
    "print(b)\n",
    "\n",
    "# Multiplicação das matrizes a e b ( o resultado sera o numero de linhas de a vezes o numero de colunas de b)\n",
    "a.dot(b)\n"
   ]
  },
  {
   "cell_type": "markdown",
   "id": "34d9e98f",
   "metadata": {},
   "source": [
    "### d) Gere um array que seja uma sequência de números de 0 a 10, com razão de 1.2."
   ]
  },
  {
   "cell_type": "code",
   "execution_count": 6,
   "id": "a64679ec",
   "metadata": {},
   "outputs": [
    {
     "name": "stdout",
     "output_type": "stream",
     "text": [
      "[0.  1.2 2.4 3.6 4.8 6.  7.2 8.4 9.6]\n"
     ]
    }
   ],
   "source": [
    "a = np.arange(0, 10, 1.2)\n",
    "print(a)"
   ]
  },
  {
   "cell_type": "markdown",
   "id": "ccbcee03",
   "metadata": {},
   "source": [
    "### e) Gere um array que seja uma sequência de números de 100 a 10, com razão de -15."
   ]
  },
  {
   "cell_type": "code",
   "execution_count": 7,
   "id": "1efe41e8",
   "metadata": {},
   "outputs": [
    {
     "name": "stdout",
     "output_type": "stream",
     "text": [
      "[100  85  70  55  40  25]\n"
     ]
    }
   ],
   "source": [
    "a = np.arange(100, 10, -15)\n",
    "print(a)"
   ]
  },
  {
   "cell_type": "markdown",
   "id": "3ad9a01c",
   "metadata": {},
   "source": [
    "### f) Gere uma matriz de 6x6, sendo cada linha uma sugestão aleatória de dezenas para um jogo da megasena."
   ]
  },
  {
   "cell_type": "code",
   "execution_count": 9,
   "id": "53bc2a97",
   "metadata": {},
   "outputs": [
    {
     "name": "stdout",
     "output_type": "stream",
     "text": [
      "[[46 19 51 51 23 51]\n",
      " [54 52 32 46 13  3]\n",
      " [26 52  4 25 15  6]\n",
      " [15 29 44 33 35 35]\n",
      " [30 29 36 31  8 41]\n",
      " [50 12  9 25  7  6]]\n"
     ]
    }
   ],
   "source": [
    "a = np.random.randint(1,61, [6, 6])\n",
    "print(a)"
   ]
  },
  {
   "cell_type": "code",
   "execution_count": 12,
   "id": "5f518882",
   "metadata": {},
   "outputs": [
    {
     "name": "stdout",
     "output_type": "stream",
     "text": [
      "[ 1  6 24 25 31 38]\n",
      "[21 30 50 54 56 58]\n",
      "[ 2 15 39 44 48 59]\n",
      "[21 38 39 41 47 55]\n",
      "[ 3  6  7 46 47 55]\n",
      "[18 19 23 24 46 52]\n"
     ]
    }
   ],
   "source": [
    "x = 1\n",
    "while x < 7:\n",
    "    a = np.arange(1, 61)\n",
    "    np.random.shuffle(a)\n",
    "    np.sort(a[:6])\n",
    "    print(np.sort(a[:6]))\n",
    "    x += 1"
   ]
  },
  {
   "cell_type": "code",
   "execution_count": 10,
   "id": "74d15c36",
   "metadata": {},
   "outputs": [
    {
     "name": "stdout",
     "output_type": "stream",
     "text": [
      "['banana', 'apple', 'cherry']\n"
     ]
    }
   ],
   "source": [
    "# Shuffle a list (reorganize the order of the list items)\n",
    "\n",
    "import random\n",
    "\n",
    "mylist = [\"apple\", \"banana\", \"cherry\"]\n",
    "random.shuffle(mylist)\n",
    "\n",
    "print(mylist)"
   ]
  },
  {
   "cell_type": "code",
   "execution_count": 13,
   "id": "dfc844e6",
   "metadata": {},
   "outputs": [
    {
     "name": "stdout",
     "output_type": "stream",
     "text": [
      "[0, 1, 2, 3, 4]\n",
      "[1, 0, 3, 2, 4]\n"
     ]
    }
   ],
   "source": [
    "l = list(range(5))\n",
    "print(l)\n",
    "# [0, 1, 2, 3, 4]\n",
    "\n",
    "random.shuffle(l)\n",
    "print(l)\n",
    "# [1, 0, 4, 3, 2]"
   ]
  },
  {
   "cell_type": "code",
   "execution_count": 15,
   "id": "543af715",
   "metadata": {},
   "outputs": [
    {
     "name": "stdout",
     "output_type": "stream",
     "text": [
      "[0, 4, 4, 3, 1, 2]\n"
     ]
    }
   ],
   "source": [
    "# l = list(range(5))\n",
    "# print(l)\n",
    "l = [0, 1, 2, 3, 4, 4]\n",
    "\n",
    "random.shuffle(l)\n",
    "print(l)\n",
    "# [1, 0, 4, 3, 2]"
   ]
  },
  {
   "cell_type": "code",
   "execution_count": 18,
   "id": "1e17993e",
   "metadata": {},
   "outputs": [
    {
     "data": {
      "text/plain": [
       "array([ 1,  2,  3,  4,  5,  6,  7,  8,  9, 10, 11, 12, 13, 14, 15, 16, 17,\n",
       "       18, 19, 20, 21, 22, 23, 24, 25, 26, 27, 28, 29, 30, 31, 32, 33, 34,\n",
       "       35, 36, 37, 38, 39, 40, 41, 42, 43, 44, 45, 46, 47, 48, 49, 50, 51,\n",
       "       52, 53, 54, 55, 56, 57, 58, 59, 60])"
      ]
     },
     "execution_count": 18,
     "metadata": {},
     "output_type": "execute_result"
    }
   ],
   "source": [
    "a = np.arange(1,61)\n",
    "a"
   ]
  },
  {
   "cell_type": "code",
   "execution_count": 20,
   "id": "ff2c713e",
   "metadata": {},
   "outputs": [
    {
     "data": {
      "text/plain": [
       "array([50, 57,  8, 10, 12, 26, 48,  5, 31, 52, 36, 35, 32, 20, 18, 45, 16,\n",
       "       38, 25, 44, 54, 17, 34, 42, 51,  3,  9, 14, 22, 24, 49, 27, 30, 41,\n",
       "       11, 47, 55, 59,  4, 53, 23,  7, 19, 46, 56, 29, 21, 13, 37, 58,  6,\n",
       "       15,  1,  2, 43, 60, 40, 39, 33, 28])"
      ]
     },
     "execution_count": 20,
     "metadata": {},
     "output_type": "execute_result"
    }
   ],
   "source": [
    "np.random.shuffle(a)\n",
    "a"
   ]
  },
  {
   "cell_type": "code",
   "execution_count": 21,
   "id": "9a79e0de",
   "metadata": {},
   "outputs": [
    {
     "name": "stdout",
     "output_type": "stream",
     "text": [
      "[ 8 10 12 26 50 57]\n"
     ]
    }
   ],
   "source": [
    "np.sort(a[:6])\n",
    "print(np.sort(a[:6]))"
   ]
  },
  {
   "cell_type": "code",
   "execution_count": null,
   "id": "3c98d8e2",
   "metadata": {},
   "outputs": [],
   "source": []
  }
 ],
 "metadata": {
  "kernelspec": {
   "display_name": "Python 3 (ipykernel)",
   "language": "python",
   "name": "python3"
  },
  "language_info": {
   "codemirror_mode": {
    "name": "ipython",
    "version": 3
   },
   "file_extension": ".py",
   "mimetype": "text/x-python",
   "name": "python",
   "nbconvert_exporter": "python",
   "pygments_lexer": "ipython3",
   "version": "3.9.7"
  }
 },
 "nbformat": 4,
 "nbformat_minor": 5
}
