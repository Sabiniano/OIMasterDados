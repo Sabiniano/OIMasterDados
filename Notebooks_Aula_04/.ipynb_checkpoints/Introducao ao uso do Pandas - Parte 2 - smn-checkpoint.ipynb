{
 "cells": [
  {
   "cell_type": "code",
   "execution_count": 5,
   "id": "d4fdac41",
   "metadata": {},
   "outputs": [],
   "source": [
    "import pandas as pd"
   ]
  },
  {
   "cell_type": "code",
   "execution_count": 6,
   "id": "22827fc3",
   "metadata": {},
   "outputs": [
    {
     "name": "stdout",
     "output_type": "stream",
     "text": [
      "     Nome  Idade\n",
      "0   Tonho     15\n",
      "1   Nicão     26\n",
      "2     Jão     17\n",
      "3  Pedrão     28\n"
     ]
    }
   ],
   "source": [
    "# Gerando um dataframe\n",
    "dataframe = pd.DataFrame({\"Nome\": ['Tonho', 'Nicão', 'Jão', 'Pedrão'], \"Idade\": [15, 26, 17, 28]})\n",
    "print(dataframe)"
   ]
  },
  {
   "cell_type": "code",
   "execution_count": 7,
   "id": "bab719e9",
   "metadata": {},
   "outputs": [
    {
     "name": "stdout",
     "output_type": "stream",
     "text": [
      "  Nome_Colega  Idade_Anos\n",
      "0       Tonho          15\n",
      "1       Nicão          26\n",
      "2         Jão          17\n",
      "3      Pedrão          28\n"
     ]
    }
   ],
   "source": [
    "# Alterandonomes das colunas - Opcao I\n",
    "dataframe.columns = ['Nome_Colega', 'Idade_Anos']\n",
    "print(dataframe)"
   ]
  },
  {
   "cell_type": "code",
   "execution_count": 9,
   "id": "e5a1510a",
   "metadata": {},
   "outputs": [
    {
     "name": "stdout",
     "output_type": "stream",
     "text": [
      "  Friends_Name  Age_Years\n",
      "0        Tonho         15\n",
      "1        Nicão         26\n",
      "2          Jão         17\n",
      "3       Pedrão         28\n"
     ]
    }
   ],
   "source": [
    "# Alterando nome das colunas - Opcao II\n",
    "dataframe = dataframe.rename(columns = {\"Nome_Colega\" : \"Friends_Name\", \"Idade_Anos\" : \"Age_Years\"})\n",
    "print(dataframe)"
   ]
  },
  {
   "cell_type": "code",
   "execution_count": 14,
   "id": "981599b5",
   "metadata": {},
   "outputs": [
    {
     "name": "stdout",
     "output_type": "stream",
     "text": [
      "     Attrition  Age  StockOptionLevel\n",
      "0          Yes   41                 0\n",
      "1           No   49                 1\n",
      "2          Yes   37                 0\n",
      "3           No   33                 0\n",
      "4           No   27                 1\n",
      "...        ...  ...               ...\n",
      "1465        No   36                 1\n",
      "1466        No   39                 1\n",
      "1467        No   27                 1\n",
      "1468        No   49                 0\n",
      "1469        No   34                 0\n",
      "\n",
      "[1470 rows x 3 columns]\n",
      "     Attrition  StockOptionLevel\n",
      "0          Yes                 0\n",
      "1           No                 1\n",
      "2          Yes                 0\n",
      "3           No                 0\n",
      "4           No                 1\n",
      "...        ...               ...\n",
      "1465        No                 1\n",
      "1466        No                 1\n",
      "1467        No                 1\n",
      "1468        No                 0\n",
      "1469        No                 0\n",
      "\n",
      "[1470 rows x 2 columns]\n"
     ]
    }
   ],
   "source": [
    "# Excluindo a coluna \"Age\" do dataframe People\n",
    "# O comando drop() é bastante útil nessa missão de excluir colunas no dataframe. O parâmetro inPlace=True permite apagar a\n",
    "# coluna no dataframe original, sem precisar renomeá-lo.\n",
    "people = pd.read_csv(\"PeopleAnalytics.txt\", sep = \"\\t\", usecols = [\"Attrition\", \"Age\", \"StockOptionLevel\"])\n",
    "print(people)\n",
    "people.drop([\"Age\"], axis = 1, inplace = True)\n",
    "print(people)"
   ]
  },
  {
   "cell_type": "code",
   "execution_count": 15,
   "id": "c07d771c",
   "metadata": {},
   "outputs": [
    {
     "name": "stdout",
     "output_type": "stream",
     "text": [
      "        Data   Evento  Custo\n",
      "0  10/2/2021   Música  10000\n",
      "1  11/2/2021   Poesia   5000\n",
      "2  12/2/2021   Teatro  15000\n",
      "3  13/2/2021  Comédia   2000\n"
     ]
    }
   ],
   "source": [
    "# Criando um dataset\n",
    "base = pd.DataFrame({'Data':['10/2/2021', '11/2/2021', '12/2/2021', '13/2/2021'],\n",
    "                    'Evento':['Música', 'Poesia', 'Teatro', 'Comédia'],\n",
    "                    'Custo':[10000, 5000, 15000, 2000]})\n",
    "print(base)"
   ]
  },
  {
   "cell_type": "code",
   "execution_count": 16,
   "id": "277d50bd",
   "metadata": {},
   "outputs": [
    {
     "name": "stdout",
     "output_type": "stream",
     "text": [
      "        Data   Evento  Custo  Custo_com_Desconto\n",
      "0  10/2/2021   Música  10000              9000.0\n",
      "1  11/2/2021   Poesia   5000              4500.0\n",
      "2  12/2/2021   Teatro  15000             13500.0\n",
      "3  13/2/2021  Comédia   2000              1800.0\n"
     ]
    }
   ],
   "source": [
    "# Calcula preço com desconto de 10% - Opcao I\n",
    "base['Custo_com_Desconto'] = base.apply(lambda row: row.Custo - (row.Custo * 0.1), axis = 1)\n",
    "print(base)"
   ]
  },
  {
   "cell_type": "code",
   "execution_count": 17,
   "id": "11d5eca6",
   "metadata": {},
   "outputs": [
    {
     "name": "stdout",
     "output_type": "stream",
     "text": [
      "        Data   Evento  Custo  Custo_com_Desconto  Custo_com_Desconto_I\n",
      "0  10/2/2021   Música  10000              9000.0                9000.0\n",
      "1  11/2/2021   Poesia   5000              4500.0                4500.0\n",
      "2  12/2/2021   Teatro  15000             13500.0               13500.0\n",
      "3  13/2/2021  Comédia   2000              1800.0                1800.0\n"
     ]
    }
   ],
   "source": [
    "# Calcula preco com desconto de 10% - Opcao II\n",
    "base['Custo_com_Desconto_I'] = base['Custo'] - (0.1 * base['Custo'])\n",
    "print(base)"
   ]
  },
  {
   "cell_type": "code",
   "execution_count": 19,
   "id": "69da7c1b",
   "metadata": {},
   "outputs": [
    {
     "data": {
      "text/html": [
       "<div>\n",
       "<style scoped>\n",
       "    .dataframe tbody tr th:only-of-type {\n",
       "        vertical-align: middle;\n",
       "    }\n",
       "\n",
       "    .dataframe tbody tr th {\n",
       "        vertical-align: top;\n",
       "    }\n",
       "\n",
       "    .dataframe thead th {\n",
       "        text-align: right;\n",
       "    }\n",
       "</style>\n",
       "<table border=\"1\" class=\"dataframe\">\n",
       "  <thead>\n",
       "    <tr style=\"text-align: right;\">\n",
       "      <th></th>\n",
       "      <th>Data</th>\n",
       "      <th>Evento</th>\n",
       "      <th>Custo</th>\n",
       "      <th>Custo_com_Desconto</th>\n",
       "      <th>Custo_com_Desconto_I</th>\n",
       "      <th>Fix_Custo</th>\n",
       "    </tr>\n",
       "  </thead>\n",
       "  <tbody>\n",
       "    <tr>\n",
       "      <th>0</th>\n",
       "      <td>10/2/2021</td>\n",
       "      <td>Música</td>\n",
       "      <td>10000</td>\n",
       "      <td>9000.0</td>\n",
       "      <td>9000.0</td>\n",
       "      <td>Alto</td>\n",
       "    </tr>\n",
       "    <tr>\n",
       "      <th>1</th>\n",
       "      <td>11/2/2021</td>\n",
       "      <td>Poesia</td>\n",
       "      <td>5000</td>\n",
       "      <td>4500.0</td>\n",
       "      <td>4500.0</td>\n",
       "      <td>Medio</td>\n",
       "    </tr>\n",
       "    <tr>\n",
       "      <th>2</th>\n",
       "      <td>12/2/2021</td>\n",
       "      <td>Teatro</td>\n",
       "      <td>15000</td>\n",
       "      <td>13500.0</td>\n",
       "      <td>13500.0</td>\n",
       "      <td>Alto</td>\n",
       "    </tr>\n",
       "    <tr>\n",
       "      <th>3</th>\n",
       "      <td>13/2/2021</td>\n",
       "      <td>Comédia</td>\n",
       "      <td>2000</td>\n",
       "      <td>1800.0</td>\n",
       "      <td>1800.0</td>\n",
       "      <td>Baixo</td>\n",
       "    </tr>\n",
       "  </tbody>\n",
       "</table>\n",
       "</div>"
      ],
      "text/plain": [
       "        Data   Evento  Custo  Custo_com_Desconto  Custo_com_Desconto_I  \\\n",
       "0  10/2/2021   Música  10000              9000.0                9000.0   \n",
       "1  11/2/2021   Poesia   5000              4500.0                4500.0   \n",
       "2  12/2/2021   Teatro  15000             13500.0               13500.0   \n",
       "3  13/2/2021  Comédia   2000              1800.0                1800.0   \n",
       "\n",
       "  Fix_Custo  \n",
       "0      Alto  \n",
       "1     Medio  \n",
       "2      Alto  \n",
       "3     Baixo  "
      ]
     },
     "execution_count": 19,
     "metadata": {},
     "output_type": "execute_result"
    }
   ],
   "source": [
    "# Categorizando a variavel Custo\n",
    "# Existem inúmeras formas de criar uma variável categorizada a partir de uma variável original (seja ela numérica ou\n",
    "# categórica). O método select() é muito útil nesse contexto.\n",
    "import numpy as np\n",
    "condicoes = [(base[\"Custo\"] <= 2500), (base[\"Custo\"] >2500) & (base[\"Custo\"] <= 5000), (base[\"Custo\"] > 5000)]\n",
    "classe = [\"Baixo\", \"Medio\", \"Alto\"]\n",
    "base['Fix_Custo'] = np.select(condicoes, classe, default = \"Sem Info\")\n",
    "base"
   ]
  },
  {
   "cell_type": "code",
   "execution_count": 20,
   "id": "3f8370d4",
   "metadata": {},
   "outputs": [
    {
     "data": {
      "text/html": [
       "<div>\n",
       "<style scoped>\n",
       "    .dataframe tbody tr th:only-of-type {\n",
       "        vertical-align: middle;\n",
       "    }\n",
       "\n",
       "    .dataframe tbody tr th {\n",
       "        vertical-align: top;\n",
       "    }\n",
       "\n",
       "    .dataframe thead th {\n",
       "        text-align: right;\n",
       "    }\n",
       "</style>\n",
       "<table border=\"1\" class=\"dataframe\">\n",
       "  <thead>\n",
       "    <tr style=\"text-align: right;\">\n",
       "      <th></th>\n",
       "      <th>coluna_I</th>\n",
       "      <th>coluna_II</th>\n",
       "    </tr>\n",
       "  </thead>\n",
       "  <tbody>\n",
       "    <tr>\n",
       "      <th>0</th>\n",
       "      <td>A</td>\n",
       "      <td>5</td>\n",
       "    </tr>\n",
       "    <tr>\n",
       "      <th>1</th>\n",
       "      <td>B</td>\n",
       "      <td>10</td>\n",
       "    </tr>\n",
       "    <tr>\n",
       "      <th>2</th>\n",
       "      <td>C</td>\n",
       "      <td>15</td>\n",
       "    </tr>\n",
       "    <tr>\n",
       "      <th>3</th>\n",
       "      <td>A</td>\n",
       "      <td>20</td>\n",
       "    </tr>\n",
       "    <tr>\n",
       "      <th>4</th>\n",
       "      <td>C</td>\n",
       "      <td>25</td>\n",
       "    </tr>\n",
       "    <tr>\n",
       "      <th>5</th>\n",
       "      <td>C</td>\n",
       "      <td>30</td>\n",
       "    </tr>\n",
       "    <tr>\n",
       "      <th>6</th>\n",
       "      <td>B</td>\n",
       "      <td>35</td>\n",
       "    </tr>\n",
       "    <tr>\n",
       "      <th>7</th>\n",
       "      <td>D</td>\n",
       "      <td>40</td>\n",
       "    </tr>\n",
       "    <tr>\n",
       "      <th>8</th>\n",
       "      <td>D</td>\n",
       "      <td>45</td>\n",
       "    </tr>\n",
       "    <tr>\n",
       "      <th>9</th>\n",
       "      <td>A</td>\n",
       "      <td>50</td>\n",
       "    </tr>\n",
       "  </tbody>\n",
       "</table>\n",
       "</div>"
      ],
      "text/plain": [
       "  coluna_I  coluna_II\n",
       "0        A          5\n",
       "1        B         10\n",
       "2        C         15\n",
       "3        A         20\n",
       "4        C         25\n",
       "5        C         30\n",
       "6        B         35\n",
       "7        D         40\n",
       "8        D         45\n",
       "9        A         50"
      ]
     },
     "execution_count": 20,
     "metadata": {},
     "output_type": "execute_result"
    }
   ],
   "source": [
    "# Agrupando os dados\n",
    "df = pd.DataFrame({'coluna_I': ['A', 'B', 'C', 'A', 'C',\n",
    "                               'C', 'B', 'D', 'D', 'A'],\n",
    "                   'coluna_II': [5, 10, 15, 20, 25, 30, \n",
    "                             35, 40, 45, 50]})\n",
    "df"
   ]
  },
  {
   "cell_type": "code",
   "execution_count": 24,
   "id": "d0dd7788",
   "metadata": {},
   "outputs": [
    {
     "data": {
      "text/plain": [
       "coluna_I\n",
       "A    75\n",
       "B    45\n",
       "C    70\n",
       "D    85\n",
       "Name: coluna_II, dtype: int64"
      ]
     },
     "execution_count": 24,
     "metadata": {},
     "output_type": "execute_result"
    }
   ],
   "source": [
    "# Agrupando os dados da coluna I e somando os valores da coluna II para os valores unicos da coluna I - Opcao I\n",
    "df1 = df.groupby('coluna_I')['coluna_II'].sum()\n",
    "df1"
   ]
  },
  {
   "cell_type": "code",
   "execution_count": 26,
   "id": "1327a191",
   "metadata": {},
   "outputs": [
    {
     "data": {
      "text/html": [
       "<div>\n",
       "<style scoped>\n",
       "    .dataframe tbody tr th:only-of-type {\n",
       "        vertical-align: middle;\n",
       "    }\n",
       "\n",
       "    .dataframe tbody tr th {\n",
       "        vertical-align: top;\n",
       "    }\n",
       "\n",
       "    .dataframe thead th {\n",
       "        text-align: right;\n",
       "    }\n",
       "</style>\n",
       "<table border=\"1\" class=\"dataframe\">\n",
       "  <thead>\n",
       "    <tr style=\"text-align: right;\">\n",
       "      <th></th>\n",
       "      <th>coluna_II</th>\n",
       "    </tr>\n",
       "    <tr>\n",
       "      <th>coluna_I</th>\n",
       "      <th></th>\n",
       "    </tr>\n",
       "  </thead>\n",
       "  <tbody>\n",
       "    <tr>\n",
       "      <th>A</th>\n",
       "      <td>75</td>\n",
       "    </tr>\n",
       "    <tr>\n",
       "      <th>B</th>\n",
       "      <td>45</td>\n",
       "    </tr>\n",
       "    <tr>\n",
       "      <th>C</th>\n",
       "      <td>70</td>\n",
       "    </tr>\n",
       "    <tr>\n",
       "      <th>D</th>\n",
       "      <td>85</td>\n",
       "    </tr>\n",
       "  </tbody>\n",
       "</table>\n",
       "</div>"
      ],
      "text/plain": [
       "          coluna_II\n",
       "coluna_I           \n",
       "A                75\n",
       "B                45\n",
       "C                70\n",
       "D                85"
      ]
     },
     "execution_count": 26,
     "metadata": {},
     "output_type": "execute_result"
    }
   ],
   "source": [
    "# Agrupando os dados da coluna I e somando os valores da coluna II para os valores unicos da coluna I - Opcao II\n",
    "df.groupby(\"coluna_I\").agg({\"coluna_II\":sum})"
   ]
  },
  {
   "cell_type": "code",
   "execution_count": null,
   "id": "6ded011b",
   "metadata": {},
   "outputs": [],
   "source": []
  }
 ],
 "metadata": {
  "kernelspec": {
   "display_name": "Python 3 (ipykernel)",
   "language": "python",
   "name": "python3"
  },
  "language_info": {
   "codemirror_mode": {
    "name": "ipython",
    "version": 3
   },
   "file_extension": ".py",
   "mimetype": "text/x-python",
   "name": "python",
   "nbconvert_exporter": "python",
   "pygments_lexer": "ipython3",
   "version": "3.9.7"
  }
 },
 "nbformat": 4,
 "nbformat_minor": 5
}
